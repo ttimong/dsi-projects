{
 "cells": [
  {
   "cell_type": "markdown",
   "metadata": {},
   "source": [
    "<img src=\"http://imgur.com/1ZcRyrc.png\" style=\"float: left; margin: 15px; height: 80px\">\n",
    "\n",
    "# Project 1\n",
    "\n",
    "### Building \"Pokemon Stay\"\n",
    "\n",
    "---\n",
    "You are an analyst at a \"scrappy\" online gaming company that specializes in remakes of last year's fads.\n",
    "\n",
    "Your boss, who runs the product development team, is convinced that Pokemon Go's fatal flaw was that you had to actually move around outside. She has design mock-ups for a new game called Pokemon Stay: in this version players still need to move, but just from website to website. Pokemon gyms are now popular online destinations, and catching Pokemon in the \"wild\" simply requires browsing the internet for hours in the comfort of your home.\n",
    "\n",
    "She wants you to program a prototype version of the game, and analyze the planned content to help the team calibrate the design."
   ]
  },
  {
   "cell_type": "markdown",
   "metadata": {},
   "source": [
    "#### Package imports\n",
    "\n",
    "The pprint package below is the only package imported here, and it's not even strictly required to do any of the project. Printing python variables and objects with pprint can help to format them in a \"prettier\" way."
   ]
  },
  {
   "cell_type": "code",
   "execution_count": 1,
   "metadata": {
    "collapsed": true
   },
   "outputs": [],
   "source": [
    "from pprint import pprint\n",
    "import numpy as np\n",
    "from scipy.stats import expon\n",
    "np.random.seed(5)"
   ]
  },
  {
   "cell_type": "markdown",
   "metadata": {},
   "source": [
    "<img src=\"http://imgur.com/l5NasQj.png\" style=\"float: left; margin: 25px 15px 0px 0px; height: 25px\">\n",
    "\n",
    "## 1. Defining a player\n",
    "\n",
    "---\n",
    "\n",
    "The player variables are:\n",
    "\n",
    "    player_id : id code unique to each player (integer)\n",
    "    player_name : entered name of the player (string)\n",
    "    time_played : number of time played the game in minutes (float)\n",
    "    player_pokemon: the player's captured pokemon (dictionary)\n",
    "    gyms_visited: ids of the gyms that a player has visited (list)\n",
    "    \n",
    "Create the components for a player object by defining each of these variables. The dictionary and list variables should just be defined as empty; you can use any (correctly typed) values for the others."
   ]
  },
  {
   "cell_type": "code",
   "execution_count": 2,
   "metadata": {
    "collapsed": true
   },
   "outputs": [],
   "source": [
    "player_id = 1\n",
    "player_name = 'jacob tan'\n",
    "time_played = 542.1\n",
    "player_pokemon = {}\n",
    "gyms_visited = []\n"
   ]
  },
  {
   "cell_type": "markdown",
   "metadata": {},
   "source": [
    "<img src=\"http://imgur.com/l5NasQj.png\" style=\"float: left; margin: 25px 15px 0px 0px; height: 25px\">\n",
    "\n",
    "## 2. Defining \"gym\" locations\n",
    "\n",
    "---\n",
    "\n",
    "As the sole programmer, Pokemon Stay will have to start small. To begin, there will be 10 different gym location websites on the internet. The gym locations are:\n",
    "\n",
    "    1. 'reddit.com'\n",
    "    2. 'amazon.com'\n",
    "    3. 'twitter.com'\n",
    "    4. 'linkedin.com'\n",
    "    5. 'ebay.com'\n",
    "    6. 'netflix.com'\n",
    "    7. 'sporcle.com'\n",
    "    8. 'stackoverflow.com'\n",
    "    9. 'github.com'\n",
    "    10. 'quora.com'\n",
    "\n",
    "1. Set up a list of all the gym locations. This will be a list of strings.\n",
    "2. Append two of these locations to your player's list of visited gyms.\n",
    "3. Print the list."
   ]
  },
  {
   "cell_type": "code",
   "execution_count": 3,
   "metadata": {},
   "outputs": [
    {
     "name": "stdout",
     "output_type": "stream",
     "text": [
      "['amazon.com', 'netflix.com']\n"
     ]
    }
   ],
   "source": [
    "# defining gyms location\n",
    "pokemon_gyms = ['reddit.com', 'amazon.com', 'twitter.com', 'linkedin.com', 'ebay.com', \\\n",
    "              'netflix.com', 'sporcle.com', 'stackoverflow.com', 'github.com', 'quora.com']\n",
    "\n",
    "# appending 2 gym locations to gyms visited\n",
    "gyms_visited.append(pokemon_gyms[1])\n",
    "gyms_visited.append(pokemon_gyms[5])\n",
    "\n",
    "pprint(gyms_visited)"
   ]
  },
  {
   "cell_type": "markdown",
   "metadata": {},
   "source": [
    "<img src=\"http://imgur.com/l5NasQj.png\" style=\"float: left; margin: 25px 15px 0px 0px; height: 25px\">\n",
    "\n",
    "## 3. Create a pokedex\n",
    "\n",
    "---\n",
    "\n",
    "We also need to create some pokemon to catch. Each pokemon will be defined by these variables:\n",
    "\n",
    "    pokemon_id : unique identifier for each pokemon (integer)\n",
    "    name : the name of the pokemon (string)\n",
    "    type : the category of pokemon (string)\n",
    "    hp : base hitpoints (integer)\n",
    "    attack : base attack (integer)\n",
    "    defense : base defense (integer)\n",
    "    special_attack : base special attack (integer)\n",
    "    special_defense : base sepecial defense (integer)\n",
    "    speed : base speed (integer)\n",
    "\n",
    "We are only going to create 3 different pokemon with these `pokemon_id` and `pokemon_name` values:\n",
    "\n",
    "    1 : 'charmander'\n",
    "    2 : 'squirtle'\n",
    "    3 : 'bulbasaur'\n",
    "\n",
    "Create a dictionary that will contain the pokemon. The keys of the dictionary will be the `pokemon_id` and the values will themselves dictionaries that contain the other pokemon variables. The structure of the pokedex dictionary will start like so:\n",
    "     \n",
    "     {\n",
    "         1: {\n",
    "                 'name':'charmander',\n",
    "                 'type':'fire',\n",
    "                 ...\n",
    "                 \n",
    "The `type` of charmander, squirtle, and bulbasaur should be `'fire'`, `'water'`, and `'poison'` respectively. The other values are up to you, make them anything you like!\n",
    "\n",
    "Print (or pretty print) the pokedex dictionary with the 3 pokemon."
   ]
  },
  {
   "cell_type": "code",
   "execution_count": 4,
   "metadata": {},
   "outputs": [
    {
     "name": "stdout",
     "output_type": "stream",
     "text": [
      "{1: {'attack': 62,\n",
      "     'defense': 17,\n",
      "     'hp': 79,\n",
      "     'name': 'charmander',\n",
      "     'special_attack': 74,\n",
      "     'special_defense': 9,\n",
      "     'speed': 63,\n",
      "     'type': 'fire'},\n",
      " 2: {'attack': 31,\n",
      "     'defense': 81,\n",
      "     'hp': 28,\n",
      "     'name': 'squirtle',\n",
      "     'special_attack': 8,\n",
      "     'special_defense': 77,\n",
      "     'speed': 16,\n",
      "     'type': 'water'},\n",
      " 3: {'attack': 81,\n",
      "     'defense': 28,\n",
      "     'hp': 54,\n",
      "     'name': 'bulbasaur',\n",
      "     'special_attack': 45,\n",
      "     'special_defense': 78,\n",
      "     'speed': 76,\n",
      "     'type': 'poison'}}\n"
     ]
    }
   ],
   "source": [
    "def rand_stats():\n",
    "    \"\"\"rand_stats() will generate random integers from 1 to 99\"\"\"\n",
    "    return np.random.randint(1,100)\n",
    "\n",
    "# using rand_stats() to determine the value of pokemon stats\n",
    "pokedex = { 1: {'name':'charmander', 'type':'fire', 'hp':rand_stats(), 'attack':rand_stats() ,\\\n",
    "                       'defense':rand_stats(), 'special_attack':rand_stats(), 'special_defense':rand_stats(),\\\n",
    "                        'speed':rand_stats()},\n",
    "                    2: {'name':'squirtle', 'type':'water', 'hp':rand_stats(), 'attack':rand_stats() ,\\\n",
    "                       'defense':rand_stats(), 'special_attack':rand_stats(), 'special_defense':rand_stats(),\\\n",
    "                        'speed':rand_stats()},\n",
    "                    3: {'name':'bulbasaur', 'type':'poison', 'hp':rand_stats(), 'attack':rand_stats() ,\\\n",
    "                       'defense':rand_stats(), 'special_attack':rand_stats(), 'special_defense':rand_stats(),\\\n",
    "                        'speed':rand_stats()}}\n",
    "\n",
    "pprint(pokedex)"
   ]
  },
  {
   "cell_type": "markdown",
   "metadata": {},
   "source": [
    "<img src=\"http://imgur.com/l5NasQj.png\" style=\"float: left; margin: 25px 15px 0px 0px; height: 25px\">\n",
    "\n",
    "## 4. Create a data structure for players\n",
    "\n",
    "---\n",
    "\n",
    "### 4.1 \n",
    "\n",
    "In order to maintain a database of multiple players, create a dictionary that keeps track of players indexed by `player_id`. \n",
    "\n",
    "The keys of the dictionary will be `player_id` and values will be dictionaries containing each player's variables (from question 1). \n",
    "\n",
    "Construct the `players` dictionary and insert the player that you defined in question 1, then print `players`."
   ]
  },
  {
   "cell_type": "code",
   "execution_count": 5,
   "metadata": {},
   "outputs": [
    {
     "name": "stdout",
     "output_type": "stream",
     "text": [
      "{1: {'gyms_visited': ['amazon.com', 'netflix.com'],\n",
      "     'player_name': 'jacob tan',\n",
      "     'player_pokemon': {},\n",
      "     'time_played': 542.1}}\n"
     ]
    }
   ],
   "source": [
    "players = {player_id: {'player_name':player_name, 'time_played':time_played, \\\n",
    "                      'player_pokemon':player_pokemon, 'gyms_visited':gyms_visited}}\n",
    "\n",
    "pprint(players)\n"
   ]
  },
  {
   "cell_type": "markdown",
   "metadata": {},
   "source": [
    "---\n",
    "\n",
    "### 4.2\n",
    "\n",
    "Create a new player with `player_id = 2` in the `players` dictionary. Leave the `'player_pokemon'` dictionary empty. Append `'alcatraz'` and `'pacific_beach'` to the `'gyms_visited'` list for player 2.\n",
    "\n",
    "The `'player_name'` and `'time_played'` values are up to you, but must be a string and float, respectively.\n",
    "\n",
    "Remember, the player_id is the key for the player in the players dictionary.\n",
    "\n",
    "Print the `players` dictionary with the new player inserted."
   ]
  },
  {
   "cell_type": "code",
   "execution_count": 6,
   "metadata": {},
   "outputs": [
    {
     "name": "stdout",
     "output_type": "stream",
     "text": [
      "{1: {'gyms_visited': ['amazon.com', 'netflix.com'],\n",
      "     'player_name': 'jacob tan',\n",
      "     'player_pokemon': {},\n",
      "     'time_played': 542.1},\n",
      " 2: {'gyms_visited': ['amazon.com',\n",
      "                      'netflix.com',\n",
      "                      'alacatraz',\n",
      "                      'pacific_beach'],\n",
      "     'player_name': 'jamie chan',\n",
      "     'player_pokemon': {},\n",
      "     'time_played': 421.0}}\n"
     ]
    }
   ],
   "source": [
    "players[2] = {'player_name':'jamie chan', 'time_played':421., 'player_pokemon':{}, \\\n",
    "              'gyms_visited':gyms_visited + ['alacatraz', 'pacific_beach']}\n",
    "\n",
    "pprint(players)"
   ]
  },
  {
   "cell_type": "markdown",
   "metadata": {},
   "source": [
    "<img src=\"http://imgur.com/l5NasQj.png\" style=\"float: left; margin: 25px 15px 0px 0px; height: 25px\">\n",
    "\n",
    "## 5. Add captured pokemon for each player\n",
    "\n",
    "---\n",
    "\n",
    "The `'player_pokemon'` keyed dictionaries for each player keep track of which of the pokemon each player has.\n",
    "\n",
    "The keys of the `'player_pokemon'` dictionaries are the pokemon ids that correspond to the ids in the `pokedex` dictionary you created earlier. The values are integers specifying the stats for the pokemon.\n",
    "\n",
    "Give player 1 a squirtle. Give player 2 charmander and a bulbasaur.\n",
    "\n",
    "Print the players dictionary after adding the pokemon for each player.\n"
   ]
  },
  {
   "cell_type": "code",
   "execution_count": 7,
   "metadata": {},
   "outputs": [
    {
     "name": "stdout",
     "output_type": "stream",
     "text": [
      "{1: {'gyms_visited': ['amazon.com', 'netflix.com'],\n",
      "     'player_name': 'jacob tan',\n",
      "     'player_pokemon': {2: {'attack': 31,\n",
      "                            'defense': 81,\n",
      "                            'hp': 28,\n",
      "                            'name': 'squirtle',\n",
      "                            'special_attack': 8,\n",
      "                            'special_defense': 77,\n",
      "                            'speed': 16,\n",
      "                            'type': 'water'}},\n",
      "     'time_played': 542.1},\n",
      " 2: {'gyms_visited': ['amazon.com',\n",
      "                      'netflix.com',\n",
      "                      'alacatraz',\n",
      "                      'pacific_beach'],\n",
      "     'player_name': 'jamie chan',\n",
      "     'player_pokemon': {1: {'attack': 62,\n",
      "                            'defense': 17,\n",
      "                            'hp': 79,\n",
      "                            'name': 'charmander',\n",
      "                            'special_attack': 74,\n",
      "                            'special_defense': 9,\n",
      "                            'speed': 63,\n",
      "                            'type': 'fire'},\n",
      "                        3: {'attack': 81,\n",
      "                            'defense': 28,\n",
      "                            'hp': 54,\n",
      "                            'name': 'bulbasaur',\n",
      "                            'special_attack': 45,\n",
      "                            'special_defense': 78,\n",
      "                            'speed': 76,\n",
      "                            'type': 'poison'}},\n",
      "     'time_played': 421.0}}\n"
     ]
    }
   ],
   "source": [
    "# adding squirtle to player 1 pokemon list\n",
    "players[1]['player_pokemon'][2] = pokedex[2]\n",
    "\n",
    "# adding charmander and bulbasaur to player 2 pokemon list\n",
    "players[2]['player_pokemon'][1] = pokedex[1]\n",
    "players[2]['player_pokemon'][3] = pokedex[3]\n",
    "\n",
    "pprint(players)"
   ]
  },
  {
   "cell_type": "markdown",
   "metadata": {},
   "source": [
    "\n",
    "\n",
    "## 6. What gyms have players visited?\n",
    "\n",
    "---\n",
    "<img src=\"http://imgur.com/l5NasQj.png\" style=\"float: left; margin: 25px 15px 0px 0px; height: 25px\">\n",
    "### 6.1\n",
    "\n",
    "Write a for-loop that:\n",
    "\n",
    "1. Iterates through the `pokemon_gyms` list of gym locations you defined before.\n",
    "2. For each gym, iterate through each player in the `players` dictionary with a second, internal for-loop.\n",
    "3. If the player has visited the gym, print out \"[player] has visited [gym location].\", filling in [player] and [gym location] with the current player's name and current gym location."
   ]
  },
  {
   "cell_type": "code",
   "execution_count": 8,
   "metadata": {},
   "outputs": [
    {
     "name": "stdout",
     "output_type": "stream",
     "text": [
      "jacob tan has visited amazon.com.\n",
      "jamie chan has visited amazon.com.\n",
      "jacob tan has visited netflix.com.\n",
      "jamie chan has visited netflix.com.\n",
      "jamie chan has visited alacatraz.\n",
      "jamie chan has visited pacific_beach.\n"
     ]
    }
   ],
   "source": [
    "# adding alacatraz gym and pacific_beach gym into the list of gyms\n",
    "pokemon_gyms.extend(['alacatraz', 'pacific_beach'])\n",
    "\n",
    "#for loop\n",
    "for gym in pokemon_gyms:\n",
    "    for p in players:\n",
    "        if gym in players[p]['gyms_visited']:\n",
    "            print players[p]['player_name'] + ' has visited ' + gym + '.'"
   ]
  },
  {
   "cell_type": "markdown",
   "metadata": {},
   "source": [
    "<img src=\"http://imgur.com/xDpSobf.png\" style=\"float: left; margin: 25px 15px 0px 0px; height: 25px\">\n",
    "### 6.2\n",
    "\n",
    "How many times did that loop run? If you have N gyms and also N players, how many times would it run as a function of N?\n",
    "\n",
    "Can you think of a more efficient way to accomplish the same thing? \n",
    "\n",
    "(You can write your answer as Markdown text.)"
   ]
  },
  {
   "cell_type": "markdown",
   "metadata": {
    "collapsed": true
   },
   "source": [
    "The loop ran 24 times. For every gym, it looped twice. If I have N gyms and N players, for every gym it will loop N times. Hence for N gyms it will loop N*N times."
   ]
  },
  {
   "cell_type": "code",
   "execution_count": 9,
   "metadata": {},
   "outputs": [
    {
     "name": "stdout",
     "output_type": "stream",
     "text": [
      "jacob tan has visited amazon.com.\n",
      "jacob tan has visited netflix.com.\n",
      "jamie chan has visited amazon.com.\n",
      "jamie chan has visited netflix.com.\n",
      "jamie chan has visited alacatraz.\n",
      "jamie chan has visited pacific_beach.\n"
     ]
    }
   ],
   "source": [
    "# assuming that efficient is defined to be running the loop lesser times\n",
    "for p in players:\n",
    "    for i in players[p]['gyms_visited']:\n",
    "            if i in pokemon_gyms:\n",
    "                print players[p]['player_name'] + ' has visited ' + i + '.'\n",
    "                \n",
    "# this loop for i times for each player, where i varies according to each player.\n",
    "# this for loop version will loop lesser times than the previous one because i can be any value betwwen 0 to N"
   ]
  },
  {
   "cell_type": "markdown",
   "metadata": {},
   "source": [
    "## <img src=\"http://imgur.com/l5NasQj.png\" style=\"float: left; margin: 25px 15px 0px 0px; height: 25px\">\n",
    "\n",
    "## 7. Calculate player \"power\".\n",
    "\n",
    "---\n",
    "\n",
    "Define a function that will calculate a player's \"power\". Player power is defined as the sum of the base statistics all of their pokemon.\n",
    "\n",
    "Your function will:\n",
    "\n",
    "1. Accept the `players` dictionary, `pokedex` dictionary, and a player_id as arguments.\n",
    "2. For the specified player_id, look up that player's pokemon and their level(s).\n",
    "3. Find and aggregate the attack and defense values for each of the player's pokemon from the `pokedex` dictionary.\n",
    "4. Print \"[player name]'s power is [player power].\", where the player power is the sum of the base statistics for all of their pokemon.\n",
    "5. Return the player's power value.\n",
    "\n",
    "Print out the pokemon power for each of your players."
   ]
  },
  {
   "cell_type": "code",
   "execution_count": 10,
   "metadata": {
    "collapsed": true
   },
   "outputs": [],
   "source": [
    "# assuming sum of base statistics = attack + defense + special_attack + special_defense + speed + hp\n",
    "def power(players, pokedex, player_id):\n",
    "    agg_atk_def= {}\n",
    "    other_stats = {}\n",
    "    for key in players[player_id]['player_pokemon'].keys():\n",
    "        \n",
    "        # aggregating attack and defense values for each of the player's pokemon into a dictionary\n",
    "        agg_atk_def[key] = pokedex[key]['attack'] + pokedex[key]['special_attack'] + pokedex[key]['defense'] + \\\n",
    "        pokedex[key]['special_defense']\n",
    "        \n",
    "        # aggregating all other stats values for each of the player's pokemon into a dictionary\n",
    "        other_stats[key] = pokedex[key]['hp'] + pokedex[key]['speed']\n",
    "    \n",
    "    # summing up all the value items in agg_att_def dictionary\n",
    "    agg_atk_def_sum = 0\n",
    "    for key in agg_atk_def.keys():\n",
    "        agg_atk_def_sum += agg_atk_def[key]\n",
    "    \n",
    "    # summing up all the value items in the other_stats dictionary\n",
    "    other_stats_sum = 0\n",
    "    for key in other_stats.keys():\n",
    "        other_stats_sum += other_stats[key]   \n",
    "    \n",
    "    power = agg_atk_def_sum + other_stats_sum\n",
    "    \n",
    "    print players[player_id]['player_name'] + '\\'s power is ' + str(power) + '.'\n",
    "    return power"
   ]
  },
  {
   "cell_type": "code",
   "execution_count": 11,
   "metadata": {},
   "outputs": [
    {
     "name": "stdout",
     "output_type": "stream",
     "text": [
      "jacob tan's power is 241.\n",
      "241\n",
      "jamie chan's power is 666.\n",
      "666\n"
     ]
    }
   ],
   "source": [
    "pprint (power(players, pokedex, 1))\n",
    "pprint (power(players, pokedex, 2))"
   ]
  },
  {
   "cell_type": "markdown",
   "metadata": {
    "collapsed": true
   },
   "source": [
    "<img src=\"http://imgur.com/l5NasQj.png\" style=\"float: left; margin: 25px 15px 0px 0px; height: 25px\">\n",
    "\n",
    "## 8. Load a pokedex file containing all the pokemon\n",
    "\n",
    "---\n",
    "\n",
    "### 8.1\n",
    "\n",
    "While you were putting together the prototype code, your colleagues were preparing a dataset of Pokemon and their attributes. (This was a rush job, so they may have picked some crazy values for some...)\n",
    "\n",
    "The code below loads information from a comma separated value (csv) file. You need to parse this string into a more useable format. The format of the string is:\n",
    "\n",
    "- Rows are separated by newline characters: \\n\n",
    "- Columns are separated by commas: ,\n",
    "- All cells in the csv are double quoted. Ex: \"PokedexNumber\" is the first cell of the first row.\n",
    "\n",
    "\n",
    "Using for-loops, create a list of lists where each list within the overall list is a row of the csv/matrix, and each element in that list is a cell in that row. Additional criteria:\n",
    "\n",
    "1. Quotes are removed from each cell item.\n",
    "2. Numeric column values are converted to floats.\n",
    "3. There are some cells that are empty and have no information. For these cells put a -1 value in place.\n",
    "\n",
    "Your end result is effectively a matrix. Each list in the outer list is a row, and the *j*th elements of list together form the *j*th column, which represents a data attribute. The first three lists in your pokedex list should look like this:\n",
    "\n",
    "    ['PokedexNumber', 'Name', 'Type', 'Total', 'HP', 'Attack', 'Defense', 'SpecialAttack', 'SpecialDefense', 'Speed']\n",
    "    [1.0, 'Bulbasaur', 'GrassPoison', 318.0, 45.0, 49.0, 49.0, 65.0, 65.0, 45.0]\n",
    "    [2.0, 'Ivysaur', 'GrassPoison', 405.0, 60.0, 62.0, 63.0, 80.0, 80.0, 60.0]"
   ]
  },
  {
   "cell_type": "code",
   "execution_count": 12,
   "metadata": {},
   "outputs": [
    {
     "name": "stdout",
     "output_type": "stream",
     "text": [
      "[['PokedexNumber',\n",
      "  'Name',\n",
      "  'Type',\n",
      "  'Total',\n",
      "  'HP',\n",
      "  'Attack',\n",
      "  'Defense',\n",
      "  'SpecialAttack',\n",
      "  'SpecialDefense',\n",
      "  'Speed'],\n",
      " ['001',\n",
      "  'Bulbasaur',\n",
      "  'GrassPoison',\n",
      "  '318',\n",
      "  '45',\n",
      "  '49',\n",
      "  '49',\n",
      "  '65',\n",
      "  '65',\n",
      "  '45']]\n"
     ]
    }
   ],
   "source": [
    "# code to read in pokedex info\n",
    "import csv\n",
    "raw_pd = []\n",
    "pokedex_file = './pokedex_basic.csv'\n",
    "with open(pokedex_file, 'rU') as f:\n",
    "    reader = csv.reader(f)\n",
    "    for row in reader:\n",
    "        raw_pd.append(row)        \n",
    "f.close() \n",
    "\n",
    "# the pokedex string is assigned to the raw_pd variable\n",
    "pprint (raw_pd[0:2])"
   ]
  },
  {
   "cell_type": "code",
   "execution_count": 13,
   "metadata": {},
   "outputs": [
    {
     "name": "stdout",
     "output_type": "stream",
     "text": [
      "[['pokedexnumber',\n",
      "  'name',\n",
      "  'type',\n",
      "  'total',\n",
      "  'hp',\n",
      "  'attack',\n",
      "  'defense',\n",
      "  'specialattack',\n",
      "  'specialdefense',\n",
      "  'speed'],\n",
      " [1.0, 'bulbasaur', 'grasspoison', 318.0, 45.0, 49.0, 49.0, 65.0, 65.0, 45.0],\n",
      " [2.0, 'ivysaur', 'grasspoison', 405.0, 60.0, 62.0, 63.0, 80.0, 80.0, 60.0]]\n"
     ]
    }
   ],
   "source": [
    "# for loop\n",
    "ref_pd_forloops = []\n",
    "\n",
    "for sublist in raw_pd:\n",
    "    ref_sublist = []\n",
    "    for i in sublist:\n",
    "        # changing value of empty cells or cells with whitespace to -1\n",
    "        if i == '' or i == ' ':\n",
    "            ref_sublist.append(-1)\n",
    "            \n",
    "        # changing numbers to float\n",
    "        elif i.isdigit() == True:\n",
    "            ref_sublist.append(float(i))\n",
    "        else:\n",
    "            ref_sublist.append(i.lower())\n",
    "    ref_pd_forloops.append(ref_sublist)\n",
    "\n",
    "pprint (ref_pd_forloops[0:3])"
   ]
  },
  {
   "cell_type": "markdown",
   "metadata": {},
   "source": [
    "<img src=\"http://imgur.com/xDpSobf.png\" style=\"float: left; margin: 25px 15px 0px 0px; height: 25px\">\n",
    "\n",
    "### 8.2 Parse the raw pokedex with list comprehensions\n",
    "\n",
    "---\n",
    "\n",
    "Perform the same parsing as above, but **using only a single list comprehension** instead of for loops. You may have nested list comprehensions within the main list comprehension! The output should be exactly the same."
   ]
  },
  {
   "cell_type": "code",
   "execution_count": 14,
   "metadata": {},
   "outputs": [
    {
     "name": "stdout",
     "output_type": "stream",
     "text": [
      "[['pokedexnumber',\n",
      "  'name',\n",
      "  'type',\n",
      "  'total',\n",
      "  'hp',\n",
      "  'attack',\n",
      "  'defense',\n",
      "  'specialattack',\n",
      "  'specialdefense',\n",
      "  'speed'],\n",
      " [1.0, 'bulbasaur', 'grasspoison', 318.0, 45.0, 49.0, 49.0, 65.0, 65.0, 45.0],\n",
      " [2.0, 'ivysaur', 'grasspoison', 405.0, 60.0, 62.0, 63.0, 80.0, 80.0, 60.0]]\n"
     ]
    }
   ],
   "source": [
    "ref_pd_listcompre = [[-1 if i == '' or i == ' ' else float(i) if i.isdigit() == True else i.lower() for i in sublist]\\\n",
    "                     for sublist in raw_pd]\n",
    "\n",
    "pprint (ref_pd_listcompre[0:3])"
   ]
  },
  {
   "cell_type": "markdown",
   "metadata": {},
   "source": [
    "<img src=\"http://imgur.com/l5NasQj.png\" style=\"float: left; margin: 25px 15px 0px 0px; height: 25px\">\n",
    "\n",
    "## 9. Write a function to generate the full pokedex\n",
    "\n",
    "---\n",
    "\n",
    "Write a function that recreates the pokedex you made before, but with the data read in from the full pokemon file. The `PokedexNumber` should be used as the `pokemon_id` key values for the dictionary of pokemon.\n",
    "\n",
    "Your function should:\n",
    "\n",
    "1. Take the parsed pokedex information you created above as an argument.\n",
    "2. Return a dictionary in the same format as your original pokedex you created before containing the information from the parsed full pokedex file.\n",
    "\n",
    "To test the function, print out the pokemon with id = 100."
   ]
  },
  {
   "cell_type": "code",
   "execution_count": 15,
   "metadata": {},
   "outputs": [
    {
     "name": "stdout",
     "output_type": "stream",
     "text": [
      "{'attack': 30.0,\n",
      " 'defense': 50.0,\n",
      " 'hp': 40.0,\n",
      " 'name': 'voltorb',\n",
      " 'specialattack': 55.0,\n",
      " 'specialdefense': 55.0,\n",
      " 'speed': 100.0,\n",
      " 'total': 330.0,\n",
      " 'type': 'electric'}\n"
     ]
    }
   ],
   "source": [
    "def pokedex_func(pokemon_data):\n",
    "    \n",
    "    # separating the header from the rest of the data and remove 'pokedexnumber'\n",
    "    header = pokemon_data[0]\n",
    "    if 'pokedexnumber' in header:\n",
    "        header.remove('pokedexnumber')\n",
    "\n",
    "    # creating a new list containing pokedex number\n",
    "    data = pokemon_data[1:]\n",
    "    pokemon_id = [sublist[0] for sublist in data]\n",
    "    \n",
    "    # deleting pokedex number from data\n",
    "    data_wo_id = [list(sublist) for sublist in zip(*data)]\n",
    "    del data_wo_id[0]\n",
    "    data = [list(sublist) for sublist in zip(*data_wo_id)]\n",
    "    \n",
    "    # creating a pokedex dictionary where pokemon_id is the key and the value is the dictionary of zipped header and sublist \n",
    "    pokedex = {id: dict(zip(header,s)) for id, s in zip(pokemon_id, data)}\n",
    "    \n",
    "    return pokedex\n",
    "    \n",
    "pokedex = pokedex_func(ref_pd_forloops)\n",
    "pprint (pokedex[100])"
   ]
  },
  {
   "cell_type": "markdown",
   "metadata": {},
   "source": [
    "<img src=\"http://i.imgur.com/GCAf1UX.png\" style=\"float: left; margin: 25px 15px 0px 0px; height: 25px\">\n",
    "\n",
    "## 10. Write a function to generate a \"filtered\" pokedex\n",
    "---\n",
    "Your function should:\n",
    "1. Take the parsed pokedex information you created above as an argument.\n",
    "1. Take a dictionary as a parameter with keys matching the features of the Pokedex, filtering by exact match for string type values, and/or filter continuous variables specified value that is greater than or equal to the dictionary key parameter.\n",
    "1. Return multiple elements from the Pokedex\n",
    "\n",
    "Example:\n",
    "\n",
    "```python\n",
    "\n",
    "# Only filter based on parameters passed\n",
    "filter_options = {\n",
    "    'Attack':   25,\n",
    "    'Defense':  30,\n",
    "    'Type':     'Electric'\n",
    "}\n",
    "\n",
    "# Return records with attack >= 24, defense >= 30, and type == \"Electric\"\n",
    "# Also anticipate that other paramters can also be passed such as \"SpecialAttack\", \"Speed\", etc.\n",
    "filtered_pokedex(pokedex_data, filter=filter_options)\n",
    "\n",
    "# Example output:\n",
    "# [{'Attack': 30.0,\n",
    "#  'Defense': 50.0,\n",
    "#  'HP': 40.0,\n",
    "#  'Name': 'Voltorb',\n",
    "#  'SpecialAttack': 55.0,\n",
    "#  'SpecialDefense': 55.0,\n",
    "#  'Speed': 100.0,\n",
    "#  'Total': 330.0,\n",
    "#  'Type': 'Electric'},\n",
    "#  {'Attack': 30.0,\n",
    "#  'Defense': 33.0,\n",
    "#  'HP': 32.0,\n",
    "#  'Name': 'Pikachu',\n",
    "#  'SpecialAttack': 55.0,\n",
    "#  'SpecialDefense': 55.0,\n",
    "#  'Speed': 100.0,\n",
    "#  'Total': 330.0,\n",
    "#  'Type': 'Electric'},\n",
    "#  ... etc\n",
    "#  ]\n",
    "\n",
    "```\n",
    "\n"
   ]
  },
  {
   "cell_type": "code",
   "execution_count": 16,
   "metadata": {
    "collapsed": true
   },
   "outputs": [],
   "source": [
    "def filtered_pokedex(pokedex, filter):\n",
    "    \n",
    "    # removing the keys in pokemon and turn it into dictionaries in a list\n",
    "    pokedex_wo_id = [value for key, value in pokedex.items()]\n",
    "    \n",
    "    filtered_pokemon = []\n",
    "    for pokemon in pokedex_wo_id:\n",
    "        # if the value of the pokemon[key] value fits the current criteria, it will move on to the next criteria\n",
    "        for key, value in filter.items():  \n",
    "            # checking value type of each key\n",
    "            if type(value) == int or type(value) == float:\n",
    "                if pokemon[key.lower()] <= value:  \n",
    "                    # if value is less than the corresponding int/float pokemon[key] value, the loop will move on to the next pokemon\n",
    "                    break                           \n",
    "            elif type(value) == str:\n",
    "                if pokemon[key.lower()] != value.lower():\n",
    "                    # if value is not equal to the corresponding str pokemon[key] value, the loop will move on to the next pokemon\n",
    "                    break\n",
    "                    \n",
    "        # only after all the criteria are looped through, append to filtered_pokemon list if there isn't any break \n",
    "        else:\n",
    "            filtered_pokemon.append(pokemon)\n",
    "    return filtered_pokemon"
   ]
  },
  {
   "cell_type": "code",
   "execution_count": 17,
   "metadata": {},
   "outputs": [
    {
     "name": "stdout",
     "output_type": "stream",
     "text": [
      "[{'attack': 110.0,\n",
      "  'defense': 80.0,\n",
      "  'hp': 90.0,\n",
      "  'name': 'arcanine',\n",
      "  'specialattack': 100.0,\n",
      "  'specialdefense': 80.0,\n",
      "  'speed': 95.0,\n",
      "  'total': 555.0,\n",
      "  'type': 'fire'},\n",
      " {'attack': 95.0,\n",
      "  'defense': 57.0,\n",
      "  'hp': 65.0,\n",
      "  'name': 'magmar',\n",
      "  'specialattack': 100.0,\n",
      "  'specialdefense': 85.0,\n",
      "  'speed': 93.0,\n",
      "  'total': 495.0,\n",
      "  'type': 'fire'},\n",
      " {'attack': 84.0,\n",
      "  'defense': 78.0,\n",
      "  'hp': 78.0,\n",
      "  'name': 'typhlosion',\n",
      "  'specialattack': 109.0,\n",
      "  'specialdefense': 85.0,\n",
      "  'speed': 100.0,\n",
      "  'total': 534.0,\n",
      "  'type': 'fire'},\n",
      " {'attack': 115.0,\n",
      "  'defense': 85.0,\n",
      "  'hp': 115.0,\n",
      "  'name': 'entei',\n",
      "  'specialattack': 90.0,\n",
      "  'specialdefense': 75.0,\n",
      "  'speed': 100.0,\n",
      "  'total': 580.0,\n",
      "  'type': 'fire'},\n",
      " {'attack': 95.0,\n",
      "  'defense': 67.0,\n",
      "  'hp': 75.0,\n",
      "  'name': 'magmortar',\n",
      "  'specialattack': 125.0,\n",
      "  'specialdefense': 95.0,\n",
      "  'speed': 83.0,\n",
      "  'total': 540.0,\n",
      "  'type': 'fire'},\n",
      " {'attack': 98.0,\n",
      "  'defense': 63.0,\n",
      "  'hp': 75.0,\n",
      "  'name': 'simisear',\n",
      "  'specialattack': 98.0,\n",
      "  'specialdefense': 63.0,\n",
      "  'speed': 101.0,\n",
      "  'total': 498.0,\n",
      "  'type': 'fire'}]\n"
     ]
    }
   ],
   "source": [
    "filter_options = {'specialattack':80, 'ATTACK':80, 'type':'FIRE', 'speed':80}\n",
    "pprint (filtered_pokedex(pokedex, filter_options))"
   ]
  },
  {
   "cell_type": "markdown",
   "metadata": {
    "collapsed": true
   },
   "source": [
    "\n",
    "## 9. Descriptive statistics on the prototype pokedex\n",
    "\n",
    "<img src=\"http://imgur.com/l5NasQj.png\" style=\"float: left; margin: 25px 15px 0px 0px; height: 25px\">\n",
    "### 9.1\n",
    "\n",
    "What is the population mean and standard deviation of the \"Total\" attribute for all characters in the Pokedex?\n",
    "\n"
   ]
  },
  {
   "cell_type": "code",
   "execution_count": 18,
   "metadata": {},
   "outputs": [
    {
     "name": "stdout",
     "output_type": "stream",
     "text": [
      "Population mean: 435.1275\n",
      "Population standard deviation: 119.962020005\n"
     ]
    }
   ],
   "source": [
    "# separating header from the rest of the data\n",
    "data = ref_pd_forloops[1:]\n",
    "\n",
    "# creating a new list that contains only the 'total' attribute of all pokemons\n",
    "total_list = [sublist[3] for sublist in data]\n",
    "\n",
    "mean = np.mean(total_list)\n",
    "sd = np.std(total_list)\n",
    "\n",
    "print 'Population mean: ' + str(mean)\n",
    "print 'Population standard deviation: ' + str(sd)"
   ]
  },
  {
   "cell_type": "markdown",
   "metadata": {},
   "source": [
    "<img src=\"http://imgur.com/l5NasQj.png\" style=\"float: left; margin: 25px 15px 0px 0px; height: 25px\">\n",
    "### 9.2\n",
    "\n",
    "The game is no fun if the characters are wildly unbalanced! Are any characters \"overpowered\", which we'll define as having a \"Total\" more than three standard deviations from the population mean?"
   ]
  },
  {
   "cell_type": "code",
   "execution_count": 19,
   "metadata": {},
   "outputs": [
    {
     "name": "stdout",
     "output_type": "stream",
     "text": [
      "mewtwomega mewtwo x is overpowered.\n"
     ]
    }
   ],
   "source": [
    "overpowered = mean + 3*sd\n",
    "\n",
    "# creating a list that contains the indexes of overpowered pokemon\n",
    "overpowered_list_index = [index for index, value in enumerate (total_list) if value > overpowered]\n",
    "\n",
    "for i in overpowered_list_index:\n",
    "    # data[i][1] corresponds to the name of pokemon\n",
    "    print data[i][1] + ' is overpowered.'"
   ]
  },
  {
   "cell_type": "markdown",
   "metadata": {},
   "source": [
    "<img src=\"http://imgur.com/xDpSobf.png\" style=\"float: left; margin: 25px 15px 0px 0px; height: 25px\">\n",
    "\n",
    "## 10. Calibrate the frequency of Pokemon\n",
    "\n",
    "The design team wants you to make the powerful Pokemon rare, and the weaklings more common. How would you set the probability $p_i$ of finding Pokemon *i* each time a player visits a gym?\n",
    "\n",
    "Write a function that takes in a Pokedex number and returns a value $p_i$ for that character.\n",
    "\n",
    "Hint: there are many ways you could do this. What do _you_ think makes sense? Start with simplifying assumptions: for example, you could assume that the probabilities of encountering any two Pokemon on one visit to a gym are independent of each other."
   ]
  },
  {
   "cell_type": "code",
   "execution_count": 20,
   "metadata": {
    "collapsed": true
   },
   "outputs": [],
   "source": [
    "# assuming that the probability of finding a pokemon is exponentially distributed\n",
    "# weaker pokemons have a higher probability and the powerful pokemon have a lower probability\n",
    "# assuming strength of a pokemon is determined by their 'total' attribute score\n",
    "# assuming the probability of finding the same pokemon at every gym is different due to higher gym levels\n",
    "# assuming 'total' attribute is a continuous variable\n",
    "\n",
    "# assigning different scale for each gym given the third assumption\n",
    "pokemon_gyms_scale = {'reddit.com':50, 'amazon.com':55, 'twitter.com':60, 'linkedin.com':65, 'ebay.com':70,\\\n",
    "                      'netflix.com':75, 'sporcle.com':80, 'stackoverflow.com':85, 'github.com':90,\\\n",
    "                      'quora.com':95, 'alacatraz':100, 'pacific_beach':105}\n",
    "\n",
    "def prob_func(num, gym):\n",
    "    \"\"\"prob_func will take pokemon ID and a gym as a positional argument. Each gym has a different scale factor which\n",
    "    will determine the steepness of the exponential curve.\"\"\"\n",
    "    \n",
    "    # total_list is taken from the answer above\n",
    "    # use set() to remove duplicates from total_list\n",
    "    total_ls_uni = set(total_list)\n",
    "\n",
    "    # sort the list from smallest to biggest\n",
    "    total_ls_uni_sort= sorted(total_ls_uni)\n",
    "\n",
    "    # normalised the list so that the starting value of the list is 1\n",
    "    total_ls_uni_sort_norm = list(np.array(total_ls_uni_sort) - total_ls_uni_sort[0]+1)\n",
    "    \n",
    "    # identifying the index of the pokemond ID in the normalised list\n",
    "    x1 = total_ls_uni_sort_norm.index(pokedex[num]['total'] - total_ls_uni_sort[0]+1)\n",
    "    # identifying the previous index\n",
    "    x2 = x1 - 1\n",
    "    \n",
    "    # expon.cdf(x) is the cdf of x in the exponential graph\n",
    "    # hence, to find the probability of x, I would need to take expon.cdf(x) - expon.cdf(x-1)\n",
    "    expon_x1 = expon.cdf(total_ls_uni_sort_norm[x1], scale = pokemon_gyms_scale[gym])\n",
    "    expon_x2 = expon.cdf(total_ls_uni_sort_norm[x2], scale = pokemon_gyms_scale[gym])\n",
    "    prob = (expon_x1 - expon_x2) *100\n",
    "    \n",
    "    return 'Probability of encoutering pokemon, ID: ' + str(num) +' Name: ' + pokedex[num]['name'].capitalize() + ', is ' + \\\n",
    "    str(prob) + ' %.'\n",
    "    "
   ]
  },
  {
   "cell_type": "code",
   "execution_count": 21,
   "metadata": {
    "scrolled": true
   },
   "outputs": [
    {
     "name": "stdout",
     "output_type": "stream",
     "text": [
      "Probability of encoutering pokemon, ID: 721 Name: Volcanion, is 0.10668795377 %.\n"
     ]
    }
   ],
   "source": [
    "print prob_func(721, 'pacific_beach')"
   ]
  }
 ],
 "metadata": {
  "anaconda-cloud": {},
  "kernelspec": {
   "display_name": "Python 2",
   "language": "python",
   "name": "python2"
  },
  "language_info": {
   "codemirror_mode": {
    "name": "ipython",
    "version": 2
   },
   "file_extension": ".py",
   "mimetype": "text/x-python",
   "name": "python",
   "nbconvert_exporter": "python",
   "pygments_lexer": "ipython2",
   "version": "2.7.13"
  }
 },
 "nbformat": 4,
 "nbformat_minor": 1
}
