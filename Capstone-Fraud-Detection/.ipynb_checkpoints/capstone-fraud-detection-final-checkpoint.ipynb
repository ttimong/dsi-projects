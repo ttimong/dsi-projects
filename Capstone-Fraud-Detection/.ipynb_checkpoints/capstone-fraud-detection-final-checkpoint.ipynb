{
 "cells": [
  {
   "cell_type": "markdown",
   "metadata": {},
   "source": [
    "# Detecting Fraudulent Transactions"
   ]
  },
  {
   "cell_type": "markdown",
   "metadata": {},
   "source": [
    "## Introduction\n",
    "My capstone project aims to detect fraudulent transactions made by salespeople in a company. In general, these illegal activities often result in negative economic and social impact to the company. To prevent fraudulent transactions from occurring, a company has to conduct audit checks regularly. However, it is impossible to inspect every transaction that each salesperson made due to high cost, in terms of time and money. \n",
    "\n",
    "As such, I would like to generate a model that will identify probable fraudulent transactions and rank them accordingly, in terms of probability. With this, the company is able to maximise its limited resources to identify fraudulent transactions.\n",
    "\n",
    "**Dataset**\n",
    "\n",
    "The data that I will be using is based on transactions reported by salespeople of a company. These salespeople sell a set of products and reports these sales with a certain periodicity. The salespeople are free to set the selling price according to their own policy and market. At the end of the month, they will report back to the company on their transactions.\n",
    "\n",
    "**Objectives**\n",
    "1.  To identify probable fraudulent transactions\n",
    "2.  To provide a fraud probability ranking system to maximise limited resources of a company\n",
    "\n",
    "**Evaluation metrics**\n",
    "- Accuracy score: proportion of correctly predicted labels out of all the predicted data points\n",
    "\n",
    "<center>$\\dfrac{tp+tn}{tp+fp+tn+fn}$</center>\n",
    "- Precision score: fraction of correct predictions for a certain class\n",
    "\n",
    "<center>$\\dfrac{tp}{tp+fp}$</center>\n",
    "- Recall score: fraction of instances of a class that were correctly predicted\n",
    "\n",
    "<center>$\\dfrac{tp}{tp+fn}$</center>\n",
    "- F1 score: harmonic mean of precision and recall score\n",
    "\n",
    "<center>$2 * \\dfrac{precision*recall}{precision+recall}$</center>\n",
    "- AUC score: area under ROC\n",
    "\n"
   ]
  },
  {
   "cell_type": "code",
   "execution_count": 2,
   "metadata": {
    "collapsed": true
   },
   "outputs": [],
   "source": [
    "import matplotlib.pyplot as plt\n",
    "import numpy as np\n",
    "import pandas as pd\n",
    "import seaborn as sns\n",
    "import scipy.stats as stats\n",
    "import pickle\n",
    "\n",
    "plt.style.use('fivethirtyeight')\n",
    "\n",
    "%matplotlib inline\n",
    "%config InlineBackend.figure_format = 'retina'"
   ]
  },
  {
   "cell_type": "code",
   "execution_count": 3,
   "metadata": {
    "collapsed": true
   },
   "outputs": [],
   "source": [
    "# importing data set\n",
    "fraud = pd.read_csv('./fraud.csv', index_col= 0)"
   ]
  },
  {
   "cell_type": "code",
   "execution_count": 4,
   "metadata": {
    "scrolled": true
   },
   "outputs": [
    {
     "data": {
      "text/html": [
       "<div>\n",
       "<style>\n",
       "    .dataframe thead tr:only-child th {\n",
       "        text-align: right;\n",
       "    }\n",
       "\n",
       "    .dataframe thead th {\n",
       "        text-align: left;\n",
       "    }\n",
       "\n",
       "    .dataframe tbody tr th {\n",
       "        vertical-align: top;\n",
       "    }\n",
       "</style>\n",
       "<table border=\"1\" class=\"dataframe\">\n",
       "  <thead>\n",
       "    <tr style=\"text-align: right;\">\n",
       "      <th></th>\n",
       "      <th>ID</th>\n",
       "      <th>Prod</th>\n",
       "      <th>Quant</th>\n",
       "      <th>Val</th>\n",
       "      <th>Insp</th>\n",
       "    </tr>\n",
       "  </thead>\n",
       "  <tbody>\n",
       "    <tr>\n",
       "      <th>1</th>\n",
       "      <td>v1</td>\n",
       "      <td>p1</td>\n",
       "      <td>182.0</td>\n",
       "      <td>1665.0</td>\n",
       "      <td>unkn</td>\n",
       "    </tr>\n",
       "    <tr>\n",
       "      <th>2</th>\n",
       "      <td>v2</td>\n",
       "      <td>p1</td>\n",
       "      <td>3072.0</td>\n",
       "      <td>8780.0</td>\n",
       "      <td>unkn</td>\n",
       "    </tr>\n",
       "    <tr>\n",
       "      <th>3</th>\n",
       "      <td>v3</td>\n",
       "      <td>p1</td>\n",
       "      <td>20393.0</td>\n",
       "      <td>76990.0</td>\n",
       "      <td>unkn</td>\n",
       "    </tr>\n",
       "    <tr>\n",
       "      <th>4</th>\n",
       "      <td>v4</td>\n",
       "      <td>p1</td>\n",
       "      <td>112.0</td>\n",
       "      <td>1100.0</td>\n",
       "      <td>unkn</td>\n",
       "    </tr>\n",
       "    <tr>\n",
       "      <th>5</th>\n",
       "      <td>v3</td>\n",
       "      <td>p1</td>\n",
       "      <td>6164.0</td>\n",
       "      <td>20260.0</td>\n",
       "      <td>unkn</td>\n",
       "    </tr>\n",
       "  </tbody>\n",
       "</table>\n",
       "</div>"
      ],
      "text/plain": [
       "   ID Prod    Quant      Val  Insp\n",
       "1  v1   p1    182.0   1665.0  unkn\n",
       "2  v2   p1   3072.0   8780.0  unkn\n",
       "3  v3   p1  20393.0  76990.0  unkn\n",
       "4  v4   p1    112.0   1100.0  unkn\n",
       "5  v3   p1   6164.0  20260.0  unkn"
      ]
     },
     "execution_count": 4,
     "metadata": {},
     "output_type": "execute_result"
    }
   ],
   "source": [
    "fraud.head()"
   ]
  },
  {
   "cell_type": "code",
   "execution_count": 5,
   "metadata": {},
   "outputs": [
    {
     "data": {
      "text/plain": [
       "unkn     385414\n",
       "ok        14462\n",
       "fraud      1270\n",
       "Name: Insp, dtype: int64"
      ]
     },
     "execution_count": 5,
     "metadata": {},
     "output_type": "execute_result"
    }
   ],
   "source": [
    "fraud.Insp.value_counts()"
   ]
  },
  {
   "cell_type": "code",
   "execution_count": 6,
   "metadata": {},
   "outputs": [
    {
     "data": {
      "text/plain": [
       "(401146, 5)"
      ]
     },
     "execution_count": 6,
     "metadata": {},
     "output_type": "execute_result"
    }
   ],
   "source": [
    "fraud.shape"
   ]
  },
  {
   "cell_type": "markdown",
   "metadata": {},
   "source": [
    "# Data Cleaning"
   ]
  },
  {
   "cell_type": "code",
   "execution_count": 7,
   "metadata": {
    "collapsed": true
   },
   "outputs": [],
   "source": [
    "fraud.columns = [i.lower() for i in fraud.columns]"
   ]
  },
  {
   "cell_type": "code",
   "execution_count": 8,
   "metadata": {
    "scrolled": true
   },
   "outputs": [
    {
     "data": {
      "text/plain": [
       "instancemethod"
      ]
     },
     "execution_count": 8,
     "metadata": {},
     "output_type": "execute_result"
    }
   ],
   "source": [
    "type(fraud.prod)"
   ]
  },
  {
   "cell_type": "code",
   "execution_count": 9,
   "metadata": {},
   "outputs": [
    {
     "name": "stdout",
     "output_type": "stream",
     "text": [
      "<class 'pandas.core.series.Series'>\n"
     ]
    }
   ],
   "source": [
    "# changing fraud.pdt to a pd.Series type\n",
    "fraud['pdt'] = fraud['prod']\n",
    "print type(fraud.pdt)\n",
    "\n",
    "fraud.drop('prod', axis = 1, inplace = True)"
   ]
  },
  {
   "cell_type": "code",
   "execution_count": 10,
   "metadata": {
    "scrolled": false
   },
   "outputs": [
    {
     "name": "stdout",
     "output_type": "stream",
     "text": [
      "<class 'pandas.core.frame.DataFrame'>\n",
      "Int64Index: 401146 entries, 1 to 401146\n",
      "Data columns (total 5 columns):\n",
      "id       401146 non-null object\n",
      "quant    387304 non-null float64\n",
      "val      399964 non-null float64\n",
      "insp     401146 non-null object\n",
      "pdt      401146 non-null object\n",
      "dtypes: float64(2), object(3)\n",
      "memory usage: 18.4+ MB\n"
     ]
    }
   ],
   "source": [
    "fraud.info()"
   ]
  },
  {
   "cell_type": "code",
   "execution_count": 11,
   "metadata": {},
   "outputs": [
    {
     "data": {
      "text/plain": [
       "unkn     385414\n",
       "ok        14462\n",
       "fraud      1270\n",
       "Name: insp, dtype: int64"
      ]
     },
     "execution_count": 11,
     "metadata": {},
     "output_type": "execute_result"
    }
   ],
   "source": [
    "# looking at class distribution before data cleaning\n",
    "fraud.insp.value_counts()"
   ]
  },
  {
   "cell_type": "code",
   "execution_count": 12,
   "metadata": {},
   "outputs": [
    {
     "name": "stdout",
     "output_type": "stream",
     "text": [
      "number of rows that have null values for both quant and val column: 888\n"
     ]
    }
   ],
   "source": [
    "# filtering for null values in both quant and val\n",
    "quant_val_null = fraud[(fraud.quant.isnull() == True) & (fraud.val.isnull() == True)]\n",
    "print 'number of rows that have null values for both quant and val column: {}'.format(len(quant_val_null))\n",
    "\n",
    "# since we cannot impute a value for these rows as both quant and column columns are empty, we shall drop these rows"
   ]
  },
  {
   "cell_type": "code",
   "execution_count": 13,
   "metadata": {},
   "outputs": [
    {
     "name": "stdout",
     "output_type": "stream",
     "text": [
      "we are left with 400258 rows\n"
     ]
    }
   ],
   "source": [
    "fraud.drop(quant_val_null.index.values, axis = 0, inplace = True)\n",
    "print 'we are left with {} rows'.format(fraud.shape[0])"
   ]
  },
  {
   "cell_type": "code",
   "execution_count": 14,
   "metadata": {},
   "outputs": [
    {
     "name": "stdout",
     "output_type": "stream",
     "text": [
      "number of rows that have null values for val column only: 294\n"
     ]
    }
   ],
   "source": [
    "# filtering for null values in val\n",
    "val_null = fraud[fraud.val.isnull() == True]\n",
    "print 'number of rows that have null values for val column only: {}'.format(len(val_null))\n",
    "\n",
    "# we can calculate unit price per product for each transaction, obtain the median unit price for each product\n",
    "# and impute the missing null val by multiplying quant and median unit price of each product"
   ]
  },
  {
   "cell_type": "code",
   "execution_count": 15,
   "metadata": {
    "scrolled": true
   },
   "outputs": [
    {
     "data": {
      "text/html": [
       "<div>\n",
       "<style>\n",
       "    .dataframe thead tr:only-child th {\n",
       "        text-align: right;\n",
       "    }\n",
       "\n",
       "    .dataframe thead th {\n",
       "        text-align: left;\n",
       "    }\n",
       "\n",
       "    .dataframe tbody tr th {\n",
       "        vertical-align: top;\n",
       "    }\n",
       "</style>\n",
       "<table border=\"1\" class=\"dataframe\">\n",
       "  <thead>\n",
       "    <tr style=\"text-align: right;\">\n",
       "      <th></th>\n",
       "      <th>id</th>\n",
       "      <th>quant</th>\n",
       "      <th>val</th>\n",
       "      <th>insp</th>\n",
       "      <th>pdt</th>\n",
       "      <th>unit_price</th>\n",
       "    </tr>\n",
       "  </thead>\n",
       "  <tbody>\n",
       "    <tr>\n",
       "      <th>1</th>\n",
       "      <td>v1</td>\n",
       "      <td>182.0</td>\n",
       "      <td>1665.0</td>\n",
       "      <td>unkn</td>\n",
       "      <td>p1</td>\n",
       "      <td>9.148352</td>\n",
       "    </tr>\n",
       "    <tr>\n",
       "      <th>2</th>\n",
       "      <td>v2</td>\n",
       "      <td>3072.0</td>\n",
       "      <td>8780.0</td>\n",
       "      <td>unkn</td>\n",
       "      <td>p1</td>\n",
       "      <td>2.858073</td>\n",
       "    </tr>\n",
       "    <tr>\n",
       "      <th>3</th>\n",
       "      <td>v3</td>\n",
       "      <td>20393.0</td>\n",
       "      <td>76990.0</td>\n",
       "      <td>unkn</td>\n",
       "      <td>p1</td>\n",
       "      <td>3.775315</td>\n",
       "    </tr>\n",
       "    <tr>\n",
       "      <th>4</th>\n",
       "      <td>v4</td>\n",
       "      <td>112.0</td>\n",
       "      <td>1100.0</td>\n",
       "      <td>unkn</td>\n",
       "      <td>p1</td>\n",
       "      <td>9.821429</td>\n",
       "    </tr>\n",
       "    <tr>\n",
       "      <th>5</th>\n",
       "      <td>v3</td>\n",
       "      <td>6164.0</td>\n",
       "      <td>20260.0</td>\n",
       "      <td>unkn</td>\n",
       "      <td>p1</td>\n",
       "      <td>3.286827</td>\n",
       "    </tr>\n",
       "  </tbody>\n",
       "</table>\n",
       "</div>"
      ],
      "text/plain": [
       "   id    quant      val  insp pdt  unit_price\n",
       "1  v1    182.0   1665.0  unkn  p1    9.148352\n",
       "2  v2   3072.0   8780.0  unkn  p1    2.858073\n",
       "3  v3  20393.0  76990.0  unkn  p1    3.775315\n",
       "4  v4    112.0   1100.0  unkn  p1    9.821429\n",
       "5  v3   6164.0  20260.0  unkn  p1    3.286827"
      ]
     },
     "execution_count": 15,
     "metadata": {},
     "output_type": "execute_result"
    }
   ],
   "source": [
    "# creating new feature, unit price \n",
    "fraud['unit_price'] = fraud.val/fraud.quant\n",
    "fraud.head()"
   ]
  },
  {
   "cell_type": "code",
   "execution_count": 16,
   "metadata": {
    "scrolled": true
   },
   "outputs": [
    {
     "data": {
      "text/html": [
       "<div>\n",
       "<style>\n",
       "    .dataframe thead tr:only-child th {\n",
       "        text-align: right;\n",
       "    }\n",
       "\n",
       "    .dataframe thead th {\n",
       "        text-align: left;\n",
       "    }\n",
       "\n",
       "    .dataframe tbody tr th {\n",
       "        vertical-align: top;\n",
       "    }\n",
       "</style>\n",
       "<table border=\"1\" class=\"dataframe\">\n",
       "  <thead>\n",
       "    <tr style=\"text-align: right;\">\n",
       "      <th></th>\n",
       "      <th>count</th>\n",
       "      <th>mean</th>\n",
       "      <th>std</th>\n",
       "      <th>min</th>\n",
       "      <th>25%</th>\n",
       "      <th>50%</th>\n",
       "      <th>75%</th>\n",
       "      <th>max</th>\n",
       "    </tr>\n",
       "    <tr>\n",
       "      <th>pdt</th>\n",
       "      <th></th>\n",
       "      <th></th>\n",
       "      <th></th>\n",
       "      <th></th>\n",
       "      <th></th>\n",
       "      <th></th>\n",
       "      <th></th>\n",
       "      <th></th>\n",
       "    </tr>\n",
       "  </thead>\n",
       "  <tbody>\n",
       "    <tr>\n",
       "      <th>p3689</th>\n",
       "      <td>12.0</td>\n",
       "      <td>8157.290559</td>\n",
       "      <td>6890.029260</td>\n",
       "      <td>16.125000</td>\n",
       "      <td>177.485701</td>\n",
       "      <td>9204.195372</td>\n",
       "      <td>12448.462598</td>\n",
       "      <td>21167.902098</td>\n",
       "    </tr>\n",
       "    <tr>\n",
       "      <th>p3682</th>\n",
       "      <td>23.0</td>\n",
       "      <td>2471.350081</td>\n",
       "      <td>3306.747511</td>\n",
       "      <td>11.400000</td>\n",
       "      <td>29.950000</td>\n",
       "      <td>156.351351</td>\n",
       "      <td>5385.097247</td>\n",
       "      <td>8208.308458</td>\n",
       "    </tr>\n",
       "    <tr>\n",
       "      <th>p2203</th>\n",
       "      <td>48.0</td>\n",
       "      <td>287.074668</td>\n",
       "      <td>1924.098481</td>\n",
       "      <td>3.491484</td>\n",
       "      <td>6.322700</td>\n",
       "      <td>10.450000</td>\n",
       "      <td>11.050000</td>\n",
       "      <td>13339.869281</td>\n",
       "    </tr>\n",
       "    <tr>\n",
       "      <th>p3436</th>\n",
       "      <td>96.0</td>\n",
       "      <td>187.300432</td>\n",
       "      <td>1646.680864</td>\n",
       "      <td>3.126582</td>\n",
       "      <td>11.359754</td>\n",
       "      <td>14.302156</td>\n",
       "      <td>23.539827</td>\n",
       "      <td>16152.827869</td>\n",
       "    </tr>\n",
       "    <tr>\n",
       "      <th>p2451</th>\n",
       "      <td>119.0</td>\n",
       "      <td>766.189736</td>\n",
       "      <td>1384.758855</td>\n",
       "      <td>51.650000</td>\n",
       "      <td>110.550000</td>\n",
       "      <td>262.227723</td>\n",
       "      <td>817.428571</td>\n",
       "      <td>8799.541284</td>\n",
       "    </tr>\n",
       "    <tr>\n",
       "      <th>p1159</th>\n",
       "      <td>67.0</td>\n",
       "      <td>184.201730</td>\n",
       "      <td>1378.247619</td>\n",
       "      <td>5.481607</td>\n",
       "      <td>11.335899</td>\n",
       "      <td>13.998410</td>\n",
       "      <td>20.610092</td>\n",
       "      <td>11297.100000</td>\n",
       "    </tr>\n",
       "    <tr>\n",
       "      <th>p3863</th>\n",
       "      <td>18.0</td>\n",
       "      <td>322.690357</td>\n",
       "      <td>1275.041117</td>\n",
       "      <td>11.200000</td>\n",
       "      <td>13.050000</td>\n",
       "      <td>16.190131</td>\n",
       "      <td>36.831683</td>\n",
       "      <td>5431.435644</td>\n",
       "    </tr>\n",
       "    <tr>\n",
       "      <th>p3199</th>\n",
       "      <td>597.0</td>\n",
       "      <td>88.068180</td>\n",
       "      <td>1086.047912</td>\n",
       "      <td>0.225317</td>\n",
       "      <td>15.594059</td>\n",
       "      <td>24.656863</td>\n",
       "      <td>48.595041</td>\n",
       "      <td>26460.700000</td>\n",
       "    </tr>\n",
       "    <tr>\n",
       "      <th>p2452</th>\n",
       "      <td>157.0</td>\n",
       "      <td>625.445481</td>\n",
       "      <td>907.966077</td>\n",
       "      <td>18.150000</td>\n",
       "      <td>125.450000</td>\n",
       "      <td>329.313725</td>\n",
       "      <td>758.333333</td>\n",
       "      <td>5255.342466</td>\n",
       "    </tr>\n",
       "    <tr>\n",
       "      <th>p2456</th>\n",
       "      <td>453.0</td>\n",
       "      <td>649.181473</td>\n",
       "      <td>866.362647</td>\n",
       "      <td>1.661820</td>\n",
       "      <td>138.000000</td>\n",
       "      <td>304.851485</td>\n",
       "      <td>780.666667</td>\n",
       "      <td>5957.000000</td>\n",
       "    </tr>\n",
       "    <tr>\n",
       "      <th>p3474</th>\n",
       "      <td>31.0</td>\n",
       "      <td>177.235865</td>\n",
       "      <td>850.136084</td>\n",
       "      <td>10.900000</td>\n",
       "      <td>13.244270</td>\n",
       "      <td>14.834711</td>\n",
       "      <td>38.933862</td>\n",
       "      <td>4756.959459</td>\n",
       "    </tr>\n",
       "    <tr>\n",
       "      <th>p2453</th>\n",
       "      <td>29.0</td>\n",
       "      <td>852.739086</td>\n",
       "      <td>838.854113</td>\n",
       "      <td>52.900000</td>\n",
       "      <td>254.207921</td>\n",
       "      <td>456.078431</td>\n",
       "      <td>1082.850467</td>\n",
       "      <td>2675.000000</td>\n",
       "    </tr>\n",
       "    <tr>\n",
       "      <th>p4354</th>\n",
       "      <td>8.0</td>\n",
       "      <td>623.619237</td>\n",
       "      <td>721.467421</td>\n",
       "      <td>7.075000</td>\n",
       "      <td>126.417175</td>\n",
       "      <td>158.066038</td>\n",
       "      <td>1492.070064</td>\n",
       "      <td>1492.070064</td>\n",
       "    </tr>\n",
       "    <tr>\n",
       "      <th>p3291</th>\n",
       "      <td>29.0</td>\n",
       "      <td>207.987783</td>\n",
       "      <td>691.565401</td>\n",
       "      <td>9.432990</td>\n",
       "      <td>43.000000</td>\n",
       "      <td>56.371681</td>\n",
       "      <td>113.196721</td>\n",
       "      <td>3785.761905</td>\n",
       "    </tr>\n",
       "    <tr>\n",
       "      <th>p2459</th>\n",
       "      <td>127.0</td>\n",
       "      <td>481.603170</td>\n",
       "      <td>625.329852</td>\n",
       "      <td>13.648649</td>\n",
       "      <td>121.905446</td>\n",
       "      <td>283.811881</td>\n",
       "      <td>555.372882</td>\n",
       "      <td>3807.440000</td>\n",
       "    </tr>\n",
       "    <tr>\n",
       "      <th>p3679</th>\n",
       "      <td>100.0</td>\n",
       "      <td>176.885866</td>\n",
       "      <td>503.640089</td>\n",
       "      <td>10.148515</td>\n",
       "      <td>19.500000</td>\n",
       "      <td>49.237060</td>\n",
       "      <td>164.559701</td>\n",
       "      <td>2980.739130</td>\n",
       "    </tr>\n",
       "    <tr>\n",
       "      <th>p2269</th>\n",
       "      <td>137.0</td>\n",
       "      <td>96.675826</td>\n",
       "      <td>417.396361</td>\n",
       "      <td>2.663836</td>\n",
       "      <td>14.363636</td>\n",
       "      <td>28.810450</td>\n",
       "      <td>76.700419</td>\n",
       "      <td>3755.740741</td>\n",
       "    </tr>\n",
       "    <tr>\n",
       "      <th>p1199</th>\n",
       "      <td>153.0</td>\n",
       "      <td>44.627305</td>\n",
       "      <td>414.254306</td>\n",
       "      <td>0.645960</td>\n",
       "      <td>9.681818</td>\n",
       "      <td>10.491803</td>\n",
       "      <td>11.683168</td>\n",
       "      <td>5134.900990</td>\n",
       "    </tr>\n",
       "    <tr>\n",
       "      <th>p1213</th>\n",
       "      <td>513.0</td>\n",
       "      <td>45.526045</td>\n",
       "      <td>386.114117</td>\n",
       "      <td>0.029450</td>\n",
       "      <td>13.080357</td>\n",
       "      <td>19.492386</td>\n",
       "      <td>32.850000</td>\n",
       "      <td>8755.900901</td>\n",
       "    </tr>\n",
       "    <tr>\n",
       "      <th>p3555</th>\n",
       "      <td>81.0</td>\n",
       "      <td>155.264979</td>\n",
       "      <td>377.046759</td>\n",
       "      <td>10.100000</td>\n",
       "      <td>13.865435</td>\n",
       "      <td>27.200000</td>\n",
       "      <td>81.600000</td>\n",
       "      <td>2484.487179</td>\n",
       "    </tr>\n",
       "    <tr>\n",
       "      <th>p3511</th>\n",
       "      <td>94.0</td>\n",
       "      <td>59.165963</td>\n",
       "      <td>358.923302</td>\n",
       "      <td>8.198328</td>\n",
       "      <td>11.121495</td>\n",
       "      <td>13.659040</td>\n",
       "      <td>35.676195</td>\n",
       "      <td>3498.606557</td>\n",
       "    </tr>\n",
       "    <tr>\n",
       "      <th>p2151</th>\n",
       "      <td>33.0</td>\n",
       "      <td>83.379111</td>\n",
       "      <td>330.724080</td>\n",
       "      <td>9.537037</td>\n",
       "      <td>12.970297</td>\n",
       "      <td>22.149533</td>\n",
       "      <td>30.085470</td>\n",
       "      <td>1923.271605</td>\n",
       "    </tr>\n",
       "    <tr>\n",
       "      <th>p3551</th>\n",
       "      <td>28.0</td>\n",
       "      <td>182.202753</td>\n",
       "      <td>326.339064</td>\n",
       "      <td>10.700000</td>\n",
       "      <td>29.988244</td>\n",
       "      <td>54.333333</td>\n",
       "      <td>160.793036</td>\n",
       "      <td>1347.700000</td>\n",
       "    </tr>\n",
       "    <tr>\n",
       "      <th>p4056</th>\n",
       "      <td>57.0</td>\n",
       "      <td>171.519562</td>\n",
       "      <td>306.626161</td>\n",
       "      <td>10.958427</td>\n",
       "      <td>54.589235</td>\n",
       "      <td>87.400000</td>\n",
       "      <td>174.226131</td>\n",
       "      <td>1688.965517</td>\n",
       "    </tr>\n",
       "    <tr>\n",
       "      <th>p3901</th>\n",
       "      <td>21.0</td>\n",
       "      <td>93.407380</td>\n",
       "      <td>291.805072</td>\n",
       "      <td>10.250000</td>\n",
       "      <td>13.543689</td>\n",
       "      <td>24.483871</td>\n",
       "      <td>48.224206</td>\n",
       "      <td>1364.076577</td>\n",
       "    </tr>\n",
       "    <tr>\n",
       "      <th>p3780</th>\n",
       "      <td>92.0</td>\n",
       "      <td>55.778847</td>\n",
       "      <td>288.916965</td>\n",
       "      <td>7.556391</td>\n",
       "      <td>13.677840</td>\n",
       "      <td>21.088330</td>\n",
       "      <td>32.618972</td>\n",
       "      <td>2791.775362</td>\n",
       "    </tr>\n",
       "    <tr>\n",
       "      <th>p2784</th>\n",
       "      <td>112.0</td>\n",
       "      <td>46.949061</td>\n",
       "      <td>273.633161</td>\n",
       "      <td>0.010409</td>\n",
       "      <td>2.831790</td>\n",
       "      <td>3.164747</td>\n",
       "      <td>3.372827</td>\n",
       "      <td>2017.425743</td>\n",
       "    </tr>\n",
       "    <tr>\n",
       "      <th>p3862</th>\n",
       "      <td>45.0</td>\n",
       "      <td>169.429926</td>\n",
       "      <td>245.957681</td>\n",
       "      <td>10.495050</td>\n",
       "      <td>16.748466</td>\n",
       "      <td>34.417476</td>\n",
       "      <td>229.094203</td>\n",
       "      <td>967.417582</td>\n",
       "    </tr>\n",
       "    <tr>\n",
       "      <th>p2474</th>\n",
       "      <td>14.0</td>\n",
       "      <td>64.093000</td>\n",
       "      <td>230.786300</td>\n",
       "      <td>1.441050</td>\n",
       "      <td>1.804062</td>\n",
       "      <td>2.191500</td>\n",
       "      <td>2.559306</td>\n",
       "      <td>865.926966</td>\n",
       "    </tr>\n",
       "    <tr>\n",
       "      <th>p3920</th>\n",
       "      <td>144.0</td>\n",
       "      <td>55.502411</td>\n",
       "      <td>225.284849</td>\n",
       "      <td>1.801607</td>\n",
       "      <td>13.868627</td>\n",
       "      <td>17.225000</td>\n",
       "      <td>52.991530</td>\n",
       "      <td>2702.884615</td>\n",
       "    </tr>\n",
       "    <tr>\n",
       "      <th>...</th>\n",
       "      <td>...</td>\n",
       "      <td>...</td>\n",
       "      <td>...</td>\n",
       "      <td>...</td>\n",
       "      <td>...</td>\n",
       "      <td>...</td>\n",
       "      <td>...</td>\n",
       "      <td>...</td>\n",
       "    </tr>\n",
       "    <tr>\n",
       "      <th>p550</th>\n",
       "      <td>15.0</td>\n",
       "      <td>0.596362</td>\n",
       "      <td>0.116375</td>\n",
       "      <td>0.375391</td>\n",
       "      <td>0.520680</td>\n",
       "      <td>0.559408</td>\n",
       "      <td>0.706810</td>\n",
       "      <td>0.768347</td>\n",
       "    </tr>\n",
       "    <tr>\n",
       "      <th>p647</th>\n",
       "      <td>21.0</td>\n",
       "      <td>2.045470</td>\n",
       "      <td>0.113741</td>\n",
       "      <td>1.861168</td>\n",
       "      <td>1.983201</td>\n",
       "      <td>2.003202</td>\n",
       "      <td>2.090009</td>\n",
       "      <td>2.301741</td>\n",
       "    </tr>\n",
       "    <tr>\n",
       "      <th>p531</th>\n",
       "      <td>13.0</td>\n",
       "      <td>10.222835</td>\n",
       "      <td>0.110360</td>\n",
       "      <td>10.104895</td>\n",
       "      <td>10.166667</td>\n",
       "      <td>10.194175</td>\n",
       "      <td>10.366972</td>\n",
       "      <td>10.396825</td>\n",
       "    </tr>\n",
       "    <tr>\n",
       "      <th>p2000</th>\n",
       "      <td>9.0</td>\n",
       "      <td>10.338889</td>\n",
       "      <td>0.108333</td>\n",
       "      <td>10.250000</td>\n",
       "      <td>10.250000</td>\n",
       "      <td>10.350000</td>\n",
       "      <td>10.350000</td>\n",
       "      <td>10.600000</td>\n",
       "    </tr>\n",
       "    <tr>\n",
       "      <th>p689</th>\n",
       "      <td>13.0</td>\n",
       "      <td>7.647009</td>\n",
       "      <td>0.107509</td>\n",
       "      <td>7.516510</td>\n",
       "      <td>7.573613</td>\n",
       "      <td>7.638315</td>\n",
       "      <td>7.638315</td>\n",
       "      <td>7.824427</td>\n",
       "    </tr>\n",
       "    <tr>\n",
       "      <th>p2487</th>\n",
       "      <td>13.0</td>\n",
       "      <td>0.665070</td>\n",
       "      <td>0.099734</td>\n",
       "      <td>0.453051</td>\n",
       "      <td>0.642453</td>\n",
       "      <td>0.666604</td>\n",
       "      <td>0.732946</td>\n",
       "      <td>0.832911</td>\n",
       "    </tr>\n",
       "    <tr>\n",
       "      <th>p4171</th>\n",
       "      <td>15.0</td>\n",
       "      <td>0.718208</td>\n",
       "      <td>0.099044</td>\n",
       "      <td>0.666859</td>\n",
       "      <td>0.667303</td>\n",
       "      <td>0.668291</td>\n",
       "      <td>0.692323</td>\n",
       "      <td>0.956950</td>\n",
       "    </tr>\n",
       "    <tr>\n",
       "      <th>p745</th>\n",
       "      <td>16.0</td>\n",
       "      <td>4.381922</td>\n",
       "      <td>0.096315</td>\n",
       "      <td>4.162674</td>\n",
       "      <td>4.358413</td>\n",
       "      <td>4.389061</td>\n",
       "      <td>4.468129</td>\n",
       "      <td>4.492424</td>\n",
       "    </tr>\n",
       "    <tr>\n",
       "      <th>p638</th>\n",
       "      <td>11.0</td>\n",
       "      <td>7.486887</td>\n",
       "      <td>0.094220</td>\n",
       "      <td>7.431874</td>\n",
       "      <td>7.431874</td>\n",
       "      <td>7.431874</td>\n",
       "      <td>7.532731</td>\n",
       "      <td>7.633588</td>\n",
       "    </tr>\n",
       "    <tr>\n",
       "      <th>p2479</th>\n",
       "      <td>32.0</td>\n",
       "      <td>0.530088</td>\n",
       "      <td>0.090141</td>\n",
       "      <td>0.091552</td>\n",
       "      <td>0.536008</td>\n",
       "      <td>0.558019</td>\n",
       "      <td>0.568508</td>\n",
       "      <td>0.582502</td>\n",
       "    </tr>\n",
       "    <tr>\n",
       "      <th>p666</th>\n",
       "      <td>45.0</td>\n",
       "      <td>0.608774</td>\n",
       "      <td>0.068795</td>\n",
       "      <td>0.517306</td>\n",
       "      <td>0.548340</td>\n",
       "      <td>0.602516</td>\n",
       "      <td>0.620283</td>\n",
       "      <td>0.804261</td>\n",
       "    </tr>\n",
       "    <tr>\n",
       "      <th>p325</th>\n",
       "      <td>20.0</td>\n",
       "      <td>0.501203</td>\n",
       "      <td>0.063203</td>\n",
       "      <td>0.346326</td>\n",
       "      <td>0.466862</td>\n",
       "      <td>0.537479</td>\n",
       "      <td>0.541452</td>\n",
       "      <td>0.562241</td>\n",
       "    </tr>\n",
       "    <tr>\n",
       "      <th>p2510</th>\n",
       "      <td>24.0</td>\n",
       "      <td>0.547014</td>\n",
       "      <td>0.060784</td>\n",
       "      <td>0.445024</td>\n",
       "      <td>0.537159</td>\n",
       "      <td>0.538684</td>\n",
       "      <td>0.566565</td>\n",
       "      <td>0.785709</td>\n",
       "    </tr>\n",
       "    <tr>\n",
       "      <th>p575</th>\n",
       "      <td>30.0</td>\n",
       "      <td>0.247003</td>\n",
       "      <td>0.060132</td>\n",
       "      <td>0.192418</td>\n",
       "      <td>0.196472</td>\n",
       "      <td>0.231266</td>\n",
       "      <td>0.281828</td>\n",
       "      <td>0.356897</td>\n",
       "    </tr>\n",
       "    <tr>\n",
       "      <th>p2824</th>\n",
       "      <td>17.0</td>\n",
       "      <td>1.132419</td>\n",
       "      <td>0.055398</td>\n",
       "      <td>1.018499</td>\n",
       "      <td>1.121517</td>\n",
       "      <td>1.152180</td>\n",
       "      <td>1.172359</td>\n",
       "      <td>1.189015</td>\n",
       "    </tr>\n",
       "    <tr>\n",
       "      <th>p826</th>\n",
       "      <td>11.0</td>\n",
       "      <td>15.255132</td>\n",
       "      <td>0.048825</td>\n",
       "      <td>15.193548</td>\n",
       "      <td>15.193548</td>\n",
       "      <td>15.290323</td>\n",
       "      <td>15.290323</td>\n",
       "      <td>15.290323</td>\n",
       "    </tr>\n",
       "    <tr>\n",
       "      <th>p4424</th>\n",
       "      <td>12.0</td>\n",
       "      <td>3.186807</td>\n",
       "      <td>0.048199</td>\n",
       "      <td>3.140404</td>\n",
       "      <td>3.167123</td>\n",
       "      <td>3.177850</td>\n",
       "      <td>3.193819</td>\n",
       "      <td>3.319233</td>\n",
       "    </tr>\n",
       "    <tr>\n",
       "      <th>p2478</th>\n",
       "      <td>28.0</td>\n",
       "      <td>0.553891</td>\n",
       "      <td>0.045919</td>\n",
       "      <td>0.469545</td>\n",
       "      <td>0.533630</td>\n",
       "      <td>0.558339</td>\n",
       "      <td>0.571958</td>\n",
       "      <td>0.658716</td>\n",
       "    </tr>\n",
       "    <tr>\n",
       "      <th>p582</th>\n",
       "      <td>17.0</td>\n",
       "      <td>0.636083</td>\n",
       "      <td>0.044353</td>\n",
       "      <td>0.565680</td>\n",
       "      <td>0.607218</td>\n",
       "      <td>0.633944</td>\n",
       "      <td>0.649609</td>\n",
       "      <td>0.775548</td>\n",
       "    </tr>\n",
       "    <tr>\n",
       "      <th>p4188</th>\n",
       "      <td>13.0</td>\n",
       "      <td>0.821130</td>\n",
       "      <td>0.041901</td>\n",
       "      <td>0.758156</td>\n",
       "      <td>0.771074</td>\n",
       "      <td>0.840164</td>\n",
       "      <td>0.840984</td>\n",
       "      <td>0.892105</td>\n",
       "    </tr>\n",
       "    <tr>\n",
       "      <th>p1362</th>\n",
       "      <td>22.0</td>\n",
       "      <td>0.455345</td>\n",
       "      <td>0.037266</td>\n",
       "      <td>0.349224</td>\n",
       "      <td>0.435193</td>\n",
       "      <td>0.441749</td>\n",
       "      <td>0.484956</td>\n",
       "      <td>0.522349</td>\n",
       "    </tr>\n",
       "    <tr>\n",
       "      <th>p1360</th>\n",
       "      <td>11.0</td>\n",
       "      <td>0.465231</td>\n",
       "      <td>0.036564</td>\n",
       "      <td>0.393872</td>\n",
       "      <td>0.472028</td>\n",
       "      <td>0.474333</td>\n",
       "      <td>0.481862</td>\n",
       "      <td>0.503394</td>\n",
       "    </tr>\n",
       "    <tr>\n",
       "      <th>p2480</th>\n",
       "      <td>14.0</td>\n",
       "      <td>0.522200</td>\n",
       "      <td>0.036426</td>\n",
       "      <td>0.434237</td>\n",
       "      <td>0.507329</td>\n",
       "      <td>0.531587</td>\n",
       "      <td>0.548548</td>\n",
       "      <td>0.562050</td>\n",
       "    </tr>\n",
       "    <tr>\n",
       "      <th>p631</th>\n",
       "      <td>17.0</td>\n",
       "      <td>0.236960</td>\n",
       "      <td>0.034825</td>\n",
       "      <td>0.201366</td>\n",
       "      <td>0.204235</td>\n",
       "      <td>0.223739</td>\n",
       "      <td>0.278451</td>\n",
       "      <td>0.280515</td>\n",
       "    </tr>\n",
       "    <tr>\n",
       "      <th>p1366</th>\n",
       "      <td>11.0</td>\n",
       "      <td>0.387900</td>\n",
       "      <td>0.032175</td>\n",
       "      <td>0.325464</td>\n",
       "      <td>0.391873</td>\n",
       "      <td>0.398275</td>\n",
       "      <td>0.400562</td>\n",
       "      <td>0.419458</td>\n",
       "    </tr>\n",
       "    <tr>\n",
       "      <th>p313</th>\n",
       "      <td>27.0</td>\n",
       "      <td>0.299725</td>\n",
       "      <td>0.029219</td>\n",
       "      <td>0.245422</td>\n",
       "      <td>0.283689</td>\n",
       "      <td>0.286710</td>\n",
       "      <td>0.317036</td>\n",
       "      <td>0.373610</td>\n",
       "    </tr>\n",
       "    <tr>\n",
       "      <th>p196</th>\n",
       "      <td>11.0</td>\n",
       "      <td>2.237138</td>\n",
       "      <td>0.018528</td>\n",
       "      <td>2.204788</td>\n",
       "      <td>2.236089</td>\n",
       "      <td>2.236378</td>\n",
       "      <td>2.240657</td>\n",
       "      <td>2.276694</td>\n",
       "    </tr>\n",
       "    <tr>\n",
       "      <th>p1653</th>\n",
       "      <td>1.0</td>\n",
       "      <td>10.833333</td>\n",
       "      <td>NaN</td>\n",
       "      <td>10.833333</td>\n",
       "      <td>10.833333</td>\n",
       "      <td>10.833333</td>\n",
       "      <td>10.833333</td>\n",
       "      <td>10.833333</td>\n",
       "    </tr>\n",
       "    <tr>\n",
       "      <th>p2442</th>\n",
       "      <td>0.0</td>\n",
       "      <td>NaN</td>\n",
       "      <td>NaN</td>\n",
       "      <td>NaN</td>\n",
       "      <td>NaN</td>\n",
       "      <td>NaN</td>\n",
       "      <td>NaN</td>\n",
       "      <td>NaN</td>\n",
       "    </tr>\n",
       "    <tr>\n",
       "      <th>p2443</th>\n",
       "      <td>0.0</td>\n",
       "      <td>NaN</td>\n",
       "      <td>NaN</td>\n",
       "      <td>NaN</td>\n",
       "      <td>NaN</td>\n",
       "      <td>NaN</td>\n",
       "      <td>NaN</td>\n",
       "      <td>NaN</td>\n",
       "    </tr>\n",
       "  </tbody>\n",
       "</table>\n",
       "<p>4548 rows × 8 columns</p>\n",
       "</div>"
      ],
      "text/plain": [
       "       count         mean          std        min         25%          50%  \\\n",
       "pdt                                                                          \n",
       "p3689   12.0  8157.290559  6890.029260  16.125000  177.485701  9204.195372   \n",
       "p3682   23.0  2471.350081  3306.747511  11.400000   29.950000   156.351351   \n",
       "p2203   48.0   287.074668  1924.098481   3.491484    6.322700    10.450000   \n",
       "p3436   96.0   187.300432  1646.680864   3.126582   11.359754    14.302156   \n",
       "p2451  119.0   766.189736  1384.758855  51.650000  110.550000   262.227723   \n",
       "p1159   67.0   184.201730  1378.247619   5.481607   11.335899    13.998410   \n",
       "p3863   18.0   322.690357  1275.041117  11.200000   13.050000    16.190131   \n",
       "p3199  597.0    88.068180  1086.047912   0.225317   15.594059    24.656863   \n",
       "p2452  157.0   625.445481   907.966077  18.150000  125.450000   329.313725   \n",
       "p2456  453.0   649.181473   866.362647   1.661820  138.000000   304.851485   \n",
       "p3474   31.0   177.235865   850.136084  10.900000   13.244270    14.834711   \n",
       "p2453   29.0   852.739086   838.854113  52.900000  254.207921   456.078431   \n",
       "p4354    8.0   623.619237   721.467421   7.075000  126.417175   158.066038   \n",
       "p3291   29.0   207.987783   691.565401   9.432990   43.000000    56.371681   \n",
       "p2459  127.0   481.603170   625.329852  13.648649  121.905446   283.811881   \n",
       "p3679  100.0   176.885866   503.640089  10.148515   19.500000    49.237060   \n",
       "p2269  137.0    96.675826   417.396361   2.663836   14.363636    28.810450   \n",
       "p1199  153.0    44.627305   414.254306   0.645960    9.681818    10.491803   \n",
       "p1213  513.0    45.526045   386.114117   0.029450   13.080357    19.492386   \n",
       "p3555   81.0   155.264979   377.046759  10.100000   13.865435    27.200000   \n",
       "p3511   94.0    59.165963   358.923302   8.198328   11.121495    13.659040   \n",
       "p2151   33.0    83.379111   330.724080   9.537037   12.970297    22.149533   \n",
       "p3551   28.0   182.202753   326.339064  10.700000   29.988244    54.333333   \n",
       "p4056   57.0   171.519562   306.626161  10.958427   54.589235    87.400000   \n",
       "p3901   21.0    93.407380   291.805072  10.250000   13.543689    24.483871   \n",
       "p3780   92.0    55.778847   288.916965   7.556391   13.677840    21.088330   \n",
       "p2784  112.0    46.949061   273.633161   0.010409    2.831790     3.164747   \n",
       "p3862   45.0   169.429926   245.957681  10.495050   16.748466    34.417476   \n",
       "p2474   14.0    64.093000   230.786300   1.441050    1.804062     2.191500   \n",
       "p3920  144.0    55.502411   225.284849   1.801607   13.868627    17.225000   \n",
       "...      ...          ...          ...        ...         ...          ...   \n",
       "p550    15.0     0.596362     0.116375   0.375391    0.520680     0.559408   \n",
       "p647    21.0     2.045470     0.113741   1.861168    1.983201     2.003202   \n",
       "p531    13.0    10.222835     0.110360  10.104895   10.166667    10.194175   \n",
       "p2000    9.0    10.338889     0.108333  10.250000   10.250000    10.350000   \n",
       "p689    13.0     7.647009     0.107509   7.516510    7.573613     7.638315   \n",
       "p2487   13.0     0.665070     0.099734   0.453051    0.642453     0.666604   \n",
       "p4171   15.0     0.718208     0.099044   0.666859    0.667303     0.668291   \n",
       "p745    16.0     4.381922     0.096315   4.162674    4.358413     4.389061   \n",
       "p638    11.0     7.486887     0.094220   7.431874    7.431874     7.431874   \n",
       "p2479   32.0     0.530088     0.090141   0.091552    0.536008     0.558019   \n",
       "p666    45.0     0.608774     0.068795   0.517306    0.548340     0.602516   \n",
       "p325    20.0     0.501203     0.063203   0.346326    0.466862     0.537479   \n",
       "p2510   24.0     0.547014     0.060784   0.445024    0.537159     0.538684   \n",
       "p575    30.0     0.247003     0.060132   0.192418    0.196472     0.231266   \n",
       "p2824   17.0     1.132419     0.055398   1.018499    1.121517     1.152180   \n",
       "p826    11.0    15.255132     0.048825  15.193548   15.193548    15.290323   \n",
       "p4424   12.0     3.186807     0.048199   3.140404    3.167123     3.177850   \n",
       "p2478   28.0     0.553891     0.045919   0.469545    0.533630     0.558339   \n",
       "p582    17.0     0.636083     0.044353   0.565680    0.607218     0.633944   \n",
       "p4188   13.0     0.821130     0.041901   0.758156    0.771074     0.840164   \n",
       "p1362   22.0     0.455345     0.037266   0.349224    0.435193     0.441749   \n",
       "p1360   11.0     0.465231     0.036564   0.393872    0.472028     0.474333   \n",
       "p2480   14.0     0.522200     0.036426   0.434237    0.507329     0.531587   \n",
       "p631    17.0     0.236960     0.034825   0.201366    0.204235     0.223739   \n",
       "p1366   11.0     0.387900     0.032175   0.325464    0.391873     0.398275   \n",
       "p313    27.0     0.299725     0.029219   0.245422    0.283689     0.286710   \n",
       "p196    11.0     2.237138     0.018528   2.204788    2.236089     2.236378   \n",
       "p1653    1.0    10.833333          NaN  10.833333   10.833333    10.833333   \n",
       "p2442    0.0          NaN          NaN        NaN         NaN          NaN   \n",
       "p2443    0.0          NaN          NaN        NaN         NaN          NaN   \n",
       "\n",
       "                75%           max  \n",
       "pdt                                \n",
       "p3689  12448.462598  21167.902098  \n",
       "p3682   5385.097247   8208.308458  \n",
       "p2203     11.050000  13339.869281  \n",
       "p3436     23.539827  16152.827869  \n",
       "p2451    817.428571   8799.541284  \n",
       "p1159     20.610092  11297.100000  \n",
       "p3863     36.831683   5431.435644  \n",
       "p3199     48.595041  26460.700000  \n",
       "p2452    758.333333   5255.342466  \n",
       "p2456    780.666667   5957.000000  \n",
       "p3474     38.933862   4756.959459  \n",
       "p2453   1082.850467   2675.000000  \n",
       "p4354   1492.070064   1492.070064  \n",
       "p3291    113.196721   3785.761905  \n",
       "p2459    555.372882   3807.440000  \n",
       "p3679    164.559701   2980.739130  \n",
       "p2269     76.700419   3755.740741  \n",
       "p1199     11.683168   5134.900990  \n",
       "p1213     32.850000   8755.900901  \n",
       "p3555     81.600000   2484.487179  \n",
       "p3511     35.676195   3498.606557  \n",
       "p2151     30.085470   1923.271605  \n",
       "p3551    160.793036   1347.700000  \n",
       "p4056    174.226131   1688.965517  \n",
       "p3901     48.224206   1364.076577  \n",
       "p3780     32.618972   2791.775362  \n",
       "p2784      3.372827   2017.425743  \n",
       "p3862    229.094203    967.417582  \n",
       "p2474      2.559306    865.926966  \n",
       "p3920     52.991530   2702.884615  \n",
       "...             ...           ...  \n",
       "p550       0.706810      0.768347  \n",
       "p647       2.090009      2.301741  \n",
       "p531      10.366972     10.396825  \n",
       "p2000     10.350000     10.600000  \n",
       "p689       7.638315      7.824427  \n",
       "p2487      0.732946      0.832911  \n",
       "p4171      0.692323      0.956950  \n",
       "p745       4.468129      4.492424  \n",
       "p638       7.532731      7.633588  \n",
       "p2479      0.568508      0.582502  \n",
       "p666       0.620283      0.804261  \n",
       "p325       0.541452      0.562241  \n",
       "p2510      0.566565      0.785709  \n",
       "p575       0.281828      0.356897  \n",
       "p2824      1.172359      1.189015  \n",
       "p826      15.290323     15.290323  \n",
       "p4424      3.193819      3.319233  \n",
       "p2478      0.571958      0.658716  \n",
       "p582       0.649609      0.775548  \n",
       "p4188      0.840984      0.892105  \n",
       "p1362      0.484956      0.522349  \n",
       "p1360      0.481862      0.503394  \n",
       "p2480      0.548548      0.562050  \n",
       "p631       0.278451      0.280515  \n",
       "p1366      0.400562      0.419458  \n",
       "p313       0.317036      0.373610  \n",
       "p196       2.240657      2.276694  \n",
       "p1653     10.833333     10.833333  \n",
       "p2442           NaN           NaN  \n",
       "p2443           NaN           NaN  \n",
       "\n",
       "[4548 rows x 8 columns]"
      ]
     },
     "execution_count": 16,
     "metadata": {},
     "output_type": "execute_result"
    }
   ],
   "source": [
    "up_grpby = fraud.unit_price.groupby(fraud.pdt).describe()\n",
    "up_grpby.sort_values('std', ascending = False)\n",
    "\n",
    "# we can see that we do not have any information on the unit price of p2442 and p2443"
   ]
  },
  {
   "cell_type": "code",
   "execution_count": 17,
   "metadata": {
    "scrolled": true
   },
   "outputs": [
    {
     "name": "stdout",
     "output_type": "stream",
     "text": [
      "       count  mean  std  min  25%  50%  75%  max\n",
      "pdt                                             \n",
      "p2442    0.0   NaN  NaN  NaN  NaN  NaN  NaN  NaN\n",
      "p2443    0.0   NaN  NaN  NaN  NaN  NaN  NaN  NaN\n",
      "           id  quant       val   insp    pdt  unit_price\n",
      "20794   v2921    NaN    5715.0   unkn  p2442         NaN\n",
      "20795   v2922    NaN   21250.0   unkn  p2442         NaN\n",
      "20796   v2923    NaN  102210.0   unkn  p2442         NaN\n",
      "20797   v2922    NaN  213155.0   unkn  p2442         NaN\n",
      "20798   v2924    NaN    4870.0   unkn  p2442         NaN\n",
      "20799   v2925    NaN   17155.0     ok  p2443         NaN\n",
      "57039   v2924    NaN    4870.0   unkn  p2442         NaN\n",
      "57040   v2922    NaN   21250.0   unkn  p2442         NaN\n",
      "57041   v4356    NaN   53815.0   unkn  p2442         NaN\n",
      "57042   v2922    NaN  213155.0   unkn  p2442         NaN\n",
      "57043   v2925    NaN    3610.0  fraud  p2443         NaN\n",
      "57044   v4355    NaN    5260.0   unkn  p2443         NaN\n",
      "57045   v4355    NaN    1280.0  fraud  p2443         NaN\n",
      "99627   v2921    NaN  137625.0   unkn  p2442         NaN\n",
      "99628   v2920    NaN   21310.0   unkn  p2442         NaN\n",
      "99629   v4839    NaN    5190.0   unkn  p2442         NaN\n",
      "99630   v4356    NaN   11320.0   unkn  p2442         NaN\n",
      "99631   v2922    NaN   34180.0   unkn  p2442         NaN\n",
      "99632   v2925    NaN    3610.0   unkn  p2443         NaN\n",
      "99633   v4355    NaN    5260.0   unkn  p2443         NaN\n",
      "99634   v4355    NaN    1280.0   unkn  p2443         NaN\n",
      "99635   v2925    NaN    3075.0   unkn  p2443         NaN\n",
      "149786  v5077    NaN    7720.0   unkn  p2442         NaN\n",
      "149787  v2924    NaN    9620.0   unkn  p2442         NaN\n",
      "149788  v2920    NaN   34365.0   unkn  p2442         NaN\n",
      "149789  v2925    NaN    3455.0   unkn  p2443         NaN\n",
      "190793  v5077    NaN    7720.0   unkn  p2442         NaN\n",
      "190794  v4356    NaN   43705.0   unkn  p2442         NaN\n",
      "190795  v2939    NaN    5465.0   unkn  p2443         NaN\n",
      "190796  v2925    NaN   14990.0   unkn  p2443         NaN\n",
      "245622  v2924    NaN    4870.0   unkn  p2442         NaN\n",
      "245623  v2921    NaN  137625.0   unkn  p2442         NaN\n",
      "245624  v5077    NaN    7720.0   unkn  p2442         NaN\n",
      "245625  v2922    NaN   66820.0   unkn  p2442         NaN\n",
      "245626  v5077    NaN   12035.0   unkn  p2442         NaN\n",
      "245627  v2920    NaN   79320.0   unkn  p2442         NaN\n",
      "245628  v2925    NaN    3610.0   unkn  p2443         NaN\n",
      "316954  v2924    NaN    4870.0   unkn  p2442         NaN\n",
      "316955  v2921    NaN  137625.0   unkn  p2442         NaN\n",
      "316956  v5077    NaN    7720.0   unkn  p2442         NaN\n",
      "316957  v2922    NaN   66820.0   unkn  p2442         NaN\n",
      "316958  v5077    NaN   12350.0   unkn  p2442         NaN\n",
      "316959  v5077    NaN   12035.0   unkn  p2442         NaN\n",
      "316960  v2920    NaN   43180.0   unkn  p2442         NaN\n",
      "316961  v2925    NaN    3610.0   unkn  p2443         NaN\n",
      "316962  v4355    NaN    5260.0   unkn  p2443         NaN\n",
      "316963  v4355    NaN    1280.0   unkn  p2443         NaN\n",
      "316964  v2925    NaN    2890.0   unkn  p2443         NaN\n",
      "380847  v5077    NaN   11515.0   unkn  p2442         NaN\n",
      "380848  v4356    NaN    4695.0   unkn  p2442         NaN\n",
      "380849  v2923    NaN   15580.0   unkn  p2442         NaN\n",
      "380850  v2920    NaN   27320.0   unkn  p2442         NaN\n",
      "380851  v6044    NaN   21215.0   unkn  p2442         NaN\n",
      "380852  v4356    NaN   53190.0   unkn  p2442         NaN\n"
     ]
    }
   ],
   "source": [
    "print up_grpby.loc[['p2442', 'p2443']]\n",
    "\n",
    "print fraud[(fraud.pdt == 'p2442') | (fraud.pdt == 'p2443')]\n",
    "\n",
    "# there is no information on unit price of p2442 and p2443 because for all of the entries, quant is null\n",
    "# we shall remove all the rows containing these two products as little information can be gained from them\n",
    "\n",
    "fraud.drop(fraud[(fraud.pdt == 'p2442') | (fraud.pdt == 'p2443')].index.values, axis = 0, inplace = True )"
   ]
  },
  {
   "cell_type": "code",
   "execution_count": 18,
   "metadata": {
    "scrolled": true
   },
   "outputs": [
    {
     "data": {
      "text/html": [
       "<div>\n",
       "<style>\n",
       "    .dataframe thead tr:only-child th {\n",
       "        text-align: right;\n",
       "    }\n",
       "\n",
       "    .dataframe thead th {\n",
       "        text-align: left;\n",
       "    }\n",
       "\n",
       "    .dataframe tbody tr th {\n",
       "        vertical-align: top;\n",
       "    }\n",
       "</style>\n",
       "<table border=\"1\" class=\"dataframe\">\n",
       "  <thead>\n",
       "    <tr style=\"text-align: right;\">\n",
       "      <th></th>\n",
       "      <th>count</th>\n",
       "      <th>mean</th>\n",
       "      <th>std</th>\n",
       "      <th>min</th>\n",
       "      <th>25%</th>\n",
       "      <th>50%</th>\n",
       "      <th>75%</th>\n",
       "      <th>max</th>\n",
       "    </tr>\n",
       "    <tr>\n",
       "      <th>pdt</th>\n",
       "      <th></th>\n",
       "      <th></th>\n",
       "      <th></th>\n",
       "      <th></th>\n",
       "      <th></th>\n",
       "      <th></th>\n",
       "      <th></th>\n",
       "      <th></th>\n",
       "    </tr>\n",
       "  </thead>\n",
       "  <tbody>\n",
       "    <tr>\n",
       "      <th>p3689</th>\n",
       "      <td>12.0</td>\n",
       "      <td>8157.290559</td>\n",
       "      <td>6890.029260</td>\n",
       "      <td>16.125000</td>\n",
       "      <td>177.485701</td>\n",
       "      <td>9204.195372</td>\n",
       "      <td>12448.462598</td>\n",
       "      <td>21167.902098</td>\n",
       "    </tr>\n",
       "    <tr>\n",
       "      <th>p3682</th>\n",
       "      <td>23.0</td>\n",
       "      <td>2471.350081</td>\n",
       "      <td>3306.747511</td>\n",
       "      <td>11.400000</td>\n",
       "      <td>29.950000</td>\n",
       "      <td>156.351351</td>\n",
       "      <td>5385.097247</td>\n",
       "      <td>8208.308458</td>\n",
       "    </tr>\n",
       "    <tr>\n",
       "      <th>p2203</th>\n",
       "      <td>48.0</td>\n",
       "      <td>287.074668</td>\n",
       "      <td>1924.098481</td>\n",
       "      <td>3.491484</td>\n",
       "      <td>6.322700</td>\n",
       "      <td>10.450000</td>\n",
       "      <td>11.050000</td>\n",
       "      <td>13339.869281</td>\n",
       "    </tr>\n",
       "    <tr>\n",
       "      <th>p3436</th>\n",
       "      <td>96.0</td>\n",
       "      <td>187.300432</td>\n",
       "      <td>1646.680864</td>\n",
       "      <td>3.126582</td>\n",
       "      <td>11.359754</td>\n",
       "      <td>14.302156</td>\n",
       "      <td>23.539827</td>\n",
       "      <td>16152.827869</td>\n",
       "    </tr>\n",
       "    <tr>\n",
       "      <th>p2451</th>\n",
       "      <td>119.0</td>\n",
       "      <td>766.189736</td>\n",
       "      <td>1384.758855</td>\n",
       "      <td>51.650000</td>\n",
       "      <td>110.550000</td>\n",
       "      <td>262.227723</td>\n",
       "      <td>817.428571</td>\n",
       "      <td>8799.541284</td>\n",
       "    </tr>\n",
       "    <tr>\n",
       "      <th>p1159</th>\n",
       "      <td>67.0</td>\n",
       "      <td>184.201730</td>\n",
       "      <td>1378.247619</td>\n",
       "      <td>5.481607</td>\n",
       "      <td>11.335899</td>\n",
       "      <td>13.998410</td>\n",
       "      <td>20.610092</td>\n",
       "      <td>11297.100000</td>\n",
       "    </tr>\n",
       "    <tr>\n",
       "      <th>p3863</th>\n",
       "      <td>18.0</td>\n",
       "      <td>322.690357</td>\n",
       "      <td>1275.041117</td>\n",
       "      <td>11.200000</td>\n",
       "      <td>13.050000</td>\n",
       "      <td>16.190131</td>\n",
       "      <td>36.831683</td>\n",
       "      <td>5431.435644</td>\n",
       "    </tr>\n",
       "    <tr>\n",
       "      <th>p3199</th>\n",
       "      <td>597.0</td>\n",
       "      <td>88.068180</td>\n",
       "      <td>1086.047912</td>\n",
       "      <td>0.225317</td>\n",
       "      <td>15.594059</td>\n",
       "      <td>24.656863</td>\n",
       "      <td>48.595041</td>\n",
       "      <td>26460.700000</td>\n",
       "    </tr>\n",
       "    <tr>\n",
       "      <th>p2452</th>\n",
       "      <td>157.0</td>\n",
       "      <td>625.445481</td>\n",
       "      <td>907.966077</td>\n",
       "      <td>18.150000</td>\n",
       "      <td>125.450000</td>\n",
       "      <td>329.313725</td>\n",
       "      <td>758.333333</td>\n",
       "      <td>5255.342466</td>\n",
       "    </tr>\n",
       "    <tr>\n",
       "      <th>p2456</th>\n",
       "      <td>453.0</td>\n",
       "      <td>649.181473</td>\n",
       "      <td>866.362647</td>\n",
       "      <td>1.661820</td>\n",
       "      <td>138.000000</td>\n",
       "      <td>304.851485</td>\n",
       "      <td>780.666667</td>\n",
       "      <td>5957.000000</td>\n",
       "    </tr>\n",
       "    <tr>\n",
       "      <th>p3474</th>\n",
       "      <td>31.0</td>\n",
       "      <td>177.235865</td>\n",
       "      <td>850.136084</td>\n",
       "      <td>10.900000</td>\n",
       "      <td>13.244270</td>\n",
       "      <td>14.834711</td>\n",
       "      <td>38.933862</td>\n",
       "      <td>4756.959459</td>\n",
       "    </tr>\n",
       "    <tr>\n",
       "      <th>p2453</th>\n",
       "      <td>29.0</td>\n",
       "      <td>852.739086</td>\n",
       "      <td>838.854113</td>\n",
       "      <td>52.900000</td>\n",
       "      <td>254.207921</td>\n",
       "      <td>456.078431</td>\n",
       "      <td>1082.850467</td>\n",
       "      <td>2675.000000</td>\n",
       "    </tr>\n",
       "    <tr>\n",
       "      <th>p4354</th>\n",
       "      <td>8.0</td>\n",
       "      <td>623.619237</td>\n",
       "      <td>721.467421</td>\n",
       "      <td>7.075000</td>\n",
       "      <td>126.417175</td>\n",
       "      <td>158.066038</td>\n",
       "      <td>1492.070064</td>\n",
       "      <td>1492.070064</td>\n",
       "    </tr>\n",
       "    <tr>\n",
       "      <th>p3291</th>\n",
       "      <td>29.0</td>\n",
       "      <td>207.987783</td>\n",
       "      <td>691.565401</td>\n",
       "      <td>9.432990</td>\n",
       "      <td>43.000000</td>\n",
       "      <td>56.371681</td>\n",
       "      <td>113.196721</td>\n",
       "      <td>3785.761905</td>\n",
       "    </tr>\n",
       "    <tr>\n",
       "      <th>p2459</th>\n",
       "      <td>127.0</td>\n",
       "      <td>481.603170</td>\n",
       "      <td>625.329852</td>\n",
       "      <td>13.648649</td>\n",
       "      <td>121.905446</td>\n",
       "      <td>283.811881</td>\n",
       "      <td>555.372882</td>\n",
       "      <td>3807.440000</td>\n",
       "    </tr>\n",
       "    <tr>\n",
       "      <th>p3679</th>\n",
       "      <td>100.0</td>\n",
       "      <td>176.885866</td>\n",
       "      <td>503.640089</td>\n",
       "      <td>10.148515</td>\n",
       "      <td>19.500000</td>\n",
       "      <td>49.237060</td>\n",
       "      <td>164.559701</td>\n",
       "      <td>2980.739130</td>\n",
       "    </tr>\n",
       "    <tr>\n",
       "      <th>p2269</th>\n",
       "      <td>137.0</td>\n",
       "      <td>96.675826</td>\n",
       "      <td>417.396361</td>\n",
       "      <td>2.663836</td>\n",
       "      <td>14.363636</td>\n",
       "      <td>28.810450</td>\n",
       "      <td>76.700419</td>\n",
       "      <td>3755.740741</td>\n",
       "    </tr>\n",
       "    <tr>\n",
       "      <th>p1199</th>\n",
       "      <td>153.0</td>\n",
       "      <td>44.627305</td>\n",
       "      <td>414.254306</td>\n",
       "      <td>0.645960</td>\n",
       "      <td>9.681818</td>\n",
       "      <td>10.491803</td>\n",
       "      <td>11.683168</td>\n",
       "      <td>5134.900990</td>\n",
       "    </tr>\n",
       "    <tr>\n",
       "      <th>p1213</th>\n",
       "      <td>513.0</td>\n",
       "      <td>45.526045</td>\n",
       "      <td>386.114117</td>\n",
       "      <td>0.029450</td>\n",
       "      <td>13.080357</td>\n",
       "      <td>19.492386</td>\n",
       "      <td>32.850000</td>\n",
       "      <td>8755.900901</td>\n",
       "    </tr>\n",
       "    <tr>\n",
       "      <th>p3555</th>\n",
       "      <td>81.0</td>\n",
       "      <td>155.264979</td>\n",
       "      <td>377.046759</td>\n",
       "      <td>10.100000</td>\n",
       "      <td>13.865435</td>\n",
       "      <td>27.200000</td>\n",
       "      <td>81.600000</td>\n",
       "      <td>2484.487179</td>\n",
       "    </tr>\n",
       "    <tr>\n",
       "      <th>p3511</th>\n",
       "      <td>94.0</td>\n",
       "      <td>59.165963</td>\n",
       "      <td>358.923302</td>\n",
       "      <td>8.198328</td>\n",
       "      <td>11.121495</td>\n",
       "      <td>13.659040</td>\n",
       "      <td>35.676195</td>\n",
       "      <td>3498.606557</td>\n",
       "    </tr>\n",
       "    <tr>\n",
       "      <th>p2151</th>\n",
       "      <td>33.0</td>\n",
       "      <td>83.379111</td>\n",
       "      <td>330.724080</td>\n",
       "      <td>9.537037</td>\n",
       "      <td>12.970297</td>\n",
       "      <td>22.149533</td>\n",
       "      <td>30.085470</td>\n",
       "      <td>1923.271605</td>\n",
       "    </tr>\n",
       "    <tr>\n",
       "      <th>p3551</th>\n",
       "      <td>28.0</td>\n",
       "      <td>182.202753</td>\n",
       "      <td>326.339064</td>\n",
       "      <td>10.700000</td>\n",
       "      <td>29.988244</td>\n",
       "      <td>54.333333</td>\n",
       "      <td>160.793036</td>\n",
       "      <td>1347.700000</td>\n",
       "    </tr>\n",
       "    <tr>\n",
       "      <th>p4056</th>\n",
       "      <td>57.0</td>\n",
       "      <td>171.519562</td>\n",
       "      <td>306.626161</td>\n",
       "      <td>10.958427</td>\n",
       "      <td>54.589235</td>\n",
       "      <td>87.400000</td>\n",
       "      <td>174.226131</td>\n",
       "      <td>1688.965517</td>\n",
       "    </tr>\n",
       "    <tr>\n",
       "      <th>p3901</th>\n",
       "      <td>21.0</td>\n",
       "      <td>93.407380</td>\n",
       "      <td>291.805072</td>\n",
       "      <td>10.250000</td>\n",
       "      <td>13.543689</td>\n",
       "      <td>24.483871</td>\n",
       "      <td>48.224206</td>\n",
       "      <td>1364.076577</td>\n",
       "    </tr>\n",
       "    <tr>\n",
       "      <th>p3780</th>\n",
       "      <td>92.0</td>\n",
       "      <td>55.778847</td>\n",
       "      <td>288.916965</td>\n",
       "      <td>7.556391</td>\n",
       "      <td>13.677840</td>\n",
       "      <td>21.088330</td>\n",
       "      <td>32.618972</td>\n",
       "      <td>2791.775362</td>\n",
       "    </tr>\n",
       "    <tr>\n",
       "      <th>p2784</th>\n",
       "      <td>112.0</td>\n",
       "      <td>46.949061</td>\n",
       "      <td>273.633161</td>\n",
       "      <td>0.010409</td>\n",
       "      <td>2.831790</td>\n",
       "      <td>3.164747</td>\n",
       "      <td>3.372827</td>\n",
       "      <td>2017.425743</td>\n",
       "    </tr>\n",
       "    <tr>\n",
       "      <th>p3862</th>\n",
       "      <td>45.0</td>\n",
       "      <td>169.429926</td>\n",
       "      <td>245.957681</td>\n",
       "      <td>10.495050</td>\n",
       "      <td>16.748466</td>\n",
       "      <td>34.417476</td>\n",
       "      <td>229.094203</td>\n",
       "      <td>967.417582</td>\n",
       "    </tr>\n",
       "    <tr>\n",
       "      <th>p2474</th>\n",
       "      <td>14.0</td>\n",
       "      <td>64.093000</td>\n",
       "      <td>230.786300</td>\n",
       "      <td>1.441050</td>\n",
       "      <td>1.804062</td>\n",
       "      <td>2.191500</td>\n",
       "      <td>2.559306</td>\n",
       "      <td>865.926966</td>\n",
       "    </tr>\n",
       "    <tr>\n",
       "      <th>p3920</th>\n",
       "      <td>144.0</td>\n",
       "      <td>55.502411</td>\n",
       "      <td>225.284849</td>\n",
       "      <td>1.801607</td>\n",
       "      <td>13.868627</td>\n",
       "      <td>17.225000</td>\n",
       "      <td>52.991530</td>\n",
       "      <td>2702.884615</td>\n",
       "    </tr>\n",
       "    <tr>\n",
       "      <th>...</th>\n",
       "      <td>...</td>\n",
       "      <td>...</td>\n",
       "      <td>...</td>\n",
       "      <td>...</td>\n",
       "      <td>...</td>\n",
       "      <td>...</td>\n",
       "      <td>...</td>\n",
       "      <td>...</td>\n",
       "    </tr>\n",
       "    <tr>\n",
       "      <th>p2530</th>\n",
       "      <td>82.0</td>\n",
       "      <td>0.710610</td>\n",
       "      <td>0.122508</td>\n",
       "      <td>0.249151</td>\n",
       "      <td>0.656554</td>\n",
       "      <td>0.693233</td>\n",
       "      <td>0.745066</td>\n",
       "      <td>1.042772</td>\n",
       "    </tr>\n",
       "    <tr>\n",
       "      <th>p4436</th>\n",
       "      <td>12.0</td>\n",
       "      <td>9.790657</td>\n",
       "      <td>0.118724</td>\n",
       "      <td>9.521739</td>\n",
       "      <td>9.764151</td>\n",
       "      <td>9.764151</td>\n",
       "      <td>9.810858</td>\n",
       "      <td>9.950980</td>\n",
       "    </tr>\n",
       "    <tr>\n",
       "      <th>p550</th>\n",
       "      <td>15.0</td>\n",
       "      <td>0.596362</td>\n",
       "      <td>0.116375</td>\n",
       "      <td>0.375391</td>\n",
       "      <td>0.520680</td>\n",
       "      <td>0.559408</td>\n",
       "      <td>0.706810</td>\n",
       "      <td>0.768347</td>\n",
       "    </tr>\n",
       "    <tr>\n",
       "      <th>p647</th>\n",
       "      <td>21.0</td>\n",
       "      <td>2.045470</td>\n",
       "      <td>0.113741</td>\n",
       "      <td>1.861168</td>\n",
       "      <td>1.983201</td>\n",
       "      <td>2.003202</td>\n",
       "      <td>2.090009</td>\n",
       "      <td>2.301741</td>\n",
       "    </tr>\n",
       "    <tr>\n",
       "      <th>p531</th>\n",
       "      <td>13.0</td>\n",
       "      <td>10.222835</td>\n",
       "      <td>0.110360</td>\n",
       "      <td>10.104895</td>\n",
       "      <td>10.166667</td>\n",
       "      <td>10.194175</td>\n",
       "      <td>10.366972</td>\n",
       "      <td>10.396825</td>\n",
       "    </tr>\n",
       "    <tr>\n",
       "      <th>p2000</th>\n",
       "      <td>9.0</td>\n",
       "      <td>10.338889</td>\n",
       "      <td>0.108333</td>\n",
       "      <td>10.250000</td>\n",
       "      <td>10.250000</td>\n",
       "      <td>10.350000</td>\n",
       "      <td>10.350000</td>\n",
       "      <td>10.600000</td>\n",
       "    </tr>\n",
       "    <tr>\n",
       "      <th>p689</th>\n",
       "      <td>13.0</td>\n",
       "      <td>7.647009</td>\n",
       "      <td>0.107509</td>\n",
       "      <td>7.516510</td>\n",
       "      <td>7.573613</td>\n",
       "      <td>7.638315</td>\n",
       "      <td>7.638315</td>\n",
       "      <td>7.824427</td>\n",
       "    </tr>\n",
       "    <tr>\n",
       "      <th>p2487</th>\n",
       "      <td>13.0</td>\n",
       "      <td>0.665070</td>\n",
       "      <td>0.099734</td>\n",
       "      <td>0.453051</td>\n",
       "      <td>0.642453</td>\n",
       "      <td>0.666604</td>\n",
       "      <td>0.732946</td>\n",
       "      <td>0.832911</td>\n",
       "    </tr>\n",
       "    <tr>\n",
       "      <th>p4171</th>\n",
       "      <td>15.0</td>\n",
       "      <td>0.718208</td>\n",
       "      <td>0.099044</td>\n",
       "      <td>0.666859</td>\n",
       "      <td>0.667303</td>\n",
       "      <td>0.668291</td>\n",
       "      <td>0.692323</td>\n",
       "      <td>0.956950</td>\n",
       "    </tr>\n",
       "    <tr>\n",
       "      <th>p745</th>\n",
       "      <td>16.0</td>\n",
       "      <td>4.381922</td>\n",
       "      <td>0.096315</td>\n",
       "      <td>4.162674</td>\n",
       "      <td>4.358413</td>\n",
       "      <td>4.389061</td>\n",
       "      <td>4.468129</td>\n",
       "      <td>4.492424</td>\n",
       "    </tr>\n",
       "    <tr>\n",
       "      <th>p638</th>\n",
       "      <td>11.0</td>\n",
       "      <td>7.486887</td>\n",
       "      <td>0.094220</td>\n",
       "      <td>7.431874</td>\n",
       "      <td>7.431874</td>\n",
       "      <td>7.431874</td>\n",
       "      <td>7.532731</td>\n",
       "      <td>7.633588</td>\n",
       "    </tr>\n",
       "    <tr>\n",
       "      <th>p2479</th>\n",
       "      <td>32.0</td>\n",
       "      <td>0.530088</td>\n",
       "      <td>0.090141</td>\n",
       "      <td>0.091552</td>\n",
       "      <td>0.536008</td>\n",
       "      <td>0.558019</td>\n",
       "      <td>0.568508</td>\n",
       "      <td>0.582502</td>\n",
       "    </tr>\n",
       "    <tr>\n",
       "      <th>p666</th>\n",
       "      <td>45.0</td>\n",
       "      <td>0.608774</td>\n",
       "      <td>0.068795</td>\n",
       "      <td>0.517306</td>\n",
       "      <td>0.548340</td>\n",
       "      <td>0.602516</td>\n",
       "      <td>0.620283</td>\n",
       "      <td>0.804261</td>\n",
       "    </tr>\n",
       "    <tr>\n",
       "      <th>p325</th>\n",
       "      <td>20.0</td>\n",
       "      <td>0.501203</td>\n",
       "      <td>0.063203</td>\n",
       "      <td>0.346326</td>\n",
       "      <td>0.466862</td>\n",
       "      <td>0.537479</td>\n",
       "      <td>0.541452</td>\n",
       "      <td>0.562241</td>\n",
       "    </tr>\n",
       "    <tr>\n",
       "      <th>p2510</th>\n",
       "      <td>24.0</td>\n",
       "      <td>0.547014</td>\n",
       "      <td>0.060784</td>\n",
       "      <td>0.445024</td>\n",
       "      <td>0.537159</td>\n",
       "      <td>0.538684</td>\n",
       "      <td>0.566565</td>\n",
       "      <td>0.785709</td>\n",
       "    </tr>\n",
       "    <tr>\n",
       "      <th>p575</th>\n",
       "      <td>30.0</td>\n",
       "      <td>0.247003</td>\n",
       "      <td>0.060132</td>\n",
       "      <td>0.192418</td>\n",
       "      <td>0.196472</td>\n",
       "      <td>0.231266</td>\n",
       "      <td>0.281828</td>\n",
       "      <td>0.356897</td>\n",
       "    </tr>\n",
       "    <tr>\n",
       "      <th>p2824</th>\n",
       "      <td>17.0</td>\n",
       "      <td>1.132419</td>\n",
       "      <td>0.055398</td>\n",
       "      <td>1.018499</td>\n",
       "      <td>1.121517</td>\n",
       "      <td>1.152180</td>\n",
       "      <td>1.172359</td>\n",
       "      <td>1.189015</td>\n",
       "    </tr>\n",
       "    <tr>\n",
       "      <th>p826</th>\n",
       "      <td>11.0</td>\n",
       "      <td>15.255132</td>\n",
       "      <td>0.048825</td>\n",
       "      <td>15.193548</td>\n",
       "      <td>15.193548</td>\n",
       "      <td>15.290323</td>\n",
       "      <td>15.290323</td>\n",
       "      <td>15.290323</td>\n",
       "    </tr>\n",
       "    <tr>\n",
       "      <th>p4424</th>\n",
       "      <td>12.0</td>\n",
       "      <td>3.186807</td>\n",
       "      <td>0.048199</td>\n",
       "      <td>3.140404</td>\n",
       "      <td>3.167123</td>\n",
       "      <td>3.177850</td>\n",
       "      <td>3.193819</td>\n",
       "      <td>3.319233</td>\n",
       "    </tr>\n",
       "    <tr>\n",
       "      <th>p2478</th>\n",
       "      <td>28.0</td>\n",
       "      <td>0.553891</td>\n",
       "      <td>0.045919</td>\n",
       "      <td>0.469545</td>\n",
       "      <td>0.533630</td>\n",
       "      <td>0.558339</td>\n",
       "      <td>0.571958</td>\n",
       "      <td>0.658716</td>\n",
       "    </tr>\n",
       "    <tr>\n",
       "      <th>p582</th>\n",
       "      <td>17.0</td>\n",
       "      <td>0.636083</td>\n",
       "      <td>0.044353</td>\n",
       "      <td>0.565680</td>\n",
       "      <td>0.607218</td>\n",
       "      <td>0.633944</td>\n",
       "      <td>0.649609</td>\n",
       "      <td>0.775548</td>\n",
       "    </tr>\n",
       "    <tr>\n",
       "      <th>p4188</th>\n",
       "      <td>13.0</td>\n",
       "      <td>0.821130</td>\n",
       "      <td>0.041901</td>\n",
       "      <td>0.758156</td>\n",
       "      <td>0.771074</td>\n",
       "      <td>0.840164</td>\n",
       "      <td>0.840984</td>\n",
       "      <td>0.892105</td>\n",
       "    </tr>\n",
       "    <tr>\n",
       "      <th>p1362</th>\n",
       "      <td>22.0</td>\n",
       "      <td>0.455345</td>\n",
       "      <td>0.037266</td>\n",
       "      <td>0.349224</td>\n",
       "      <td>0.435193</td>\n",
       "      <td>0.441749</td>\n",
       "      <td>0.484956</td>\n",
       "      <td>0.522349</td>\n",
       "    </tr>\n",
       "    <tr>\n",
       "      <th>p1360</th>\n",
       "      <td>11.0</td>\n",
       "      <td>0.465231</td>\n",
       "      <td>0.036564</td>\n",
       "      <td>0.393872</td>\n",
       "      <td>0.472028</td>\n",
       "      <td>0.474333</td>\n",
       "      <td>0.481862</td>\n",
       "      <td>0.503394</td>\n",
       "    </tr>\n",
       "    <tr>\n",
       "      <th>p2480</th>\n",
       "      <td>14.0</td>\n",
       "      <td>0.522200</td>\n",
       "      <td>0.036426</td>\n",
       "      <td>0.434237</td>\n",
       "      <td>0.507329</td>\n",
       "      <td>0.531587</td>\n",
       "      <td>0.548548</td>\n",
       "      <td>0.562050</td>\n",
       "    </tr>\n",
       "    <tr>\n",
       "      <th>p631</th>\n",
       "      <td>17.0</td>\n",
       "      <td>0.236960</td>\n",
       "      <td>0.034825</td>\n",
       "      <td>0.201366</td>\n",
       "      <td>0.204235</td>\n",
       "      <td>0.223739</td>\n",
       "      <td>0.278451</td>\n",
       "      <td>0.280515</td>\n",
       "    </tr>\n",
       "    <tr>\n",
       "      <th>p1366</th>\n",
       "      <td>11.0</td>\n",
       "      <td>0.387900</td>\n",
       "      <td>0.032175</td>\n",
       "      <td>0.325464</td>\n",
       "      <td>0.391873</td>\n",
       "      <td>0.398275</td>\n",
       "      <td>0.400562</td>\n",
       "      <td>0.419458</td>\n",
       "    </tr>\n",
       "    <tr>\n",
       "      <th>p313</th>\n",
       "      <td>27.0</td>\n",
       "      <td>0.299725</td>\n",
       "      <td>0.029219</td>\n",
       "      <td>0.245422</td>\n",
       "      <td>0.283689</td>\n",
       "      <td>0.286710</td>\n",
       "      <td>0.317036</td>\n",
       "      <td>0.373610</td>\n",
       "    </tr>\n",
       "    <tr>\n",
       "      <th>p196</th>\n",
       "      <td>11.0</td>\n",
       "      <td>2.237138</td>\n",
       "      <td>0.018528</td>\n",
       "      <td>2.204788</td>\n",
       "      <td>2.236089</td>\n",
       "      <td>2.236378</td>\n",
       "      <td>2.240657</td>\n",
       "      <td>2.276694</td>\n",
       "    </tr>\n",
       "    <tr>\n",
       "      <th>p1653</th>\n",
       "      <td>1.0</td>\n",
       "      <td>10.833333</td>\n",
       "      <td>NaN</td>\n",
       "      <td>10.833333</td>\n",
       "      <td>10.833333</td>\n",
       "      <td>10.833333</td>\n",
       "      <td>10.833333</td>\n",
       "      <td>10.833333</td>\n",
       "    </tr>\n",
       "  </tbody>\n",
       "</table>\n",
       "<p>4546 rows × 8 columns</p>\n",
       "</div>"
      ],
      "text/plain": [
       "       count         mean          std        min         25%          50%  \\\n",
       "pdt                                                                          \n",
       "p3689   12.0  8157.290559  6890.029260  16.125000  177.485701  9204.195372   \n",
       "p3682   23.0  2471.350081  3306.747511  11.400000   29.950000   156.351351   \n",
       "p2203   48.0   287.074668  1924.098481   3.491484    6.322700    10.450000   \n",
       "p3436   96.0   187.300432  1646.680864   3.126582   11.359754    14.302156   \n",
       "p2451  119.0   766.189736  1384.758855  51.650000  110.550000   262.227723   \n",
       "p1159   67.0   184.201730  1378.247619   5.481607   11.335899    13.998410   \n",
       "p3863   18.0   322.690357  1275.041117  11.200000   13.050000    16.190131   \n",
       "p3199  597.0    88.068180  1086.047912   0.225317   15.594059    24.656863   \n",
       "p2452  157.0   625.445481   907.966077  18.150000  125.450000   329.313725   \n",
       "p2456  453.0   649.181473   866.362647   1.661820  138.000000   304.851485   \n",
       "p3474   31.0   177.235865   850.136084  10.900000   13.244270    14.834711   \n",
       "p2453   29.0   852.739086   838.854113  52.900000  254.207921   456.078431   \n",
       "p4354    8.0   623.619237   721.467421   7.075000  126.417175   158.066038   \n",
       "p3291   29.0   207.987783   691.565401   9.432990   43.000000    56.371681   \n",
       "p2459  127.0   481.603170   625.329852  13.648649  121.905446   283.811881   \n",
       "p3679  100.0   176.885866   503.640089  10.148515   19.500000    49.237060   \n",
       "p2269  137.0    96.675826   417.396361   2.663836   14.363636    28.810450   \n",
       "p1199  153.0    44.627305   414.254306   0.645960    9.681818    10.491803   \n",
       "p1213  513.0    45.526045   386.114117   0.029450   13.080357    19.492386   \n",
       "p3555   81.0   155.264979   377.046759  10.100000   13.865435    27.200000   \n",
       "p3511   94.0    59.165963   358.923302   8.198328   11.121495    13.659040   \n",
       "p2151   33.0    83.379111   330.724080   9.537037   12.970297    22.149533   \n",
       "p3551   28.0   182.202753   326.339064  10.700000   29.988244    54.333333   \n",
       "p4056   57.0   171.519562   306.626161  10.958427   54.589235    87.400000   \n",
       "p3901   21.0    93.407380   291.805072  10.250000   13.543689    24.483871   \n",
       "p3780   92.0    55.778847   288.916965   7.556391   13.677840    21.088330   \n",
       "p2784  112.0    46.949061   273.633161   0.010409    2.831790     3.164747   \n",
       "p3862   45.0   169.429926   245.957681  10.495050   16.748466    34.417476   \n",
       "p2474   14.0    64.093000   230.786300   1.441050    1.804062     2.191500   \n",
       "p3920  144.0    55.502411   225.284849   1.801607   13.868627    17.225000   \n",
       "...      ...          ...          ...        ...         ...          ...   \n",
       "p2530   82.0     0.710610     0.122508   0.249151    0.656554     0.693233   \n",
       "p4436   12.0     9.790657     0.118724   9.521739    9.764151     9.764151   \n",
       "p550    15.0     0.596362     0.116375   0.375391    0.520680     0.559408   \n",
       "p647    21.0     2.045470     0.113741   1.861168    1.983201     2.003202   \n",
       "p531    13.0    10.222835     0.110360  10.104895   10.166667    10.194175   \n",
       "p2000    9.0    10.338889     0.108333  10.250000   10.250000    10.350000   \n",
       "p689    13.0     7.647009     0.107509   7.516510    7.573613     7.638315   \n",
       "p2487   13.0     0.665070     0.099734   0.453051    0.642453     0.666604   \n",
       "p4171   15.0     0.718208     0.099044   0.666859    0.667303     0.668291   \n",
       "p745    16.0     4.381922     0.096315   4.162674    4.358413     4.389061   \n",
       "p638    11.0     7.486887     0.094220   7.431874    7.431874     7.431874   \n",
       "p2479   32.0     0.530088     0.090141   0.091552    0.536008     0.558019   \n",
       "p666    45.0     0.608774     0.068795   0.517306    0.548340     0.602516   \n",
       "p325    20.0     0.501203     0.063203   0.346326    0.466862     0.537479   \n",
       "p2510   24.0     0.547014     0.060784   0.445024    0.537159     0.538684   \n",
       "p575    30.0     0.247003     0.060132   0.192418    0.196472     0.231266   \n",
       "p2824   17.0     1.132419     0.055398   1.018499    1.121517     1.152180   \n",
       "p826    11.0    15.255132     0.048825  15.193548   15.193548    15.290323   \n",
       "p4424   12.0     3.186807     0.048199   3.140404    3.167123     3.177850   \n",
       "p2478   28.0     0.553891     0.045919   0.469545    0.533630     0.558339   \n",
       "p582    17.0     0.636083     0.044353   0.565680    0.607218     0.633944   \n",
       "p4188   13.0     0.821130     0.041901   0.758156    0.771074     0.840164   \n",
       "p1362   22.0     0.455345     0.037266   0.349224    0.435193     0.441749   \n",
       "p1360   11.0     0.465231     0.036564   0.393872    0.472028     0.474333   \n",
       "p2480   14.0     0.522200     0.036426   0.434237    0.507329     0.531587   \n",
       "p631    17.0     0.236960     0.034825   0.201366    0.204235     0.223739   \n",
       "p1366   11.0     0.387900     0.032175   0.325464    0.391873     0.398275   \n",
       "p313    27.0     0.299725     0.029219   0.245422    0.283689     0.286710   \n",
       "p196    11.0     2.237138     0.018528   2.204788    2.236089     2.236378   \n",
       "p1653    1.0    10.833333          NaN  10.833333   10.833333    10.833333   \n",
       "\n",
       "                75%           max  \n",
       "pdt                                \n",
       "p3689  12448.462598  21167.902098  \n",
       "p3682   5385.097247   8208.308458  \n",
       "p2203     11.050000  13339.869281  \n",
       "p3436     23.539827  16152.827869  \n",
       "p2451    817.428571   8799.541284  \n",
       "p1159     20.610092  11297.100000  \n",
       "p3863     36.831683   5431.435644  \n",
       "p3199     48.595041  26460.700000  \n",
       "p2452    758.333333   5255.342466  \n",
       "p2456    780.666667   5957.000000  \n",
       "p3474     38.933862   4756.959459  \n",
       "p2453   1082.850467   2675.000000  \n",
       "p4354   1492.070064   1492.070064  \n",
       "p3291    113.196721   3785.761905  \n",
       "p2459    555.372882   3807.440000  \n",
       "p3679    164.559701   2980.739130  \n",
       "p2269     76.700419   3755.740741  \n",
       "p1199     11.683168   5134.900990  \n",
       "p1213     32.850000   8755.900901  \n",
       "p3555     81.600000   2484.487179  \n",
       "p3511     35.676195   3498.606557  \n",
       "p2151     30.085470   1923.271605  \n",
       "p3551    160.793036   1347.700000  \n",
       "p4056    174.226131   1688.965517  \n",
       "p3901     48.224206   1364.076577  \n",
       "p3780     32.618972   2791.775362  \n",
       "p2784      3.372827   2017.425743  \n",
       "p3862    229.094203    967.417582  \n",
       "p2474      2.559306    865.926966  \n",
       "p3920     52.991530   2702.884615  \n",
       "...             ...           ...  \n",
       "p2530      0.745066      1.042772  \n",
       "p4436      9.810858      9.950980  \n",
       "p550       0.706810      0.768347  \n",
       "p647       2.090009      2.301741  \n",
       "p531      10.366972     10.396825  \n",
       "p2000     10.350000     10.600000  \n",
       "p689       7.638315      7.824427  \n",
       "p2487      0.732946      0.832911  \n",
       "p4171      0.692323      0.956950  \n",
       "p745       4.468129      4.492424  \n",
       "p638       7.532731      7.633588  \n",
       "p2479      0.568508      0.582502  \n",
       "p666       0.620283      0.804261  \n",
       "p325       0.541452      0.562241  \n",
       "p2510      0.566565      0.785709  \n",
       "p575       0.281828      0.356897  \n",
       "p2824      1.172359      1.189015  \n",
       "p826      15.290323     15.290323  \n",
       "p4424      3.193819      3.319233  \n",
       "p2478      0.571958      0.658716  \n",
       "p582       0.649609      0.775548  \n",
       "p4188      0.840984      0.892105  \n",
       "p1362      0.484956      0.522349  \n",
       "p1360      0.481862      0.503394  \n",
       "p2480      0.548548      0.562050  \n",
       "p631       0.278451      0.280515  \n",
       "p1366      0.400562      0.419458  \n",
       "p313       0.317036      0.373610  \n",
       "p196       2.240657      2.276694  \n",
       "p1653     10.833333     10.833333  \n",
       "\n",
       "[4546 rows x 8 columns]"
      ]
     },
     "execution_count": 18,
     "metadata": {},
     "output_type": "execute_result"
    }
   ],
   "source": [
    "up_grpby = fraud.unit_price.groupby(fraud.pdt).describe()\n",
    "up_grpby.sort_values('std', ascending = False)\n",
    "\n",
    "# we can see that for certain products, e.g. p3689, the std of its unit price is very high\n",
    "# we should be suspicious of products that have high std of its unit price"
   ]
  },
  {
   "cell_type": "code",
   "execution_count": 19,
   "metadata": {
    "scrolled": true
   },
   "outputs": [
    {
     "data": {
      "text/html": [
       "<div>\n",
       "<style>\n",
       "    .dataframe thead tr:only-child th {\n",
       "        text-align: right;\n",
       "    }\n",
       "\n",
       "    .dataframe thead th {\n",
       "        text-align: left;\n",
       "    }\n",
       "\n",
       "    .dataframe tbody tr th {\n",
       "        vertical-align: top;\n",
       "    }\n",
       "</style>\n",
       "<table border=\"1\" class=\"dataframe\">\n",
       "  <thead>\n",
       "    <tr style=\"text-align: right;\">\n",
       "      <th></th>\n",
       "      <th>count</th>\n",
       "      <th>mean</th>\n",
       "      <th>std</th>\n",
       "      <th>min</th>\n",
       "      <th>25%</th>\n",
       "      <th>50%</th>\n",
       "      <th>75%</th>\n",
       "      <th>max</th>\n",
       "    </tr>\n",
       "    <tr>\n",
       "      <th>pdt</th>\n",
       "      <th></th>\n",
       "      <th></th>\n",
       "      <th></th>\n",
       "      <th></th>\n",
       "      <th></th>\n",
       "      <th></th>\n",
       "      <th></th>\n",
       "      <th></th>\n",
       "    </tr>\n",
       "  </thead>\n",
       "  <tbody>\n",
       "    <tr>\n",
       "      <th>p2203</th>\n",
       "      <td>48.0</td>\n",
       "      <td>287.074668</td>\n",
       "      <td>1924.098481</td>\n",
       "      <td>3.491484</td>\n",
       "      <td>6.322700</td>\n",
       "      <td>10.450000</td>\n",
       "      <td>11.050000</td>\n",
       "      <td>13339.869281</td>\n",
       "    </tr>\n",
       "    <tr>\n",
       "      <th>p1199</th>\n",
       "      <td>153.0</td>\n",
       "      <td>44.627305</td>\n",
       "      <td>414.254306</td>\n",
       "      <td>0.645960</td>\n",
       "      <td>9.681818</td>\n",
       "      <td>10.491803</td>\n",
       "      <td>11.683168</td>\n",
       "      <td>5134.900990</td>\n",
       "    </tr>\n",
       "    <tr>\n",
       "      <th>p3792</th>\n",
       "      <td>263.0</td>\n",
       "      <td>24.130704</td>\n",
       "      <td>152.882279</td>\n",
       "      <td>0.992541</td>\n",
       "      <td>8.400000</td>\n",
       "      <td>11.592357</td>\n",
       "      <td>14.974790</td>\n",
       "      <td>2465.416667</td>\n",
       "    </tr>\n",
       "    <tr>\n",
       "      <th>p785</th>\n",
       "      <td>161.0</td>\n",
       "      <td>22.358254</td>\n",
       "      <td>122.992669</td>\n",
       "      <td>2.085914</td>\n",
       "      <td>5.861619</td>\n",
       "      <td>11.124402</td>\n",
       "      <td>18.333333</td>\n",
       "      <td>1569.466501</td>\n",
       "    </tr>\n",
       "    <tr>\n",
       "      <th>p1121</th>\n",
       "      <td>629.0</td>\n",
       "      <td>20.473093</td>\n",
       "      <td>104.792844</td>\n",
       "      <td>0.342719</td>\n",
       "      <td>9.586777</td>\n",
       "      <td>11.330275</td>\n",
       "      <td>15.913242</td>\n",
       "      <td>2617.242991</td>\n",
       "    </tr>\n",
       "    <tr>\n",
       "      <th>p3366</th>\n",
       "      <td>213.0</td>\n",
       "      <td>26.124502</td>\n",
       "      <td>87.840268</td>\n",
       "      <td>3.854012</td>\n",
       "      <td>10.415704</td>\n",
       "      <td>12.594401</td>\n",
       "      <td>20.764706</td>\n",
       "      <td>1059.951456</td>\n",
       "    </tr>\n",
       "    <tr>\n",
       "      <th>p1533</th>\n",
       "      <td>282.0</td>\n",
       "      <td>15.249157</td>\n",
       "      <td>87.656013</td>\n",
       "      <td>2.819430</td>\n",
       "      <td>6.126098</td>\n",
       "      <td>6.605322</td>\n",
       "      <td>9.847887</td>\n",
       "      <td>1399.615385</td>\n",
       "    </tr>\n",
       "    <tr>\n",
       "      <th>p3197</th>\n",
       "      <td>838.0</td>\n",
       "      <td>30.859684</td>\n",
       "      <td>77.856610</td>\n",
       "      <td>0.312875</td>\n",
       "      <td>13.850000</td>\n",
       "      <td>19.156162</td>\n",
       "      <td>30.549809</td>\n",
       "      <td>2156.400000</td>\n",
       "    </tr>\n",
       "    <tr>\n",
       "      <th>p3657</th>\n",
       "      <td>550.0</td>\n",
       "      <td>43.103467</td>\n",
       "      <td>66.413309</td>\n",
       "      <td>5.065217</td>\n",
       "      <td>15.000000</td>\n",
       "      <td>24.453201</td>\n",
       "      <td>49.001323</td>\n",
       "      <td>1219.224138</td>\n",
       "    </tr>\n",
       "    <tr>\n",
       "      <th>p3657</th>\n",
       "      <td>550.0</td>\n",
       "      <td>43.103467</td>\n",
       "      <td>66.413309</td>\n",
       "      <td>5.065217</td>\n",
       "      <td>15.000000</td>\n",
       "      <td>24.453201</td>\n",
       "      <td>49.001323</td>\n",
       "      <td>1219.224138</td>\n",
       "    </tr>\n",
       "    <tr>\n",
       "      <th>p3072</th>\n",
       "      <td>248.0</td>\n",
       "      <td>22.249670</td>\n",
       "      <td>63.152350</td>\n",
       "      <td>3.992248</td>\n",
       "      <td>11.329987</td>\n",
       "      <td>12.847931</td>\n",
       "      <td>19.413281</td>\n",
       "      <td>974.387097</td>\n",
       "    </tr>\n",
       "    <tr>\n",
       "      <th>p2068</th>\n",
       "      <td>666.0</td>\n",
       "      <td>27.394061</td>\n",
       "      <td>60.462971</td>\n",
       "      <td>8.863636</td>\n",
       "      <td>12.413254</td>\n",
       "      <td>16.732343</td>\n",
       "      <td>26.642065</td>\n",
       "      <td>1385.465950</td>\n",
       "    </tr>\n",
       "    <tr>\n",
       "      <th>p3033</th>\n",
       "      <td>239.0</td>\n",
       "      <td>23.956224</td>\n",
       "      <td>59.080686</td>\n",
       "      <td>0.112568</td>\n",
       "      <td>11.422414</td>\n",
       "      <td>14.047619</td>\n",
       "      <td>20.251724</td>\n",
       "      <td>886.099476</td>\n",
       "    </tr>\n",
       "    <tr>\n",
       "      <th>p1436</th>\n",
       "      <td>616.0</td>\n",
       "      <td>17.864511</td>\n",
       "      <td>57.009472</td>\n",
       "      <td>0.426001</td>\n",
       "      <td>10.195136</td>\n",
       "      <td>11.478836</td>\n",
       "      <td>15.240385</td>\n",
       "      <td>1190.875706</td>\n",
       "    </tr>\n",
       "    <tr>\n",
       "      <th>p1436</th>\n",
       "      <td>616.0</td>\n",
       "      <td>17.864511</td>\n",
       "      <td>57.009472</td>\n",
       "      <td>0.426001</td>\n",
       "      <td>10.195136</td>\n",
       "      <td>11.478836</td>\n",
       "      <td>15.240385</td>\n",
       "      <td>1190.875706</td>\n",
       "    </tr>\n",
       "    <tr>\n",
       "      <th>p1436</th>\n",
       "      <td>616.0</td>\n",
       "      <td>17.864511</td>\n",
       "      <td>57.009472</td>\n",
       "      <td>0.426001</td>\n",
       "      <td>10.195136</td>\n",
       "      <td>11.478836</td>\n",
       "      <td>15.240385</td>\n",
       "      <td>1190.875706</td>\n",
       "    </tr>\n",
       "    <tr>\n",
       "      <th>p1436</th>\n",
       "      <td>616.0</td>\n",
       "      <td>17.864511</td>\n",
       "      <td>57.009472</td>\n",
       "      <td>0.426001</td>\n",
       "      <td>10.195136</td>\n",
       "      <td>11.478836</td>\n",
       "      <td>15.240385</td>\n",
       "      <td>1190.875706</td>\n",
       "    </tr>\n",
       "    <tr>\n",
       "      <th>p1436</th>\n",
       "      <td>616.0</td>\n",
       "      <td>17.864511</td>\n",
       "      <td>57.009472</td>\n",
       "      <td>0.426001</td>\n",
       "      <td>10.195136</td>\n",
       "      <td>11.478836</td>\n",
       "      <td>15.240385</td>\n",
       "      <td>1190.875706</td>\n",
       "    </tr>\n",
       "    <tr>\n",
       "      <th>p1436</th>\n",
       "      <td>616.0</td>\n",
       "      <td>17.864511</td>\n",
       "      <td>57.009472</td>\n",
       "      <td>0.426001</td>\n",
       "      <td>10.195136</td>\n",
       "      <td>11.478836</td>\n",
       "      <td>15.240385</td>\n",
       "      <td>1190.875706</td>\n",
       "    </tr>\n",
       "    <tr>\n",
       "      <th>p1436</th>\n",
       "      <td>616.0</td>\n",
       "      <td>17.864511</td>\n",
       "      <td>57.009472</td>\n",
       "      <td>0.426001</td>\n",
       "      <td>10.195136</td>\n",
       "      <td>11.478836</td>\n",
       "      <td>15.240385</td>\n",
       "      <td>1190.875706</td>\n",
       "    </tr>\n",
       "    <tr>\n",
       "      <th>p1436</th>\n",
       "      <td>616.0</td>\n",
       "      <td>17.864511</td>\n",
       "      <td>57.009472</td>\n",
       "      <td>0.426001</td>\n",
       "      <td>10.195136</td>\n",
       "      <td>11.478836</td>\n",
       "      <td>15.240385</td>\n",
       "      <td>1190.875706</td>\n",
       "    </tr>\n",
       "    <tr>\n",
       "      <th>p3225</th>\n",
       "      <td>625.0</td>\n",
       "      <td>37.884364</td>\n",
       "      <td>54.658532</td>\n",
       "      <td>0.089631</td>\n",
       "      <td>13.700000</td>\n",
       "      <td>20.625000</td>\n",
       "      <td>40.772727</td>\n",
       "      <td>620.258621</td>\n",
       "    </tr>\n",
       "    <tr>\n",
       "      <th>p3774</th>\n",
       "      <td>1802.0</td>\n",
       "      <td>21.455129</td>\n",
       "      <td>53.383403</td>\n",
       "      <td>0.046652</td>\n",
       "      <td>10.818375</td>\n",
       "      <td>15.482265</td>\n",
       "      <td>23.856635</td>\n",
       "      <td>2123.934426</td>\n",
       "    </tr>\n",
       "    <tr>\n",
       "      <th>p4471</th>\n",
       "      <td>16.0</td>\n",
       "      <td>58.781981</td>\n",
       "      <td>53.196133</td>\n",
       "      <td>2.679929</td>\n",
       "      <td>18.759936</td>\n",
       "      <td>27.900878</td>\n",
       "      <td>105.134241</td>\n",
       "      <td>134.186047</td>\n",
       "    </tr>\n",
       "    <tr>\n",
       "      <th>p2276</th>\n",
       "      <td>346.0</td>\n",
       "      <td>18.009100</td>\n",
       "      <td>45.739661</td>\n",
       "      <td>1.530769</td>\n",
       "      <td>10.109091</td>\n",
       "      <td>12.357724</td>\n",
       "      <td>16.836129</td>\n",
       "      <td>825.401322</td>\n",
       "    </tr>\n",
       "    <tr>\n",
       "      <th>p2276</th>\n",
       "      <td>346.0</td>\n",
       "      <td>18.009100</td>\n",
       "      <td>45.739661</td>\n",
       "      <td>1.530769</td>\n",
       "      <td>10.109091</td>\n",
       "      <td>12.357724</td>\n",
       "      <td>16.836129</td>\n",
       "      <td>825.401322</td>\n",
       "    </tr>\n",
       "    <tr>\n",
       "      <th>p2276</th>\n",
       "      <td>346.0</td>\n",
       "      <td>18.009100</td>\n",
       "      <td>45.739661</td>\n",
       "      <td>1.530769</td>\n",
       "      <td>10.109091</td>\n",
       "      <td>12.357724</td>\n",
       "      <td>16.836129</td>\n",
       "      <td>825.401322</td>\n",
       "    </tr>\n",
       "    <tr>\n",
       "      <th>p2276</th>\n",
       "      <td>346.0</td>\n",
       "      <td>18.009100</td>\n",
       "      <td>45.739661</td>\n",
       "      <td>1.530769</td>\n",
       "      <td>10.109091</td>\n",
       "      <td>12.357724</td>\n",
       "      <td>16.836129</td>\n",
       "      <td>825.401322</td>\n",
       "    </tr>\n",
       "    <tr>\n",
       "      <th>p1462</th>\n",
       "      <td>143.0</td>\n",
       "      <td>18.911846</td>\n",
       "      <td>45.355206</td>\n",
       "      <td>6.603774</td>\n",
       "      <td>9.416465</td>\n",
       "      <td>10.098039</td>\n",
       "      <td>13.339173</td>\n",
       "      <td>529.800000</td>\n",
       "    </tr>\n",
       "    <tr>\n",
       "      <th>p1462</th>\n",
       "      <td>143.0</td>\n",
       "      <td>18.911846</td>\n",
       "      <td>45.355206</td>\n",
       "      <td>6.603774</td>\n",
       "      <td>9.416465</td>\n",
       "      <td>10.098039</td>\n",
       "      <td>13.339173</td>\n",
       "      <td>529.800000</td>\n",
       "    </tr>\n",
       "    <tr>\n",
       "      <th>...</th>\n",
       "      <td>...</td>\n",
       "      <td>...</td>\n",
       "      <td>...</td>\n",
       "      <td>...</td>\n",
       "      <td>...</td>\n",
       "      <td>...</td>\n",
       "      <td>...</td>\n",
       "      <td>...</td>\n",
       "    </tr>\n",
       "    <tr>\n",
       "      <th>p1601</th>\n",
       "      <td>735.0</td>\n",
       "      <td>12.707252</td>\n",
       "      <td>4.752816</td>\n",
       "      <td>1.891767</td>\n",
       "      <td>10.196078</td>\n",
       "      <td>11.484848</td>\n",
       "      <td>14.342124</td>\n",
       "      <td>54.992212</td>\n",
       "    </tr>\n",
       "    <tr>\n",
       "      <th>p3434</th>\n",
       "      <td>34.0</td>\n",
       "      <td>13.236463</td>\n",
       "      <td>4.733643</td>\n",
       "      <td>3.314417</td>\n",
       "      <td>12.131203</td>\n",
       "      <td>13.502885</td>\n",
       "      <td>14.954461</td>\n",
       "      <td>21.500000</td>\n",
       "    </tr>\n",
       "    <tr>\n",
       "      <th>p2398</th>\n",
       "      <td>360.0</td>\n",
       "      <td>11.523799</td>\n",
       "      <td>4.685716</td>\n",
       "      <td>0.012262</td>\n",
       "      <td>9.729730</td>\n",
       "      <td>10.241160</td>\n",
       "      <td>12.091533</td>\n",
       "      <td>46.682692</td>\n",
       "    </tr>\n",
       "    <tr>\n",
       "      <th>p1425</th>\n",
       "      <td>155.0</td>\n",
       "      <td>8.643380</td>\n",
       "      <td>4.661615</td>\n",
       "      <td>1.884784</td>\n",
       "      <td>6.144256</td>\n",
       "      <td>8.478261</td>\n",
       "      <td>10.416667</td>\n",
       "      <td>40.464876</td>\n",
       "    </tr>\n",
       "    <tr>\n",
       "      <th>p1690</th>\n",
       "      <td>237.0</td>\n",
       "      <td>12.588049</td>\n",
       "      <td>4.602095</td>\n",
       "      <td>2.725379</td>\n",
       "      <td>10.139665</td>\n",
       "      <td>11.690363</td>\n",
       "      <td>14.151506</td>\n",
       "      <td>32.245614</td>\n",
       "    </tr>\n",
       "    <tr>\n",
       "      <th>p1690</th>\n",
       "      <td>237.0</td>\n",
       "      <td>12.588049</td>\n",
       "      <td>4.602095</td>\n",
       "      <td>2.725379</td>\n",
       "      <td>10.139665</td>\n",
       "      <td>11.690363</td>\n",
       "      <td>14.151506</td>\n",
       "      <td>32.245614</td>\n",
       "    </tr>\n",
       "    <tr>\n",
       "      <th>p1690</th>\n",
       "      <td>237.0</td>\n",
       "      <td>12.588049</td>\n",
       "      <td>4.602095</td>\n",
       "      <td>2.725379</td>\n",
       "      <td>10.139665</td>\n",
       "      <td>11.690363</td>\n",
       "      <td>14.151506</td>\n",
       "      <td>32.245614</td>\n",
       "    </tr>\n",
       "    <tr>\n",
       "      <th>p931</th>\n",
       "      <td>450.0</td>\n",
       "      <td>7.806729</td>\n",
       "      <td>4.470292</td>\n",
       "      <td>0.592613</td>\n",
       "      <td>4.846054</td>\n",
       "      <td>7.480867</td>\n",
       "      <td>10.145631</td>\n",
       "      <td>37.854785</td>\n",
       "    </tr>\n",
       "    <tr>\n",
       "      <th>p1027</th>\n",
       "      <td>58.0</td>\n",
       "      <td>7.588712</td>\n",
       "      <td>4.374923</td>\n",
       "      <td>0.427846</td>\n",
       "      <td>3.414401</td>\n",
       "      <td>6.645892</td>\n",
       "      <td>10.715510</td>\n",
       "      <td>17.919501</td>\n",
       "    </tr>\n",
       "    <tr>\n",
       "      <th>p4107</th>\n",
       "      <td>93.0</td>\n",
       "      <td>11.234632</td>\n",
       "      <td>4.340366</td>\n",
       "      <td>0.398595</td>\n",
       "      <td>10.000000</td>\n",
       "      <td>10.350000</td>\n",
       "      <td>11.950673</td>\n",
       "      <td>30.994832</td>\n",
       "    </tr>\n",
       "    <tr>\n",
       "      <th>p4039</th>\n",
       "      <td>76.0</td>\n",
       "      <td>11.760142</td>\n",
       "      <td>4.173210</td>\n",
       "      <td>4.250000</td>\n",
       "      <td>9.126704</td>\n",
       "      <td>10.833333</td>\n",
       "      <td>13.535000</td>\n",
       "      <td>27.979042</td>\n",
       "    </tr>\n",
       "    <tr>\n",
       "      <th>p2339</th>\n",
       "      <td>53.0</td>\n",
       "      <td>12.476562</td>\n",
       "      <td>4.090333</td>\n",
       "      <td>0.304815</td>\n",
       "      <td>10.049505</td>\n",
       "      <td>11.150000</td>\n",
       "      <td>14.313725</td>\n",
       "      <td>28.508772</td>\n",
       "    </tr>\n",
       "    <tr>\n",
       "      <th>p2339</th>\n",
       "      <td>53.0</td>\n",
       "      <td>12.476562</td>\n",
       "      <td>4.090333</td>\n",
       "      <td>0.304815</td>\n",
       "      <td>10.049505</td>\n",
       "      <td>11.150000</td>\n",
       "      <td>14.313725</td>\n",
       "      <td>28.508772</td>\n",
       "    </tr>\n",
       "    <tr>\n",
       "      <th>p2339</th>\n",
       "      <td>53.0</td>\n",
       "      <td>12.476562</td>\n",
       "      <td>4.090333</td>\n",
       "      <td>0.304815</td>\n",
       "      <td>10.049505</td>\n",
       "      <td>11.150000</td>\n",
       "      <td>14.313725</td>\n",
       "      <td>28.508772</td>\n",
       "    </tr>\n",
       "    <tr>\n",
       "      <th>p1109</th>\n",
       "      <td>237.0</td>\n",
       "      <td>9.625723</td>\n",
       "      <td>3.591996</td>\n",
       "      <td>0.805074</td>\n",
       "      <td>7.383333</td>\n",
       "      <td>9.523810</td>\n",
       "      <td>10.940594</td>\n",
       "      <td>29.831933</td>\n",
       "    </tr>\n",
       "    <tr>\n",
       "      <th>p871</th>\n",
       "      <td>287.0</td>\n",
       "      <td>7.169895</td>\n",
       "      <td>3.516650</td>\n",
       "      <td>1.435557</td>\n",
       "      <td>4.912144</td>\n",
       "      <td>6.431475</td>\n",
       "      <td>8.981558</td>\n",
       "      <td>21.979321</td>\n",
       "    </tr>\n",
       "    <tr>\n",
       "      <th>p1451</th>\n",
       "      <td>29.0</td>\n",
       "      <td>10.267248</td>\n",
       "      <td>3.409333</td>\n",
       "      <td>5.812065</td>\n",
       "      <td>8.892857</td>\n",
       "      <td>9.870690</td>\n",
       "      <td>10.700935</td>\n",
       "      <td>26.050000</td>\n",
       "    </tr>\n",
       "    <tr>\n",
       "      <th>p460</th>\n",
       "      <td>35.0</td>\n",
       "      <td>2.746690</td>\n",
       "      <td>3.262299</td>\n",
       "      <td>0.836434</td>\n",
       "      <td>0.997421</td>\n",
       "      <td>1.050216</td>\n",
       "      <td>2.739599</td>\n",
       "      <td>10.336538</td>\n",
       "    </tr>\n",
       "    <tr>\n",
       "      <th>p53</th>\n",
       "      <td>24.0</td>\n",
       "      <td>7.600096</td>\n",
       "      <td>3.080463</td>\n",
       "      <td>2.929363</td>\n",
       "      <td>4.724899</td>\n",
       "      <td>7.760417</td>\n",
       "      <td>10.519515</td>\n",
       "      <td>11.531532</td>\n",
       "    </tr>\n",
       "    <tr>\n",
       "      <th>p383</th>\n",
       "      <td>70.0</td>\n",
       "      <td>9.410447</td>\n",
       "      <td>2.973557</td>\n",
       "      <td>6.925208</td>\n",
       "      <td>8.024130</td>\n",
       "      <td>9.598214</td>\n",
       "      <td>10.000000</td>\n",
       "      <td>32.101911</td>\n",
       "    </tr>\n",
       "    <tr>\n",
       "      <th>p2707</th>\n",
       "      <td>16.0</td>\n",
       "      <td>9.646786</td>\n",
       "      <td>2.603191</td>\n",
       "      <td>1.841250</td>\n",
       "      <td>9.729983</td>\n",
       "      <td>10.275000</td>\n",
       "      <td>10.350000</td>\n",
       "      <td>14.215686</td>\n",
       "    </tr>\n",
       "    <tr>\n",
       "      <th>p146</th>\n",
       "      <td>57.0</td>\n",
       "      <td>5.929420</td>\n",
       "      <td>2.103932</td>\n",
       "      <td>1.549463</td>\n",
       "      <td>4.875519</td>\n",
       "      <td>5.649241</td>\n",
       "      <td>7.030457</td>\n",
       "      <td>11.118012</td>\n",
       "    </tr>\n",
       "    <tr>\n",
       "      <th>p584</th>\n",
       "      <td>31.0</td>\n",
       "      <td>2.075654</td>\n",
       "      <td>1.967449</td>\n",
       "      <td>0.588388</td>\n",
       "      <td>0.737097</td>\n",
       "      <td>0.863341</td>\n",
       "      <td>3.470180</td>\n",
       "      <td>9.384058</td>\n",
       "    </tr>\n",
       "    <tr>\n",
       "      <th>p2669</th>\n",
       "      <td>24.0</td>\n",
       "      <td>4.536112</td>\n",
       "      <td>1.775112</td>\n",
       "      <td>2.631026</td>\n",
       "      <td>3.039756</td>\n",
       "      <td>4.151776</td>\n",
       "      <td>5.417451</td>\n",
       "      <td>9.316239</td>\n",
       "    </tr>\n",
       "    <tr>\n",
       "      <th>p4287</th>\n",
       "      <td>18.0</td>\n",
       "      <td>1.294909</td>\n",
       "      <td>1.738353</td>\n",
       "      <td>0.168360</td>\n",
       "      <td>0.328480</td>\n",
       "      <td>0.563391</td>\n",
       "      <td>1.163124</td>\n",
       "      <td>6.370262</td>\n",
       "    </tr>\n",
       "    <tr>\n",
       "      <th>p80</th>\n",
       "      <td>15.0</td>\n",
       "      <td>2.850856</td>\n",
       "      <td>1.559271</td>\n",
       "      <td>1.130435</td>\n",
       "      <td>2.383976</td>\n",
       "      <td>2.467159</td>\n",
       "      <td>2.648558</td>\n",
       "      <td>6.917293</td>\n",
       "    </tr>\n",
       "    <tr>\n",
       "      <th>p1110</th>\n",
       "      <td>9.0</td>\n",
       "      <td>6.144085</td>\n",
       "      <td>1.333175</td>\n",
       "      <td>4.562600</td>\n",
       "      <td>5.279370</td>\n",
       "      <td>5.980565</td>\n",
       "      <td>6.448598</td>\n",
       "      <td>8.982558</td>\n",
       "    </tr>\n",
       "    <tr>\n",
       "      <th>p1110</th>\n",
       "      <td>9.0</td>\n",
       "      <td>6.144085</td>\n",
       "      <td>1.333175</td>\n",
       "      <td>4.562600</td>\n",
       "      <td>5.279370</td>\n",
       "      <td>5.980565</td>\n",
       "      <td>6.448598</td>\n",
       "      <td>8.982558</td>\n",
       "    </tr>\n",
       "    <tr>\n",
       "      <th>p1110</th>\n",
       "      <td>9.0</td>\n",
       "      <td>6.144085</td>\n",
       "      <td>1.333175</td>\n",
       "      <td>4.562600</td>\n",
       "      <td>5.279370</td>\n",
       "      <td>5.980565</td>\n",
       "      <td>6.448598</td>\n",
       "      <td>8.982558</td>\n",
       "    </tr>\n",
       "    <tr>\n",
       "      <th>p4491</th>\n",
       "      <td>8.0</td>\n",
       "      <td>10.717189</td>\n",
       "      <td>0.810576</td>\n",
       "      <td>10.100000</td>\n",
       "      <td>10.149629</td>\n",
       "      <td>10.323020</td>\n",
       "      <td>11.012883</td>\n",
       "      <td>12.321429</td>\n",
       "    </tr>\n",
       "  </tbody>\n",
       "</table>\n",
       "<p>294 rows × 8 columns</p>\n",
       "</div>"
      ],
      "text/plain": [
       "        count        mean          std        min        25%        50%  \\\n",
       "pdt                                                                       \n",
       "p2203    48.0  287.074668  1924.098481   3.491484   6.322700  10.450000   \n",
       "p1199   153.0   44.627305   414.254306   0.645960   9.681818  10.491803   \n",
       "p3792   263.0   24.130704   152.882279   0.992541   8.400000  11.592357   \n",
       "p785    161.0   22.358254   122.992669   2.085914   5.861619  11.124402   \n",
       "p1121   629.0   20.473093   104.792844   0.342719   9.586777  11.330275   \n",
       "p3366   213.0   26.124502    87.840268   3.854012  10.415704  12.594401   \n",
       "p1533   282.0   15.249157    87.656013   2.819430   6.126098   6.605322   \n",
       "p3197   838.0   30.859684    77.856610   0.312875  13.850000  19.156162   \n",
       "p3657   550.0   43.103467    66.413309   5.065217  15.000000  24.453201   \n",
       "p3657   550.0   43.103467    66.413309   5.065217  15.000000  24.453201   \n",
       "p3072   248.0   22.249670    63.152350   3.992248  11.329987  12.847931   \n",
       "p2068   666.0   27.394061    60.462971   8.863636  12.413254  16.732343   \n",
       "p3033   239.0   23.956224    59.080686   0.112568  11.422414  14.047619   \n",
       "p1436   616.0   17.864511    57.009472   0.426001  10.195136  11.478836   \n",
       "p1436   616.0   17.864511    57.009472   0.426001  10.195136  11.478836   \n",
       "p1436   616.0   17.864511    57.009472   0.426001  10.195136  11.478836   \n",
       "p1436   616.0   17.864511    57.009472   0.426001  10.195136  11.478836   \n",
       "p1436   616.0   17.864511    57.009472   0.426001  10.195136  11.478836   \n",
       "p1436   616.0   17.864511    57.009472   0.426001  10.195136  11.478836   \n",
       "p1436   616.0   17.864511    57.009472   0.426001  10.195136  11.478836   \n",
       "p1436   616.0   17.864511    57.009472   0.426001  10.195136  11.478836   \n",
       "p3225   625.0   37.884364    54.658532   0.089631  13.700000  20.625000   \n",
       "p3774  1802.0   21.455129    53.383403   0.046652  10.818375  15.482265   \n",
       "p4471    16.0   58.781981    53.196133   2.679929  18.759936  27.900878   \n",
       "p2276   346.0   18.009100    45.739661   1.530769  10.109091  12.357724   \n",
       "p2276   346.0   18.009100    45.739661   1.530769  10.109091  12.357724   \n",
       "p2276   346.0   18.009100    45.739661   1.530769  10.109091  12.357724   \n",
       "p2276   346.0   18.009100    45.739661   1.530769  10.109091  12.357724   \n",
       "p1462   143.0   18.911846    45.355206   6.603774   9.416465  10.098039   \n",
       "p1462   143.0   18.911846    45.355206   6.603774   9.416465  10.098039   \n",
       "...       ...         ...          ...        ...        ...        ...   \n",
       "p1601   735.0   12.707252     4.752816   1.891767  10.196078  11.484848   \n",
       "p3434    34.0   13.236463     4.733643   3.314417  12.131203  13.502885   \n",
       "p2398   360.0   11.523799     4.685716   0.012262   9.729730  10.241160   \n",
       "p1425   155.0    8.643380     4.661615   1.884784   6.144256   8.478261   \n",
       "p1690   237.0   12.588049     4.602095   2.725379  10.139665  11.690363   \n",
       "p1690   237.0   12.588049     4.602095   2.725379  10.139665  11.690363   \n",
       "p1690   237.0   12.588049     4.602095   2.725379  10.139665  11.690363   \n",
       "p931    450.0    7.806729     4.470292   0.592613   4.846054   7.480867   \n",
       "p1027    58.0    7.588712     4.374923   0.427846   3.414401   6.645892   \n",
       "p4107    93.0   11.234632     4.340366   0.398595  10.000000  10.350000   \n",
       "p4039    76.0   11.760142     4.173210   4.250000   9.126704  10.833333   \n",
       "p2339    53.0   12.476562     4.090333   0.304815  10.049505  11.150000   \n",
       "p2339    53.0   12.476562     4.090333   0.304815  10.049505  11.150000   \n",
       "p2339    53.0   12.476562     4.090333   0.304815  10.049505  11.150000   \n",
       "p1109   237.0    9.625723     3.591996   0.805074   7.383333   9.523810   \n",
       "p871    287.0    7.169895     3.516650   1.435557   4.912144   6.431475   \n",
       "p1451    29.0   10.267248     3.409333   5.812065   8.892857   9.870690   \n",
       "p460     35.0    2.746690     3.262299   0.836434   0.997421   1.050216   \n",
       "p53      24.0    7.600096     3.080463   2.929363   4.724899   7.760417   \n",
       "p383     70.0    9.410447     2.973557   6.925208   8.024130   9.598214   \n",
       "p2707    16.0    9.646786     2.603191   1.841250   9.729983  10.275000   \n",
       "p146     57.0    5.929420     2.103932   1.549463   4.875519   5.649241   \n",
       "p584     31.0    2.075654     1.967449   0.588388   0.737097   0.863341   \n",
       "p2669    24.0    4.536112     1.775112   2.631026   3.039756   4.151776   \n",
       "p4287    18.0    1.294909     1.738353   0.168360   0.328480   0.563391   \n",
       "p80      15.0    2.850856     1.559271   1.130435   2.383976   2.467159   \n",
       "p1110     9.0    6.144085     1.333175   4.562600   5.279370   5.980565   \n",
       "p1110     9.0    6.144085     1.333175   4.562600   5.279370   5.980565   \n",
       "p1110     9.0    6.144085     1.333175   4.562600   5.279370   5.980565   \n",
       "p4491     8.0   10.717189     0.810576  10.100000  10.149629  10.323020   \n",
       "\n",
       "              75%           max  \n",
       "pdt                              \n",
       "p2203   11.050000  13339.869281  \n",
       "p1199   11.683168   5134.900990  \n",
       "p3792   14.974790   2465.416667  \n",
       "p785    18.333333   1569.466501  \n",
       "p1121   15.913242   2617.242991  \n",
       "p3366   20.764706   1059.951456  \n",
       "p1533    9.847887   1399.615385  \n",
       "p3197   30.549809   2156.400000  \n",
       "p3657   49.001323   1219.224138  \n",
       "p3657   49.001323   1219.224138  \n",
       "p3072   19.413281    974.387097  \n",
       "p2068   26.642065   1385.465950  \n",
       "p3033   20.251724    886.099476  \n",
       "p1436   15.240385   1190.875706  \n",
       "p1436   15.240385   1190.875706  \n",
       "p1436   15.240385   1190.875706  \n",
       "p1436   15.240385   1190.875706  \n",
       "p1436   15.240385   1190.875706  \n",
       "p1436   15.240385   1190.875706  \n",
       "p1436   15.240385   1190.875706  \n",
       "p1436   15.240385   1190.875706  \n",
       "p3225   40.772727    620.258621  \n",
       "p3774   23.856635   2123.934426  \n",
       "p4471  105.134241    134.186047  \n",
       "p2276   16.836129    825.401322  \n",
       "p2276   16.836129    825.401322  \n",
       "p2276   16.836129    825.401322  \n",
       "p2276   16.836129    825.401322  \n",
       "p1462   13.339173    529.800000  \n",
       "p1462   13.339173    529.800000  \n",
       "...           ...           ...  \n",
       "p1601   14.342124     54.992212  \n",
       "p3434   14.954461     21.500000  \n",
       "p2398   12.091533     46.682692  \n",
       "p1425   10.416667     40.464876  \n",
       "p1690   14.151506     32.245614  \n",
       "p1690   14.151506     32.245614  \n",
       "p1690   14.151506     32.245614  \n",
       "p931    10.145631     37.854785  \n",
       "p1027   10.715510     17.919501  \n",
       "p4107   11.950673     30.994832  \n",
       "p4039   13.535000     27.979042  \n",
       "p2339   14.313725     28.508772  \n",
       "p2339   14.313725     28.508772  \n",
       "p2339   14.313725     28.508772  \n",
       "p1109   10.940594     29.831933  \n",
       "p871     8.981558     21.979321  \n",
       "p1451   10.700935     26.050000  \n",
       "p460     2.739599     10.336538  \n",
       "p53     10.519515     11.531532  \n",
       "p383    10.000000     32.101911  \n",
       "p2707   10.350000     14.215686  \n",
       "p146     7.030457     11.118012  \n",
       "p584     3.470180      9.384058  \n",
       "p2669    5.417451      9.316239  \n",
       "p4287    1.163124      6.370262  \n",
       "p80      2.648558      6.917293  \n",
       "p1110    6.448598      8.982558  \n",
       "p1110    6.448598      8.982558  \n",
       "p1110    6.448598      8.982558  \n",
       "p4491   11.012883     12.321429  \n",
       "\n",
       "[294 rows x 8 columns]"
      ]
     },
     "execution_count": 19,
     "metadata": {},
     "output_type": "execute_result"
    }
   ],
   "source": [
    "# lets take a look at the unit price std of values we want to impute\n",
    "\n",
    "up_grpby.loc[val_null.pdt].sort_values('std', ascending = False)"
   ]
  },
  {
   "cell_type": "code",
   "execution_count": 20,
   "metadata": {
    "collapsed": true
   },
   "outputs": [],
   "source": [
    "def insp_value_count(col, var):\n",
    "    unknown = fraud[(fraud[col] == var) & (fraud.insp == 'unkn')].shape[0]\n",
    "    okay = fraud[(fraud[col] == var) & (fraud.insp == 'ok')].shape[0]\n",
    "    fd = fraud[(fraud[col] == var) & (fraud.insp == 'fraud')].shape[0]\n",
    "    \n",
    "    return [unknown, okay, fd]"
   ]
  },
  {
   "cell_type": "code",
   "execution_count": 21,
   "metadata": {},
   "outputs": [
    {
     "data": {
      "text/html": [
       "<div>\n",
       "<style>\n",
       "    .dataframe thead tr:only-child th {\n",
       "        text-align: right;\n",
       "    }\n",
       "\n",
       "    .dataframe thead th {\n",
       "        text-align: left;\n",
       "    }\n",
       "\n",
       "    .dataframe tbody tr th {\n",
       "        vertical-align: top;\n",
       "    }\n",
       "</style>\n",
       "<table border=\"1\" class=\"dataframe\">\n",
       "  <thead>\n",
       "    <tr style=\"text-align: right;\">\n",
       "      <th></th>\n",
       "      <th>p1121</th>\n",
       "      <th>p1199</th>\n",
       "      <th>p2203</th>\n",
       "      <th>p3792</th>\n",
       "      <th>p785</th>\n",
       "    </tr>\n",
       "  </thead>\n",
       "  <tbody>\n",
       "    <tr>\n",
       "      <th>unknown</th>\n",
       "      <td>614</td>\n",
       "      <td>153</td>\n",
       "      <td>46</td>\n",
       "      <td>239</td>\n",
       "      <td>144</td>\n",
       "    </tr>\n",
       "    <tr>\n",
       "      <th>ok</th>\n",
       "      <td>68</td>\n",
       "      <td>17</td>\n",
       "      <td>5</td>\n",
       "      <td>26</td>\n",
       "      <td>16</td>\n",
       "    </tr>\n",
       "    <tr>\n",
       "      <th>fraud</th>\n",
       "      <td>2</td>\n",
       "      <td>2</td>\n",
       "      <td>1</td>\n",
       "      <td>1</td>\n",
       "      <td>2</td>\n",
       "    </tr>\n",
       "  </tbody>\n",
       "</table>\n",
       "</div>"
      ],
      "text/plain": [
       "         p1121  p1199  p2203  p3792  p785\n",
       "unknown    614    153     46    239   144\n",
       "ok          68     17      5     26    16\n",
       "fraud        2      2      1      1     2"
      ]
     },
     "execution_count": 21,
     "metadata": {},
     "output_type": "execute_result"
    }
   ],
   "source": [
    "up_top5_std = {}\n",
    "for i in up_grpby.loc[val_null.pdt].sort_values('std', ascending = False).head(5).index.values:\n",
    "    up_top5_std[i] = insp_value_count('pdt',i)\n",
    "\n",
    "up_top5_std = pd.DataFrame(up_top5_std, index =['unknown','ok','fraud'])\n",
    "\n",
    "up_top5_std\n",
    "\n",
    "# we can see that the there are fraudlent cases in products where their unit price has a high std\n",
    "# Thus, we should impute missing val using median unit price instead mean unit price"
   ]
  },
  {
   "cell_type": "code",
   "execution_count": 22,
   "metadata": {
    "scrolled": true
   },
   "outputs": [
    {
     "data": {
      "text/html": [
       "<div>\n",
       "<style>\n",
       "    .dataframe thead tr:only-child th {\n",
       "        text-align: right;\n",
       "    }\n",
       "\n",
       "    .dataframe thead th {\n",
       "        text-align: left;\n",
       "    }\n",
       "\n",
       "    .dataframe tbody tr th {\n",
       "        vertical-align: top;\n",
       "    }\n",
       "</style>\n",
       "<table border=\"1\" class=\"dataframe\">\n",
       "  <thead>\n",
       "    <tr style=\"text-align: right;\">\n",
       "      <th></th>\n",
       "      <th>id</th>\n",
       "      <th>quant</th>\n",
       "      <th>val</th>\n",
       "      <th>insp</th>\n",
       "      <th>pdt</th>\n",
       "      <th>unit_price</th>\n",
       "      <th>median_up</th>\n",
       "    </tr>\n",
       "  </thead>\n",
       "  <tbody>\n",
       "    <tr>\n",
       "      <th>1</th>\n",
       "      <td>v1</td>\n",
       "      <td>182.0</td>\n",
       "      <td>1665.0</td>\n",
       "      <td>unkn</td>\n",
       "      <td>p1</td>\n",
       "      <td>9.148352</td>\n",
       "      <td>11.428571</td>\n",
       "    </tr>\n",
       "    <tr>\n",
       "      <th>2</th>\n",
       "      <td>v2</td>\n",
       "      <td>3072.0</td>\n",
       "      <td>8780.0</td>\n",
       "      <td>unkn</td>\n",
       "      <td>p1</td>\n",
       "      <td>2.858073</td>\n",
       "      <td>11.428571</td>\n",
       "    </tr>\n",
       "    <tr>\n",
       "      <th>3</th>\n",
       "      <td>v3</td>\n",
       "      <td>20393.0</td>\n",
       "      <td>76990.0</td>\n",
       "      <td>unkn</td>\n",
       "      <td>p1</td>\n",
       "      <td>3.775315</td>\n",
       "      <td>11.428571</td>\n",
       "    </tr>\n",
       "    <tr>\n",
       "      <th>4</th>\n",
       "      <td>v4</td>\n",
       "      <td>112.0</td>\n",
       "      <td>1100.0</td>\n",
       "      <td>unkn</td>\n",
       "      <td>p1</td>\n",
       "      <td>9.821429</td>\n",
       "      <td>11.428571</td>\n",
       "    </tr>\n",
       "    <tr>\n",
       "      <th>5</th>\n",
       "      <td>v3</td>\n",
       "      <td>6164.0</td>\n",
       "      <td>20260.0</td>\n",
       "      <td>unkn</td>\n",
       "      <td>p1</td>\n",
       "      <td>3.286827</td>\n",
       "      <td>11.428571</td>\n",
       "    </tr>\n",
       "  </tbody>\n",
       "</table>\n",
       "</div>"
      ],
      "text/plain": [
       "   id    quant      val  insp pdt  unit_price  median_up\n",
       "1  v1    182.0   1665.0  unkn  p1    9.148352  11.428571\n",
       "2  v2   3072.0   8780.0  unkn  p1    2.858073  11.428571\n",
       "3  v3  20393.0  76990.0  unkn  p1    3.775315  11.428571\n",
       "4  v4    112.0   1100.0  unkn  p1    9.821429  11.428571\n",
       "5  v3   6164.0  20260.0  unkn  p1    3.286827  11.428571"
      ]
     },
     "execution_count": 22,
     "metadata": {},
     "output_type": "execute_result"
    }
   ],
   "source": [
    "fraud = fraud.join(up_grpby['50%'], on = 'pdt', how = 'left' )\n",
    "fraud.columns = ['id','quant','val','insp','pdt','unit_price','median_up']\n",
    "fraud.head()"
   ]
  },
  {
   "cell_type": "code",
   "execution_count": 23,
   "metadata": {
    "collapsed": true
   },
   "outputs": [],
   "source": [
    "# using median unit price to impute values for null val cells\n",
    "fraud.loc[val_null.index.values, 'unit_price'] = fraud.median_up\n",
    "fraud.loc[val_null.index.values, 'val'] = fraud.quant * fraud.unit_price"
   ]
  },
  {
   "cell_type": "code",
   "execution_count": 24,
   "metadata": {
    "collapsed": true,
    "scrolled": true
   },
   "outputs": [],
   "source": [
    "# using median unit price to impute values for null quant cells\n",
    "quant_null = fraud[fraud.quant.isnull() == True]\n",
    "fraud.loc[quant_null.index.values, 'unit_price'] = fraud.median_up\n",
    "fraud.loc[quant_null.index.values, 'quant'] = fraud.val/fraud.unit_price"
   ]
  },
  {
   "cell_type": "code",
   "execution_count": 25,
   "metadata": {},
   "outputs": [
    {
     "name": "stdout",
     "output_type": "stream",
     "text": [
      "<class 'pandas.core.frame.DataFrame'>\n",
      "Int64Index: 400204 entries, 1 to 401146\n",
      "Data columns (total 7 columns):\n",
      "id            400204 non-null object\n",
      "quant         400204 non-null float64\n",
      "val           400204 non-null float64\n",
      "insp          400204 non-null object\n",
      "pdt           400204 non-null object\n",
      "unit_price    400204 non-null float64\n",
      "median_up     400204 non-null float64\n",
      "dtypes: float64(4), object(3)\n",
      "memory usage: 34.4+ MB\n"
     ]
    }
   ],
   "source": [
    "fraud.info()\n",
    "\n",
    "# all null values have been removed or imputed"
   ]
  },
  {
   "cell_type": "markdown",
   "metadata": {},
   "source": [
    "# EDA"
   ]
  },
  {
   "cell_type": "code",
   "execution_count": 26,
   "metadata": {},
   "outputs": [
    {
     "name": "stdout",
     "output_type": "stream",
     "text": [
      "id\n",
      "v431     211492581.9\n",
      "v54      139322315.0\n",
      "v19       71983200.0\n",
      "v4520     64398195.0\n",
      "v955      63182215.0\n",
      "Name: val, dtype: float64\n",
      "v431     0.036181\n",
      "v54      0.023835\n",
      "v19      0.012315\n",
      "v4520    0.011017\n",
      "v955     0.010809\n",
      "dtype: float64\n"
     ]
    }
   ],
   "source": [
    "# lets observe revenue each salesperson brings in \n",
    "id_total_revenue = fraud.groupby('id').val.sum().sort_values(ascending = False)\n",
    "id_revenue_proportion = pd.Series([i/np.sum(id_total_revenue) for i in id_total_revenue], index = id_total_revenue.index.values)\n",
    "print id_total_revenue.head()\n",
    "print id_revenue_proportion.head()"
   ]
  },
  {
   "cell_type": "code",
   "execution_count": 27,
   "metadata": {
    "collapsed": true,
    "scrolled": false
   },
   "outputs": [],
   "source": [
    "id_total_revenue = pd.concat([id_total_revenue, id_revenue_proportion], axis = 1)\n",
    "\n",
    "# counting total no. of transaction each salesperson makes\n",
    "id_count = pd.Series(fraud.id.value_counts())\n",
    "id_total_revenue = id_total_revenue.join(id_count, on = id_total_revenue.index.values, how = 'left')\n",
    "id_total_revenue.columns = ['revenue', '%_total_revenue','number_of_trans']"
   ]
  },
  {
   "cell_type": "code",
   "execution_count": 28,
   "metadata": {},
   "outputs": [
    {
     "data": {
      "text/html": [
       "<div>\n",
       "<style>\n",
       "    .dataframe thead tr:only-child th {\n",
       "        text-align: right;\n",
       "    }\n",
       "\n",
       "    .dataframe thead th {\n",
       "        text-align: left;\n",
       "    }\n",
       "\n",
       "    .dataframe tbody tr th {\n",
       "        vertical-align: top;\n",
       "    }\n",
       "</style>\n",
       "<table border=\"1\" class=\"dataframe\">\n",
       "  <thead>\n",
       "    <tr style=\"text-align: right;\">\n",
       "      <th></th>\n",
       "      <th>revenue</th>\n",
       "      <th>number_of_trans</th>\n",
       "      <th>revenue_per_trans</th>\n",
       "      <th>%_total_revenue</th>\n",
       "      <th>cum%_revenue</th>\n",
       "    </tr>\n",
       "    <tr>\n",
       "      <th>id</th>\n",
       "      <th></th>\n",
       "      <th></th>\n",
       "      <th></th>\n",
       "      <th></th>\n",
       "      <th></th>\n",
       "    </tr>\n",
       "  </thead>\n",
       "  <tbody>\n",
       "    <tr>\n",
       "      <th>v431</th>\n",
       "      <td>211492581.9</td>\n",
       "      <td>9811</td>\n",
       "      <td>21556.679431</td>\n",
       "      <td>0.036181</td>\n",
       "      <td>0.036181</td>\n",
       "    </tr>\n",
       "    <tr>\n",
       "      <th>v54</th>\n",
       "      <td>139322315.0</td>\n",
       "      <td>6017</td>\n",
       "      <td>23154.780622</td>\n",
       "      <td>0.023835</td>\n",
       "      <td>0.060016</td>\n",
       "    </tr>\n",
       "    <tr>\n",
       "      <th>v19</th>\n",
       "      <td>71983200.0</td>\n",
       "      <td>1355</td>\n",
       "      <td>53124.132841</td>\n",
       "      <td>0.012315</td>\n",
       "      <td>0.072330</td>\n",
       "    </tr>\n",
       "    <tr>\n",
       "      <th>v4520</th>\n",
       "      <td>64398195.0</td>\n",
       "      <td>580</td>\n",
       "      <td>111031.370690</td>\n",
       "      <td>0.011017</td>\n",
       "      <td>0.083347</td>\n",
       "    </tr>\n",
       "    <tr>\n",
       "      <th>v955</th>\n",
       "      <td>63182215.0</td>\n",
       "      <td>1286</td>\n",
       "      <td>49130.804821</td>\n",
       "      <td>0.010809</td>\n",
       "      <td>0.094156</td>\n",
       "    </tr>\n",
       "  </tbody>\n",
       "</table>\n",
       "</div>"
      ],
      "text/plain": [
       "           revenue  number_of_trans  revenue_per_trans  %_total_revenue  \\\n",
       "id                                                                        \n",
       "v431   211492581.9             9811       21556.679431         0.036181   \n",
       "v54    139322315.0             6017       23154.780622         0.023835   \n",
       "v19     71983200.0             1355       53124.132841         0.012315   \n",
       "v4520   64398195.0              580      111031.370690         0.011017   \n",
       "v955    63182215.0             1286       49130.804821         0.010809   \n",
       "\n",
       "       cum%_revenue  \n",
       "id                   \n",
       "v431       0.036181  \n",
       "v54        0.060016  \n",
       "v19        0.072330  \n",
       "v4520      0.083347  \n",
       "v955       0.094156  "
      ]
     },
     "execution_count": 28,
     "metadata": {},
     "output_type": "execute_result"
    }
   ],
   "source": [
    "id_cum_revenue = 0\n",
    "id_cum_list = []\n",
    "for i in id_total_revenue['%_total_revenue']:\n",
    "    id_cum_revenue += i\n",
    "    id_cum_list.append(id_cum_revenue)\n",
    "    \n",
    "id_total_revenue['cum%_revenue'] = id_cum_list\n",
    "\n",
    "id_total_revenue['revenue_per_trans'] = id_total_revenue.revenue/id_total_revenue.number_of_trans\n",
    "\n",
    "id_total_revenue = id_total_revenue[['revenue','number_of_trans','revenue_per_trans','%_total_revenue','cum%_revenue']]\n",
    "\n",
    "id_total_revenue.head()\n",
    "\n",
    "# showing the top 5 salesperson"
   ]
  },
  {
   "cell_type": "code",
   "execution_count": 29,
   "metadata": {},
   "outputs": [
    {
     "name": "stdout",
     "output_type": "stream",
     "text": [
      "approx 1063 salespeople account (17.68%) for 80% of total company revenue\n"
     ]
    },
    {
     "data": {
      "image/png": "[encoded data removed]",
      "text/plain": [
       "<matplotlib.figure.Figure at 0x111018950>"
      ]
     },
     "metadata": {
      "image/png": {
       "height": 263,
       "width": 428
      }
     },
     "output_type": "display_data"
    }
   ],
   "source": [
    "_ = plt.plot(np.arange(len(id_cum_list)), id_cum_list, lw = 2)\n",
    "_ = plt.xlabel('salesperson (highest revenue - lowest revenue)')\n",
    "_ = plt.ylabel('cumulative revenue (%)')\n",
    "_ = plt.tick_params(axis = 'both', labelsize = '12')\n",
    "\n",
    "eighty_percentile_count = len(id_total_revenue.index.values) - len(id_total_revenue[id_total_revenue['cum%_revenue']>0.8].index.values)\n",
    "eighty_percentile_percentage = float(eighty_percentile_count)*100/len(id_total_revenue.index.values)\n",
    "print 'approx {} salespeople account ({}%) for 80% of total company revenue'.format(eighty_percentile_count, round(eighty_percentile_percentage,2))\n",
    "# approx the top 1000 (top 16.6%) salespeople accounts for nearly 80% of the total sales revenue of the company"
   ]
  },
  {
   "cell_type": "code",
   "execution_count": 30,
   "metadata": {},
   "outputs": [
    {
     "name": "stdout",
     "output_type": "stream",
     "text": [
      "We can see that some salespeople in the top 1063 are making astronomicalsales per transaction. We should be suspicious of these salespeople\n"
     ]
    },
    {
     "data": {
      "image/png": "[encoded data removed]",
      "text/plain": [
       "<matplotlib.figure.Figure at 0x1a186d66d0>"
      ]
     },
     "metadata": {
      "image/png": {
       "height": 621,
       "width": 1361
      }
     },
     "output_type": "display_data"
    }
   ],
   "source": [
    "fig, ax = plt.subplots(figsize = (20,10))\n",
    "_ = ax.plot(np.arange(len(id_total_revenue.index.values[:eighty_percentile_count])),\\\n",
    "            id_total_revenue.revenue_per_trans.values[:eighty_percentile_count], linestyle = 'none', marker = 'o')\n",
    "_ = plt.xlabel('salesperson', fontsize = 20)\n",
    "_ = plt.ylabel('revenue/transaction', fontsize = 20)\n",
    "_ = plt.title('Revenue per transaction for individual salesperson', fontsize = 20)\n",
    "_ = plt.margins(0.002)\n",
    "_ = plt.tick_params(axis = 'both', labelsize = 15)\n",
    "\n",
    "print 'We can see that some salespeople in the top {} are making astronomical\\\n",
    "sales per transaction. We should be suspicious of these salespeople'.format(eighty_percentile_count)"
   ]
  },
  {
   "cell_type": "code",
   "execution_count": 31,
   "metadata": {},
   "outputs": [
    {
     "name": "stdout",
     "output_type": "stream",
     "text": [
      "approx 1051 pdts account (23.12%) for 80% of total company revenue\n"
     ]
    },
    {
     "data": {
      "image/png": "[encoded data removed]",
      "text/plain": [
       "<matplotlib.figure.Figure at 0x11108b190>"
      ]
     },
     "metadata": {
      "image/png": {
       "height": 263,
       "width": 428
      }
     },
     "output_type": "display_data"
    }
   ],
   "source": [
    "pdt_total_revenue = fraud.groupby('pdt').val.sum().sort_values(ascending = False)\n",
    "\n",
    "pdt_revenue_proportion = pd.Series([i/np.sum(pdt_total_revenue) for i in pdt_total_revenue], index = pdt_total_revenue.index)\n",
    "\n",
    "pdt_cum_revenue = 0\n",
    "pdt_cum_list = []\n",
    "for i in pdt_revenue_proportion:\n",
    "    pdt_cum_revenue += i\n",
    "    pdt_cum_list.append(pdt_cum_revenue)\n",
    "\n",
    "pdt_total_revenue = pd.concat([pdt_total_revenue, pdt_revenue_proportion, pd.Series(pdt_cum_list, index = pdt_total_revenue.index)], axis = 1)\n",
    "pdt_total_revenue = pdt_total_revenue.join(up_grpby, on = pdt_total_revenue.index.values, how = 'left')\n",
    "pdt_total_revenue.rename(columns = {0:'%_total_revenue',1:'cum%_revenue'}, inplace = True)\n",
    "\n",
    "_ = plt.plot(np.arange(len(pdt_cum_list)), pdt_cum_list, lw = 2)\n",
    "_ = plt.ylabel('cumulative revenue (%)')\n",
    "_ = plt.xlabel('products (highest revenue - lowest revenue)')\n",
    "_ = plt.tick_params(axis = 'both', labelsize = '12')\n",
    "\n",
    "eighty_percentile_count = len(pdt_total_revenue.index.values) - len(pdt_total_revenue[pdt_total_revenue['cum%_revenue']>0.8].index.values)\n",
    "eighty_percentile_percentage = float(eighty_percentile_count)*100/len(pdt_total_revenue.index.values)\n",
    "print 'approx {} pdts account ({}%) for 80% of total company revenue'.format(eighty_percentile_count, round(eighty_percentile_percentage,2))"
   ]
  },
  {
   "cell_type": "code",
   "execution_count": 32,
   "metadata": {},
   "outputs": [
    {
     "name": "stdout",
     "output_type": "stream",
     "text": [
      "We can see that some product in the top 1051 have high std in unit price. We should be suspicious of these products\n"
     ]
    },
    {
     "data": {
      "image/png": "[encoded data removed]",
      "text/plain": [
       "<matplotlib.figure.Figure at 0x1a186d6650>"
      ]
     },
     "metadata": {
      "image/png": {
       "height": 621,
       "width": 1332
      }
     },
     "output_type": "display_data"
    }
   ],
   "source": [
    "fig, ax = plt.subplots(figsize = (20,10))\n",
    "_ = ax.plot(np.arange(len(pdt_total_revenue.index.values[:eighty_percentile_count])),\\\n",
    "            pdt_total_revenue['std'].values[:eighty_percentile_count], linestyle = 'none', marker = 'o')\n",
    "_ = plt.xlabel('products', fontsize = 20)\n",
    "_ = plt.ylabel('unit price stand dev', fontsize = 20)\n",
    "_ = plt.title('Unit price stand dev for individual products', fontsize = 20)\n",
    "_ = plt.margins(0.002)\n",
    "_ = plt.tick_params(axis = 'both', labelsize = 15)\n",
    "\n",
    "print 'We can see that some product in the top {} have high std in unit price. \\\n",
    "We should be suspicious of these products'.format(eighty_percentile_count)"
   ]
  },
  {
   "cell_type": "code",
   "execution_count": 33,
   "metadata": {
    "collapsed": true
   },
   "outputs": [],
   "source": [
    "fraud = fraud.join(up_grpby[['25%','75%','std']], on='pdt', how='left')"
   ]
  },
  {
   "cell_type": "code",
   "execution_count": 34,
   "metadata": {},
   "outputs": [
    {
     "name": "stdout",
     "output_type": "stream",
     "text": [
      "<class 'pandas.core.frame.DataFrame'>\n",
      "Int64Index: 400204 entries, 1 to 401146\n",
      "Data columns (total 10 columns):\n",
      "id            400204 non-null object\n",
      "quant         400204 non-null float64\n",
      "val           400204 non-null float64\n",
      "insp          400204 non-null object\n",
      "pdt           400204 non-null object\n",
      "unit_price    400204 non-null float64\n",
      "median_up     400204 non-null float64\n",
      "25%           400204 non-null float64\n",
      "75%           400204 non-null float64\n",
      "std           400193 non-null float64\n",
      "dtypes: float64(7), object(3)\n",
      "memory usage: 43.6+ MB\n"
     ]
    }
   ],
   "source": [
    "fraud.info()"
   ]
  },
  {
   "cell_type": "code",
   "execution_count": 35,
   "metadata": {},
   "outputs": [
    {
     "data": {
      "text/html": [
       "<div>\n",
       "<style>\n",
       "    .dataframe thead tr:only-child th {\n",
       "        text-align: right;\n",
       "    }\n",
       "\n",
       "    .dataframe thead th {\n",
       "        text-align: left;\n",
       "    }\n",
       "\n",
       "    .dataframe tbody tr th {\n",
       "        vertical-align: top;\n",
       "    }\n",
       "</style>\n",
       "<table border=\"1\" class=\"dataframe\">\n",
       "  <thead>\n",
       "    <tr style=\"text-align: right;\">\n",
       "      <th></th>\n",
       "      <th>count</th>\n",
       "      <th>mean</th>\n",
       "      <th>std</th>\n",
       "      <th>min</th>\n",
       "      <th>25%</th>\n",
       "      <th>50%</th>\n",
       "      <th>75%</th>\n",
       "      <th>max</th>\n",
       "    </tr>\n",
       "    <tr>\n",
       "      <th>pdt</th>\n",
       "      <th></th>\n",
       "      <th></th>\n",
       "      <th></th>\n",
       "      <th></th>\n",
       "      <th></th>\n",
       "      <th></th>\n",
       "      <th></th>\n",
       "      <th></th>\n",
       "    </tr>\n",
       "  </thead>\n",
       "  <tbody>\n",
       "    <tr>\n",
       "      <th>p1653</th>\n",
       "      <td>1.0</td>\n",
       "      <td>10.833333</td>\n",
       "      <td>NaN</td>\n",
       "      <td>10.833333</td>\n",
       "      <td>10.833333</td>\n",
       "      <td>10.833333</td>\n",
       "      <td>10.833333</td>\n",
       "      <td>10.833333</td>\n",
       "    </tr>\n",
       "  </tbody>\n",
       "</table>\n",
       "</div>"
      ],
      "text/plain": [
       "       count       mean  std        min        25%        50%        75%  \\\n",
       "pdt                                                                        \n",
       "p1653    1.0  10.833333  NaN  10.833333  10.833333  10.833333  10.833333   \n",
       "\n",
       "             max  \n",
       "pdt               \n",
       "p1653  10.833333  "
      ]
     },
     "execution_count": 35,
     "metadata": {},
     "output_type": "execute_result"
    }
   ],
   "source": [
    "up_grpby[up_grpby['std'].isnull() == True]\n",
    "\n",
    "# the reason why there is a null value in std column is because there is only 1 count of p1653"
   ]
  },
  {
   "cell_type": "code",
   "execution_count": 36,
   "metadata": {
    "collapsed": true
   },
   "outputs": [],
   "source": [
    "fraud.loc[fraud[fraud['std'].isnull() == True].index.values,'std'] = 0.\n",
    "\n",
    "# impute value 0 into null cells"
   ]
  },
  {
   "cell_type": "code",
   "execution_count": 37,
   "metadata": {},
   "outputs": [
    {
     "data": {
      "text/html": [
       "<div>\n",
       "<style>\n",
       "    .dataframe thead tr:only-child th {\n",
       "        text-align: right;\n",
       "    }\n",
       "\n",
       "    .dataframe thead th {\n",
       "        text-align: left;\n",
       "    }\n",
       "\n",
       "    .dataframe tbody tr th {\n",
       "        vertical-align: top;\n",
       "    }\n",
       "</style>\n",
       "<table border=\"1\" class=\"dataframe\">\n",
       "  <thead>\n",
       "    <tr style=\"text-align: right;\">\n",
       "      <th></th>\n",
       "      <th>id</th>\n",
       "      <th>quant</th>\n",
       "      <th>val</th>\n",
       "      <th>insp</th>\n",
       "      <th>pdt</th>\n",
       "      <th>unit_price</th>\n",
       "      <th>median_up</th>\n",
       "      <th>Q1_up</th>\n",
       "      <th>Q3_up</th>\n",
       "      <th>std</th>\n",
       "      <th>lower_whisker</th>\n",
       "      <th>upper_whisker</th>\n",
       "    </tr>\n",
       "  </thead>\n",
       "  <tbody>\n",
       "    <tr>\n",
       "      <th>1</th>\n",
       "      <td>v1</td>\n",
       "      <td>182.0</td>\n",
       "      <td>1665.0</td>\n",
       "      <td>unkn</td>\n",
       "      <td>p1</td>\n",
       "      <td>9.148352</td>\n",
       "      <td>11.428571</td>\n",
       "      <td>7.923804</td>\n",
       "      <td>18.323077</td>\n",
       "      <td>8.290623</td>\n",
       "      <td>-7.675106</td>\n",
       "      <td>33.921987</td>\n",
       "    </tr>\n",
       "    <tr>\n",
       "      <th>2</th>\n",
       "      <td>v2</td>\n",
       "      <td>3072.0</td>\n",
       "      <td>8780.0</td>\n",
       "      <td>unkn</td>\n",
       "      <td>p1</td>\n",
       "      <td>2.858073</td>\n",
       "      <td>11.428571</td>\n",
       "      <td>7.923804</td>\n",
       "      <td>18.323077</td>\n",
       "      <td>8.290623</td>\n",
       "      <td>-7.675106</td>\n",
       "      <td>33.921987</td>\n",
       "    </tr>\n",
       "    <tr>\n",
       "      <th>3</th>\n",
       "      <td>v3</td>\n",
       "      <td>20393.0</td>\n",
       "      <td>76990.0</td>\n",
       "      <td>unkn</td>\n",
       "      <td>p1</td>\n",
       "      <td>3.775315</td>\n",
       "      <td>11.428571</td>\n",
       "      <td>7.923804</td>\n",
       "      <td>18.323077</td>\n",
       "      <td>8.290623</td>\n",
       "      <td>-7.675106</td>\n",
       "      <td>33.921987</td>\n",
       "    </tr>\n",
       "    <tr>\n",
       "      <th>4</th>\n",
       "      <td>v4</td>\n",
       "      <td>112.0</td>\n",
       "      <td>1100.0</td>\n",
       "      <td>unkn</td>\n",
       "      <td>p1</td>\n",
       "      <td>9.821429</td>\n",
       "      <td>11.428571</td>\n",
       "      <td>7.923804</td>\n",
       "      <td>18.323077</td>\n",
       "      <td>8.290623</td>\n",
       "      <td>-7.675106</td>\n",
       "      <td>33.921987</td>\n",
       "    </tr>\n",
       "    <tr>\n",
       "      <th>5</th>\n",
       "      <td>v3</td>\n",
       "      <td>6164.0</td>\n",
       "      <td>20260.0</td>\n",
       "      <td>unkn</td>\n",
       "      <td>p1</td>\n",
       "      <td>3.286827</td>\n",
       "      <td>11.428571</td>\n",
       "      <td>7.923804</td>\n",
       "      <td>18.323077</td>\n",
       "      <td>8.290623</td>\n",
       "      <td>-7.675106</td>\n",
       "      <td>33.921987</td>\n",
       "    </tr>\n",
       "  </tbody>\n",
       "</table>\n",
       "</div>"
      ],
      "text/plain": [
       "   id    quant      val  insp pdt  unit_price  median_up     Q1_up      Q3_up  \\\n",
       "1  v1    182.0   1665.0  unkn  p1    9.148352  11.428571  7.923804  18.323077   \n",
       "2  v2   3072.0   8780.0  unkn  p1    2.858073  11.428571  7.923804  18.323077   \n",
       "3  v3  20393.0  76990.0  unkn  p1    3.775315  11.428571  7.923804  18.323077   \n",
       "4  v4    112.0   1100.0  unkn  p1    9.821429  11.428571  7.923804  18.323077   \n",
       "5  v3   6164.0  20260.0  unkn  p1    3.286827  11.428571  7.923804  18.323077   \n",
       "\n",
       "        std  lower_whisker  upper_whisker  \n",
       "1  8.290623      -7.675106      33.921987  \n",
       "2  8.290623      -7.675106      33.921987  \n",
       "3  8.290623      -7.675106      33.921987  \n",
       "4  8.290623      -7.675106      33.921987  \n",
       "5  8.290623      -7.675106      33.921987  "
      ]
     },
     "execution_count": 37,
     "metadata": {},
     "output_type": "execute_result"
    }
   ],
   "source": [
    "fraud.rename(columns = {'25%':'Q1_up','75%':'Q3_up'}, inplace = True)\n",
    "fraud['lower_whisker'] = fraud.Q1_up - (1.5*(fraud.Q3_up-fraud.Q1_up))\n",
    "fraud['upper_whisker'] = fraud.Q3_up + (1.5*(fraud.Q3_up-fraud.Q1_up))\n",
    "fraud.head()"
   ]
  },
  {
   "cell_type": "code",
   "execution_count": 38,
   "metadata": {},
   "outputs": [
    {
     "name": "stdout",
     "output_type": "stream",
     "text": [
      "Approx 29790 (0.07%) transactions lie outside the range of IQR + Q3. They can be classified as outliers\n"
     ]
    }
   ],
   "source": [
    "outlier_boxplot = fraud[(fraud.unit_price > fraud.upper_whisker)|(fraud.unit_price < fraud.lower_whisker)].shape[0]\n",
    "outlier_boxplot_percentage = float(outlier_boxplot)/len(fraud.index.values)\n",
    "print 'Approx {} ({}%) transactions lie outside the range of IQR + Q3. They can be classified as outliers'.format(outlier_boxplot, round(outlier_boxplot_percentage,2))"
   ]
  },
  {
   "cell_type": "code",
   "execution_count": 39,
   "metadata": {
    "collapsed": true
   },
   "outputs": [],
   "source": [
    "insp_df = pd.DataFrame({'count':fraud.insp.value_counts(), \\\n",
    "              'percentage':[float(fraud.insp.value_counts()[0])*100/np.sum(fraud.insp.value_counts()),\\\n",
    "                            float(fraud.insp.value_counts()[1])*100/np.sum(fraud.insp.value_counts()),\\\n",
    "                            float(fraud.insp.value_counts()[2])*100/np.sum(fraud.insp.value_counts())]},\\\n",
    "              index = fraud.insp.value_counts().index.values)"
   ]
  },
  {
   "cell_type": "code",
   "execution_count": 40,
   "metadata": {
    "scrolled": true
   },
   "outputs": [
    {
     "data": {
      "image/png": "[encoded data removed]",
      "text/plain": [
       "<matplotlib.figure.Figure at 0x11113d690>"
      ]
     },
     "metadata": {
      "image/png": {
       "height": 442,
       "width": 1500
      }
     },
     "output_type": "display_data"
    }
   ],
   "source": [
    "fig, ax = plt.subplots(figsize = (20,7))\n",
    "_ = ax.barh(np.arange(len(insp_df.index.values)), insp_df.percentage)\n",
    "_ = ax.set_yticks(np.arange(len(insp_df.index.values)))\n",
    "_ = ax.set_yticklabels(insp_df.index.values)\n",
    "_ = ax.tick_params(axis='both', which='major', labelsize=20)\n",
    "_ = ax.invert_yaxis()\n",
    "_ = plt.xlabel('classes', fontsize = 20)\n",
    "_ = plt.ylabel('percentage', fontsize = 20)\n",
    "for i, v in enumerate(insp_df.percentage):\n",
    "    ax.text(v + 3, i + .1, str(v), color='blue', fontweight='bold', fontsize = 20)"
   ]
  },
  {
   "cell_type": "code",
   "execution_count": 41,
   "metadata": {
    "collapsed": true
   },
   "outputs": [],
   "source": [
    "fraud['up-median'] = fraud.unit_price - fraud.median_up\n",
    "fraud = fraud.join(id_total_revenue.revenue_per_trans, on='id', how='left')\n",
    "fraud.drop(['lower_whisker','upper_whisker'], axis = 1, inplace = True)"
   ]
  },
  {
   "cell_type": "code",
   "execution_count": 42,
   "metadata": {},
   "outputs": [
    {
     "data": {
      "text/html": [
       "<div>\n",
       "<style>\n",
       "    .dataframe thead tr:only-child th {\n",
       "        text-align: right;\n",
       "    }\n",
       "\n",
       "    .dataframe thead th {\n",
       "        text-align: left;\n",
       "    }\n",
       "\n",
       "    .dataframe tbody tr th {\n",
       "        vertical-align: top;\n",
       "    }\n",
       "</style>\n",
       "<table border=\"1\" class=\"dataframe\">\n",
       "  <thead>\n",
       "    <tr style=\"text-align: right;\">\n",
       "      <th></th>\n",
       "      <th>id</th>\n",
       "      <th>quant</th>\n",
       "      <th>val</th>\n",
       "      <th>insp</th>\n",
       "      <th>pdt</th>\n",
       "      <th>unit_price</th>\n",
       "      <th>median_up</th>\n",
       "      <th>Q1_up</th>\n",
       "      <th>Q3_up</th>\n",
       "      <th>std</th>\n",
       "      <th>up-median</th>\n",
       "      <th>revenue_per_trans</th>\n",
       "    </tr>\n",
       "  </thead>\n",
       "  <tbody>\n",
       "    <tr>\n",
       "      <th>1</th>\n",
       "      <td>v1</td>\n",
       "      <td>182.0</td>\n",
       "      <td>1665.0</td>\n",
       "      <td>unkn</td>\n",
       "      <td>p1</td>\n",
       "      <td>9.148352</td>\n",
       "      <td>11.428571</td>\n",
       "      <td>7.923804</td>\n",
       "      <td>18.323077</td>\n",
       "      <td>8.290623</td>\n",
       "      <td>-2.280220</td>\n",
       "      <td>9552.395833</td>\n",
       "    </tr>\n",
       "    <tr>\n",
       "      <th>2</th>\n",
       "      <td>v2</td>\n",
       "      <td>3072.0</td>\n",
       "      <td>8780.0</td>\n",
       "      <td>unkn</td>\n",
       "      <td>p1</td>\n",
       "      <td>2.858073</td>\n",
       "      <td>11.428571</td>\n",
       "      <td>7.923804</td>\n",
       "      <td>18.323077</td>\n",
       "      <td>8.290623</td>\n",
       "      <td>-8.570499</td>\n",
       "      <td>21807.500000</td>\n",
       "    </tr>\n",
       "    <tr>\n",
       "      <th>3</th>\n",
       "      <td>v3</td>\n",
       "      <td>20393.0</td>\n",
       "      <td>76990.0</td>\n",
       "      <td>unkn</td>\n",
       "      <td>p1</td>\n",
       "      <td>3.775315</td>\n",
       "      <td>11.428571</td>\n",
       "      <td>7.923804</td>\n",
       "      <td>18.323077</td>\n",
       "      <td>8.290623</td>\n",
       "      <td>-7.653256</td>\n",
       "      <td>19903.461538</td>\n",
       "    </tr>\n",
       "    <tr>\n",
       "      <th>4</th>\n",
       "      <td>v4</td>\n",
       "      <td>112.0</td>\n",
       "      <td>1100.0</td>\n",
       "      <td>unkn</td>\n",
       "      <td>p1</td>\n",
       "      <td>9.821429</td>\n",
       "      <td>11.428571</td>\n",
       "      <td>7.923804</td>\n",
       "      <td>18.323077</td>\n",
       "      <td>8.290623</td>\n",
       "      <td>-1.607143</td>\n",
       "      <td>1339.477828</td>\n",
       "    </tr>\n",
       "    <tr>\n",
       "      <th>5</th>\n",
       "      <td>v3</td>\n",
       "      <td>6164.0</td>\n",
       "      <td>20260.0</td>\n",
       "      <td>unkn</td>\n",
       "      <td>p1</td>\n",
       "      <td>3.286827</td>\n",
       "      <td>11.428571</td>\n",
       "      <td>7.923804</td>\n",
       "      <td>18.323077</td>\n",
       "      <td>8.290623</td>\n",
       "      <td>-8.141745</td>\n",
       "      <td>19903.461538</td>\n",
       "    </tr>\n",
       "  </tbody>\n",
       "</table>\n",
       "</div>"
      ],
      "text/plain": [
       "   id    quant      val  insp pdt  unit_price  median_up     Q1_up      Q3_up  \\\n",
       "1  v1    182.0   1665.0  unkn  p1    9.148352  11.428571  7.923804  18.323077   \n",
       "2  v2   3072.0   8780.0  unkn  p1    2.858073  11.428571  7.923804  18.323077   \n",
       "3  v3  20393.0  76990.0  unkn  p1    3.775315  11.428571  7.923804  18.323077   \n",
       "4  v4    112.0   1100.0  unkn  p1    9.821429  11.428571  7.923804  18.323077   \n",
       "5  v3   6164.0  20260.0  unkn  p1    3.286827  11.428571  7.923804  18.323077   \n",
       "\n",
       "        std  up-median  revenue_per_trans  \n",
       "1  8.290623  -2.280220        9552.395833  \n",
       "2  8.290623  -8.570499       21807.500000  \n",
       "3  8.290623  -7.653256       19903.461538  \n",
       "4  8.290623  -1.607143        1339.477828  \n",
       "5  8.290623  -8.141745       19903.461538  "
      ]
     },
     "execution_count": 42,
     "metadata": {},
     "output_type": "execute_result"
    }
   ],
   "source": [
    "fraud.head()"
   ]
  },
  {
   "cell_type": "code",
   "execution_count": 43,
   "metadata": {
    "scrolled": false
   },
   "outputs": [
    {
     "data": {
      "text/plain": [
       "<matplotlib.axes._subplots.AxesSubplot at 0x1113db5d0>"
      ]
     },
     "execution_count": 43,
     "metadata": {},
     "output_type": "execute_result"
    },
    {
     "data": {
      "image/png": "[encoded data removed]",
      "text/plain": [
       "<matplotlib.figure.Figure at 0x1112049d0>"
      ]
     },
     "metadata": {
      "image/png": {
       "height": 412,
       "width": 949
      }
     },
     "output_type": "display_data"
    }
   ],
   "source": [
    "fig, ax = plt.subplots(figsize = (15,7))\n",
    "\n",
    "corr = fraud.corr()\n",
    "\n",
    "mask = np.zeros_like(corr, dtype=np.bool)\n",
    "mask[np.triu_indices_from(mask)] = True\n",
    "\n",
    "cmap = sns.diverging_palette(600, 20, as_cmap=True)\n",
    "\n",
    "sns.heatmap(corr, mask=mask, annot=True, cmap =cmap)"
   ]
  },
  {
   "cell_type": "code",
   "execution_count": 44,
   "metadata": {
    "collapsed": true
   },
   "outputs": [],
   "source": [
    "# dropping features that are collinear (r > 0.8)\n",
    "fraud.drop(['Q3_up','up-median'], inplace = True, axis =1)"
   ]
  },
  {
   "cell_type": "code",
   "execution_count": 45,
   "metadata": {
    "scrolled": true
   },
   "outputs": [
    {
     "data": {
      "text/html": [
       "<div>\n",
       "<style>\n",
       "    .dataframe thead tr:only-child th {\n",
       "        text-align: right;\n",
       "    }\n",
       "\n",
       "    .dataframe thead th {\n",
       "        text-align: left;\n",
       "    }\n",
       "\n",
       "    .dataframe tbody tr th {\n",
       "        vertical-align: top;\n",
       "    }\n",
       "</style>\n",
       "<table border=\"1\" class=\"dataframe\">\n",
       "  <thead>\n",
       "    <tr style=\"text-align: right;\">\n",
       "      <th></th>\n",
       "      <th>id</th>\n",
       "      <th>quant</th>\n",
       "      <th>val</th>\n",
       "      <th>insp</th>\n",
       "      <th>pdt</th>\n",
       "      <th>unit_price</th>\n",
       "      <th>median_up</th>\n",
       "      <th>Q1_up</th>\n",
       "      <th>std</th>\n",
       "      <th>revenue_per_trans</th>\n",
       "    </tr>\n",
       "  </thead>\n",
       "  <tbody>\n",
       "    <tr>\n",
       "      <th>1</th>\n",
       "      <td>1</td>\n",
       "      <td>182.0</td>\n",
       "      <td>1665.0</td>\n",
       "      <td>unkn</td>\n",
       "      <td>1</td>\n",
       "      <td>9.148352</td>\n",
       "      <td>11.428571</td>\n",
       "      <td>7.923804</td>\n",
       "      <td>8.290623</td>\n",
       "      <td>9552.395833</td>\n",
       "    </tr>\n",
       "    <tr>\n",
       "      <th>2</th>\n",
       "      <td>2</td>\n",
       "      <td>3072.0</td>\n",
       "      <td>8780.0</td>\n",
       "      <td>unkn</td>\n",
       "      <td>1</td>\n",
       "      <td>2.858073</td>\n",
       "      <td>11.428571</td>\n",
       "      <td>7.923804</td>\n",
       "      <td>8.290623</td>\n",
       "      <td>21807.500000</td>\n",
       "    </tr>\n",
       "    <tr>\n",
       "      <th>3</th>\n",
       "      <td>3</td>\n",
       "      <td>20393.0</td>\n",
       "      <td>76990.0</td>\n",
       "      <td>unkn</td>\n",
       "      <td>1</td>\n",
       "      <td>3.775315</td>\n",
       "      <td>11.428571</td>\n",
       "      <td>7.923804</td>\n",
       "      <td>8.290623</td>\n",
       "      <td>19903.461538</td>\n",
       "    </tr>\n",
       "    <tr>\n",
       "      <th>4</th>\n",
       "      <td>4</td>\n",
       "      <td>112.0</td>\n",
       "      <td>1100.0</td>\n",
       "      <td>unkn</td>\n",
       "      <td>1</td>\n",
       "      <td>9.821429</td>\n",
       "      <td>11.428571</td>\n",
       "      <td>7.923804</td>\n",
       "      <td>8.290623</td>\n",
       "      <td>1339.477828</td>\n",
       "    </tr>\n",
       "    <tr>\n",
       "      <th>5</th>\n",
       "      <td>3</td>\n",
       "      <td>6164.0</td>\n",
       "      <td>20260.0</td>\n",
       "      <td>unkn</td>\n",
       "      <td>1</td>\n",
       "      <td>3.286827</td>\n",
       "      <td>11.428571</td>\n",
       "      <td>7.923804</td>\n",
       "      <td>8.290623</td>\n",
       "      <td>19903.461538</td>\n",
       "    </tr>\n",
       "  </tbody>\n",
       "</table>\n",
       "</div>"
      ],
      "text/plain": [
       "   id    quant      val  insp  pdt  unit_price  median_up     Q1_up       std  \\\n",
       "1   1    182.0   1665.0  unkn    1    9.148352  11.428571  7.923804  8.290623   \n",
       "2   2   3072.0   8780.0  unkn    1    2.858073  11.428571  7.923804  8.290623   \n",
       "3   3  20393.0  76990.0  unkn    1    3.775315  11.428571  7.923804  8.290623   \n",
       "4   4    112.0   1100.0  unkn    1    9.821429  11.428571  7.923804  8.290623   \n",
       "5   3   6164.0  20260.0  unkn    1    3.286827  11.428571  7.923804  8.290623   \n",
       "\n",
       "   revenue_per_trans  \n",
       "1        9552.395833  \n",
       "2       21807.500000  \n",
       "3       19903.461538  \n",
       "4        1339.477828  \n",
       "5       19903.461538  "
      ]
     },
     "execution_count": 45,
     "metadata": {},
     "output_type": "execute_result"
    }
   ],
   "source": [
    "# converting columns id and pdt to integer\n",
    "fraud.id = fraud.id.map(lambda x: int(x[1:]))\n",
    "fraud.pdt = fraud.pdt.map(lambda x: int(x[1:]))\n",
    "fraud.head()"
   ]
  },
  {
   "cell_type": "code",
   "execution_count": 46,
   "metadata": {
    "collapsed": true
   },
   "outputs": [],
   "source": [
    "# defining X and y\n",
    "y = fraud.insp.values\n",
    "X = fraud.drop('insp', axis=1)"
   ]
  },
  {
   "cell_type": "code",
   "execution_count": 47,
   "metadata": {},
   "outputs": [
    {
     "name": "stderr",
     "output_type": "stream",
     "text": [
      "/Users/timong/anaconda/lib/python2.7/site-packages/statsmodels/compat/pandas.py:56: FutureWarning: The pandas.core.datetools module is deprecated and will be removed in a future version. Please use the pandas.tseries module instead.\n",
      "  from pandas.core import datetools\n"
     ]
    },
    {
     "data": {
      "text/html": [
       "<div>\n",
       "<style>\n",
       "    .dataframe thead tr:only-child th {\n",
       "        text-align: right;\n",
       "    }\n",
       "\n",
       "    .dataframe thead th {\n",
       "        text-align: left;\n",
       "    }\n",
       "\n",
       "    .dataframe tbody tr th {\n",
       "        vertical-align: top;\n",
       "    }\n",
       "</style>\n",
       "<table border=\"1\" class=\"dataframe\">\n",
       "  <thead>\n",
       "    <tr style=\"text-align: right;\">\n",
       "      <th></th>\n",
       "      <th>VIF Factor</th>\n",
       "      <th>features</th>\n",
       "    </tr>\n",
       "  </thead>\n",
       "  <tbody>\n",
       "    <tr>\n",
       "      <th>0</th>\n",
       "      <td>2.202229</td>\n",
       "      <td>id</td>\n",
       "    </tr>\n",
       "    <tr>\n",
       "      <th>1</th>\n",
       "      <td>1.002359</td>\n",
       "      <td>quant</td>\n",
       "    </tr>\n",
       "    <tr>\n",
       "      <th>2</th>\n",
       "      <td>1.282480</td>\n",
       "      <td>val</td>\n",
       "    </tr>\n",
       "    <tr>\n",
       "      <th>3</th>\n",
       "      <td>3.250137</td>\n",
       "      <td>pdt</td>\n",
       "    </tr>\n",
       "    <tr>\n",
       "      <th>4</th>\n",
       "      <td>1.540097</td>\n",
       "      <td>unit_price</td>\n",
       "    </tr>\n",
       "    <tr>\n",
       "      <th>5</th>\n",
       "      <td>1.796570</td>\n",
       "      <td>median_up</td>\n",
       "    </tr>\n",
       "    <tr>\n",
       "      <th>6</th>\n",
       "      <td>3.278657</td>\n",
       "      <td>Q1_up</td>\n",
       "    </tr>\n",
       "    <tr>\n",
       "      <th>7</th>\n",
       "      <td>1.763094</td>\n",
       "      <td>std</td>\n",
       "    </tr>\n",
       "    <tr>\n",
       "      <th>8</th>\n",
       "      <td>1.470521</td>\n",
       "      <td>revenue_per_trans</td>\n",
       "    </tr>\n",
       "  </tbody>\n",
       "</table>\n",
       "</div>"
      ],
      "text/plain": [
       "   VIF Factor           features\n",
       "0    2.202229                 id\n",
       "1    1.002359              quant\n",
       "2    1.282480                val\n",
       "3    3.250137                pdt\n",
       "4    1.540097         unit_price\n",
       "5    1.796570          median_up\n",
       "6    3.278657              Q1_up\n",
       "7    1.763094                std\n",
       "8    1.470521  revenue_per_trans"
      ]
     },
     "execution_count": 47,
     "metadata": {},
     "output_type": "execute_result"
    }
   ],
   "source": [
    "# checking for multi-collinearity amongst X matrix\n",
    "import statsmodels.api as sm\n",
    "from statsmodels.stats.outliers_influence import variance_inflation_factor\n",
    "\n",
    "vif = pd.DataFrame()\n",
    "vif[\"VIF Factor\"] = [variance_inflation_factor(X.values, i) for i in range(X.shape[1])]\n",
    "vif[\"features\"] = X.columns\n",
    "vif"
   ]
  },
  {
   "cell_type": "markdown",
   "metadata": {},
   "source": [
    "**Conclusion**\n",
    "1. Approximately 80% of the company's revenue comes from the top 18% salespeople\n",
    "2. Approximately 80% of the company's revenue comes from the top 23% selling product\n",
    "3. We can observe certain outliers from the two graphs, revenue per transactions for each salesperson and unit price standard deviation for each product\n",
    "4. 96% of the dataset is unlabelled and there exist a huge class imbalance in the remaining 4%\n",
    "5. Only 8.77% of the labelled data are fraud"
   ]
  },
  {
   "cell_type": "markdown",
   "metadata": {},
   "source": [
    "# Modelling "
   ]
  },
  {
   "cell_type": "code",
   "execution_count": 4,
   "metadata": {
    "collapsed": true
   },
   "outputs": [],
   "source": [
    "from sklearn.preprocessing import RobustScaler\n",
    "from sklearn.model_selection import train_test_split, cross_val_score, GridSearchCV, StratifiedKFold\n",
    "\n",
    "from sklearn.metrics import classification_report, confusion_matrix, accuracy_score, roc_auc_score, f1_score, precision_score, recall_score, make_scorer\n",
    "\n",
    "from sklearn.externals import joblib\n",
    "\n",
    "from imblearn.over_sampling import SMOTE"
   ]
  },
  {
   "cell_type": "code",
   "execution_count": 49,
   "metadata": {
    "collapsed": true
   },
   "outputs": [],
   "source": [
    "# changing classes to binary and -1 for unknowns\n",
    "fraud.insp = [1 if i == 'fraud' else 0 if i == 'ok' else -1 for i in fraud.insp]"
   ]
  },
  {
   "cell_type": "code",
   "execution_count": 50,
   "metadata": {
    "collapsed": true
   },
   "outputs": [],
   "source": [
    "# dropping id and pdt as they do not tell much\n",
    "fraud.drop(['id','pdt'], axis = 1, inplace = True)"
   ]
  },
  {
   "cell_type": "code",
   "execution_count": 51,
   "metadata": {},
   "outputs": [
    {
     "data": {
      "text/html": [
       "<div>\n",
       "<style>\n",
       "    .dataframe thead tr:only-child th {\n",
       "        text-align: right;\n",
       "    }\n",
       "\n",
       "    .dataframe thead th {\n",
       "        text-align: left;\n",
       "    }\n",
       "\n",
       "    .dataframe tbody tr th {\n",
       "        vertical-align: top;\n",
       "    }\n",
       "</style>\n",
       "<table border=\"1\" class=\"dataframe\">\n",
       "  <thead>\n",
       "    <tr style=\"text-align: right;\">\n",
       "      <th></th>\n",
       "      <th>quant</th>\n",
       "      <th>val</th>\n",
       "      <th>insp</th>\n",
       "      <th>unit_price</th>\n",
       "      <th>median_up</th>\n",
       "      <th>Q1_up</th>\n",
       "      <th>std</th>\n",
       "      <th>revenue_per_trans</th>\n",
       "    </tr>\n",
       "  </thead>\n",
       "  <tbody>\n",
       "    <tr>\n",
       "      <th>1</th>\n",
       "      <td>182.0</td>\n",
       "      <td>1665.0</td>\n",
       "      <td>-1</td>\n",
       "      <td>9.148352</td>\n",
       "      <td>11.428571</td>\n",
       "      <td>7.923804</td>\n",
       "      <td>8.290623</td>\n",
       "      <td>9552.395833</td>\n",
       "    </tr>\n",
       "    <tr>\n",
       "      <th>2</th>\n",
       "      <td>3072.0</td>\n",
       "      <td>8780.0</td>\n",
       "      <td>-1</td>\n",
       "      <td>2.858073</td>\n",
       "      <td>11.428571</td>\n",
       "      <td>7.923804</td>\n",
       "      <td>8.290623</td>\n",
       "      <td>21807.500000</td>\n",
       "    </tr>\n",
       "    <tr>\n",
       "      <th>3</th>\n",
       "      <td>20393.0</td>\n",
       "      <td>76990.0</td>\n",
       "      <td>-1</td>\n",
       "      <td>3.775315</td>\n",
       "      <td>11.428571</td>\n",
       "      <td>7.923804</td>\n",
       "      <td>8.290623</td>\n",
       "      <td>19903.461538</td>\n",
       "    </tr>\n",
       "    <tr>\n",
       "      <th>4</th>\n",
       "      <td>112.0</td>\n",
       "      <td>1100.0</td>\n",
       "      <td>-1</td>\n",
       "      <td>9.821429</td>\n",
       "      <td>11.428571</td>\n",
       "      <td>7.923804</td>\n",
       "      <td>8.290623</td>\n",
       "      <td>1339.477828</td>\n",
       "    </tr>\n",
       "    <tr>\n",
       "      <th>5</th>\n",
       "      <td>6164.0</td>\n",
       "      <td>20260.0</td>\n",
       "      <td>-1</td>\n",
       "      <td>3.286827</td>\n",
       "      <td>11.428571</td>\n",
       "      <td>7.923804</td>\n",
       "      <td>8.290623</td>\n",
       "      <td>19903.461538</td>\n",
       "    </tr>\n",
       "  </tbody>\n",
       "</table>\n",
       "</div>"
      ],
      "text/plain": [
       "     quant      val  insp  unit_price  median_up     Q1_up       std  \\\n",
       "1    182.0   1665.0    -1    9.148352  11.428571  7.923804  8.290623   \n",
       "2   3072.0   8780.0    -1    2.858073  11.428571  7.923804  8.290623   \n",
       "3  20393.0  76990.0    -1    3.775315  11.428571  7.923804  8.290623   \n",
       "4    112.0   1100.0    -1    9.821429  11.428571  7.923804  8.290623   \n",
       "5   6164.0  20260.0    -1    3.286827  11.428571  7.923804  8.290623   \n",
       "\n",
       "   revenue_per_trans  \n",
       "1        9552.395833  \n",
       "2       21807.500000  \n",
       "3       19903.461538  \n",
       "4        1339.477828  \n",
       "5       19903.461538  "
      ]
     },
     "execution_count": 51,
     "metadata": {},
     "output_type": "execute_result"
    }
   ],
   "source": [
    "fraud.head()"
   ]
  },
  {
   "cell_type": "code",
   "execution_count": 52,
   "metadata": {
    "scrolled": true
   },
   "outputs": [
    {
     "name": "stdout",
     "output_type": "stream",
     "text": [
      "baseline accuracy: 0.919\n"
     ]
    }
   ],
   "source": [
    "# calculating baseline accuracy\n",
    "labelled = fraud[(fraud.insp == 1) | (fraud.insp == 0)]\n",
    "unlabelled = fraud[fraud.insp == -1]\n",
    "baseline = float(labelled.insp.value_counts()[0])/labelled.shape[0]\n",
    "\n",
    "print 'baseline accuracy: {}'.format(round(baseline,3))"
   ]
  },
  {
   "cell_type": "markdown",
   "metadata": {},
   "source": [
    "## Part 1 \n",
    "*Determining whether the size of the current labelled dataset is a sufficient to generate a robust model*"
   ]
  },
  {
   "cell_type": "markdown",
   "metadata": {},
   "source": [
    "Currently, approximately 96% of the data are unlabelled. Instead of jumping straight into generating a model, we would need to consider whether do we need more labelled data to generate a robust model or is the current size of labelled data sufficient enough to generate a robust model.\n",
    "\n",
    "To determine this, we will first proportion out a test set. We will set it to be 30% of the labelled dataset. Since the labelled data is highly imbalanced (only 8.77% of labelled data is fraud), we will modify the test set to create a more rigour testing environment. We will modify the test set to contain 20% non-fraud data and 80% fraud data. We will also create 3 different folds to do cross-validation.\n",
    "\n",
    "Subsequently, we will train models using 30% and 100% of the remaining labelled dataset. If the performance of the model gets better when the size of the training set increases, i.e. 30% vs 100%, it shows that saturation point has not been reached and we need more labelled data to generate a better model.  "
   ]
  },
  {
   "cell_type": "code",
   "execution_count": 53,
   "metadata": {},
   "outputs": [
    {
     "data": {
      "text/html": [
       "<div>\n",
       "<style>\n",
       "    .dataframe thead tr:only-child th {\n",
       "        text-align: right;\n",
       "    }\n",
       "\n",
       "    .dataframe thead th {\n",
       "        text-align: left;\n",
       "    }\n",
       "\n",
       "    .dataframe tbody tr th {\n",
       "        vertical-align: top;\n",
       "    }\n",
       "</style>\n",
       "<table border=\"1\" class=\"dataframe\">\n",
       "  <thead>\n",
       "    <tr style=\"text-align: right;\">\n",
       "      <th></th>\n",
       "      <th>quant</th>\n",
       "      <th>val</th>\n",
       "      <th>insp</th>\n",
       "      <th>unit_price</th>\n",
       "      <th>median_up</th>\n",
       "      <th>Q1_up</th>\n",
       "      <th>std</th>\n",
       "      <th>revenue_per_trans</th>\n",
       "    </tr>\n",
       "  </thead>\n",
       "  <tbody>\n",
       "    <tr>\n",
       "      <th>49</th>\n",
       "      <td>51097.0</td>\n",
       "      <td>310780.0</td>\n",
       "      <td>0</td>\n",
       "      <td>6.082157</td>\n",
       "      <td>5.546006</td>\n",
       "      <td>4.927794</td>\n",
       "      <td>1.517919</td>\n",
       "      <td>80075.375000</td>\n",
       "    </tr>\n",
       "    <tr>\n",
       "      <th>52</th>\n",
       "      <td>260.0</td>\n",
       "      <td>1925.0</td>\n",
       "      <td>0</td>\n",
       "      <td>7.403846</td>\n",
       "      <td>5.546006</td>\n",
       "      <td>4.927794</td>\n",
       "      <td>1.517919</td>\n",
       "      <td>1778.129771</td>\n",
       "    </tr>\n",
       "    <tr>\n",
       "      <th>64</th>\n",
       "      <td>51282.0</td>\n",
       "      <td>278770.0</td>\n",
       "      <td>0</td>\n",
       "      <td>5.436020</td>\n",
       "      <td>5.546006</td>\n",
       "      <td>4.927794</td>\n",
       "      <td>1.517919</td>\n",
       "      <td>80075.375000</td>\n",
       "    </tr>\n",
       "    <tr>\n",
       "      <th>73</th>\n",
       "      <td>46903.0</td>\n",
       "      <td>281485.0</td>\n",
       "      <td>0</td>\n",
       "      <td>6.001428</td>\n",
       "      <td>5.546006</td>\n",
       "      <td>4.927794</td>\n",
       "      <td>1.517919</td>\n",
       "      <td>40430.176257</td>\n",
       "    </tr>\n",
       "    <tr>\n",
       "      <th>78</th>\n",
       "      <td>475.0</td>\n",
       "      <td>2600.0</td>\n",
       "      <td>0</td>\n",
       "      <td>5.473684</td>\n",
       "      <td>5.465252</td>\n",
       "      <td>4.503912</td>\n",
       "      <td>1.952785</td>\n",
       "      <td>6698.238095</td>\n",
       "    </tr>\n",
       "  </tbody>\n",
       "</table>\n",
       "</div>"
      ],
      "text/plain": [
       "      quant       val  insp  unit_price  median_up     Q1_up       std  \\\n",
       "49  51097.0  310780.0     0    6.082157   5.546006  4.927794  1.517919   \n",
       "52    260.0    1925.0     0    7.403846   5.546006  4.927794  1.517919   \n",
       "64  51282.0  278770.0     0    5.436020   5.546006  4.927794  1.517919   \n",
       "73  46903.0  281485.0     0    6.001428   5.546006  4.927794  1.517919   \n",
       "78    475.0    2600.0     0    5.473684   5.465252  4.503912  1.952785   \n",
       "\n",
       "    revenue_per_trans  \n",
       "49       80075.375000  \n",
       "52        1778.129771  \n",
       "64       80075.375000  \n",
       "73       40430.176257  \n",
       "78        6698.238095  "
      ]
     },
     "execution_count": 53,
     "metadata": {},
     "output_type": "execute_result"
    }
   ],
   "source": [
    "labelled.head()"
   ]
  },
  {
   "cell_type": "code",
   "execution_count": 54,
   "metadata": {},
   "outputs": [
    {
     "data": {
      "text/html": [
       "<div>\n",
       "<style>\n",
       "    .dataframe thead tr:only-child th {\n",
       "        text-align: right;\n",
       "    }\n",
       "\n",
       "    .dataframe thead th {\n",
       "        text-align: left;\n",
       "    }\n",
       "\n",
       "    .dataframe tbody tr th {\n",
       "        vertical-align: top;\n",
       "    }\n",
       "</style>\n",
       "<table border=\"1\" class=\"dataframe\">\n",
       "  <thead>\n",
       "    <tr style=\"text-align: right;\">\n",
       "      <th></th>\n",
       "      <th>quant</th>\n",
       "      <th>val</th>\n",
       "      <th>insp</th>\n",
       "      <th>unit_price</th>\n",
       "      <th>median_up</th>\n",
       "      <th>Q1_up</th>\n",
       "      <th>std</th>\n",
       "      <th>revenue_per_trans</th>\n",
       "    </tr>\n",
       "  </thead>\n",
       "  <tbody>\n",
       "    <tr>\n",
       "      <th>0</th>\n",
       "      <td>2660.0</td>\n",
       "      <td>72790.0</td>\n",
       "      <td>0</td>\n",
       "      <td>27.364662</td>\n",
       "      <td>19.024868</td>\n",
       "      <td>13.271028</td>\n",
       "      <td>13.682029</td>\n",
       "      <td>29983.625856</td>\n",
       "    </tr>\n",
       "    <tr>\n",
       "      <th>1</th>\n",
       "      <td>286.0</td>\n",
       "      <td>56305.0</td>\n",
       "      <td>0</td>\n",
       "      <td>196.870629</td>\n",
       "      <td>122.502100</td>\n",
       "      <td>46.945377</td>\n",
       "      <td>64.290237</td>\n",
       "      <td>18669.000000</td>\n",
       "    </tr>\n",
       "    <tr>\n",
       "      <th>2</th>\n",
       "      <td>44436.0</td>\n",
       "      <td>344790.0</td>\n",
       "      <td>0</td>\n",
       "      <td>7.759249</td>\n",
       "      <td>9.222306</td>\n",
       "      <td>7.366463</td>\n",
       "      <td>12.176845</td>\n",
       "      <td>49130.804821</td>\n",
       "    </tr>\n",
       "    <tr>\n",
       "      <th>3</th>\n",
       "      <td>644.0</td>\n",
       "      <td>11925.0</td>\n",
       "      <td>0</td>\n",
       "      <td>18.517081</td>\n",
       "      <td>9.234234</td>\n",
       "      <td>7.207602</td>\n",
       "      <td>5.080252</td>\n",
       "      <td>41532.721519</td>\n",
       "    </tr>\n",
       "    <tr>\n",
       "      <th>4</th>\n",
       "      <td>100655.0</td>\n",
       "      <td>8970.0</td>\n",
       "      <td>0</td>\n",
       "      <td>0.089116</td>\n",
       "      <td>0.135907</td>\n",
       "      <td>0.101714</td>\n",
       "      <td>9.481920</td>\n",
       "      <td>7673.620690</td>\n",
       "    </tr>\n",
       "  </tbody>\n",
       "</table>\n",
       "</div>"
      ],
      "text/plain": [
       "      quant       val  insp  unit_price   median_up      Q1_up        std  \\\n",
       "0    2660.0   72790.0     0   27.364662   19.024868  13.271028  13.682029   \n",
       "1     286.0   56305.0     0  196.870629  122.502100  46.945377  64.290237   \n",
       "2   44436.0  344790.0     0    7.759249    9.222306   7.366463  12.176845   \n",
       "3     644.0   11925.0     0   18.517081    9.234234   7.207602   5.080252   \n",
       "4  100655.0    8970.0     0    0.089116    0.135907   0.101714   9.481920   \n",
       "\n",
       "   revenue_per_trans  \n",
       "0       29983.625856  \n",
       "1       18669.000000  \n",
       "2       49130.804821  \n",
       "3       41532.721519  \n",
       "4        7673.620690  "
      ]
     },
     "execution_count": 54,
     "metadata": {},
     "output_type": "execute_result"
    }
   ],
   "source": [
    "# shuffling the labelled dataset\n",
    "labelled_edit = labelled.sample(frac=1, random_state = 1).reset_index(drop=True)\n",
    "labelled_edit.head()"
   ]
  },
  {
   "cell_type": "code",
   "execution_count": 55,
   "metadata": {},
   "outputs": [
    {
     "name": "stdout",
     "output_type": "stream",
     "text": [
      "15726\n",
      "5242\n"
     ]
    }
   ],
   "source": [
    "# checking number of rows to slice to form 3 equal dataset\n",
    "print labelled_edit.shape[0]\n",
    "print labelled_edit.shape[0]/3"
   ]
  },
  {
   "cell_type": "code",
   "execution_count": 56,
   "metadata": {},
   "outputs": [
    {
     "name": "stdout",
     "output_type": "stream",
     "text": [
      "-5241\n",
      "-5241\n",
      "-5241\n"
     ]
    }
   ],
   "source": [
    "labelled_edit1 = labelled_edit[:5242]\n",
    "print labelled_edit1.index.values[0] - labelled_edit1.index.values[-1]\n",
    "\n",
    "labelled_edit2 = labelled_edit[5242:10484]\n",
    "print labelled_edit2.index.values[0] - labelled_edit2.index.values[-1]\n",
    "\n",
    "labelled_edit3 = labelled_edit[10484:15726]\n",
    "print labelled_edit3.index.values[0] - labelled_edit3.index.values[-1]"
   ]
  },
  {
   "cell_type": "markdown",
   "metadata": {},
   "source": [
    "**Creating the first fold**\n",
    "- test set: labelled_edit1\n",
    "- training set: labelled_edit2 & 3"
   ]
  },
  {
   "cell_type": "code",
   "execution_count": 57,
   "metadata": {
    "collapsed": true
   },
   "outputs": [],
   "source": [
    "def test_rigour(df, ok_ratio = 0.2, preprocess = False):\n",
    "    \n",
    "    \"\"\" creating a more rigour test set by undersampling non-fraud data points in the test set so that the non-fraud\n",
    "    class will become the minority class.\n",
    "    \n",
    "    Parameters\n",
    "    -----------\n",
    "    ok_ratio: float, default =  0.2\n",
    "        proportion of non-fraud data points in the new test set\n",
    "    \n",
    "    preprocess: boolean, default = False\n",
    "        whether was the df preprocessed\n",
    "    \n",
    "    Return\n",
    "    ----------\n",
    "    Dataframe of the modifited test set\n",
    "    \"\"\"\n",
    "    \n",
    "    if preprocess == False:\n",
    "        test_fraud = df[df.insp == 1]\n",
    "        test_ok = df[df.insp == 0]\n",
    "        test_ok_sampled = test_ok.sample(n = int(test_fraud.shape[0] * ok_ratio), random_state =1)\n",
    "        rigour = pd.concat([test_fraud, test_ok_sampled], axis = 0, ignore_index = True)\n",
    "    else:\n",
    "        df2 = pd.DataFrame(df, columns = [i + '_rb' for i in X.columns])\n",
    "        df2['insp'] = y_test\n",
    "        test_fraud = df2[df2.insp == 1]\n",
    "        test_ok = df2[df2.insp == 0]\n",
    "        test_ok_sampled = test_ok.sample(n = int(test_fraud.shape[0] * ok_ratio), random_state =1)\n",
    "        rigour = pd.concat([test_ok_sampled, test_fraud], axis = 0, ignore_index = True)\n",
    "        rigour = rigour.sample(frac = 1)\n",
    "        \n",
    "    return rigour"
   ]
  },
  {
   "cell_type": "code",
   "execution_count": 58,
   "metadata": {
    "collapsed": true
   },
   "outputs": [],
   "source": [
    "# creating a more rigour test set, 80% fraud, 20% non-fraud\n",
    "test1_df = test_rigour(labelled_edit1, ok_ratio = 0.2, preprocess=False)"
   ]
  },
  {
   "cell_type": "code",
   "execution_count": 59,
   "metadata": {},
   "outputs": [
    {
     "data": {
      "text/plain": [
       "1    409\n",
       "0     81\n",
       "Name: insp, dtype: int64"
      ]
     },
     "execution_count": 59,
     "metadata": {},
     "output_type": "execute_result"
    }
   ],
   "source": [
    "test1_df.insp.value_counts()"
   ]
  },
  {
   "cell_type": "code",
   "execution_count": 60,
   "metadata": {},
   "outputs": [
    {
     "data": {
      "text/html": [
       "<div>\n",
       "<style>\n",
       "    .dataframe thead tr:only-child th {\n",
       "        text-align: right;\n",
       "    }\n",
       "\n",
       "    .dataframe thead th {\n",
       "        text-align: left;\n",
       "    }\n",
       "\n",
       "    .dataframe tbody tr th {\n",
       "        vertical-align: top;\n",
       "    }\n",
       "</style>\n",
       "<table border=\"1\" class=\"dataframe\">\n",
       "  <thead>\n",
       "    <tr style=\"text-align: right;\">\n",
       "      <th></th>\n",
       "      <th>quant</th>\n",
       "      <th>val</th>\n",
       "      <th>insp</th>\n",
       "      <th>unit_price</th>\n",
       "      <th>median_up</th>\n",
       "      <th>Q1_up</th>\n",
       "      <th>std</th>\n",
       "      <th>revenue_per_trans</th>\n",
       "    </tr>\n",
       "  </thead>\n",
       "  <tbody>\n",
       "    <tr>\n",
       "      <th>0</th>\n",
       "      <td>105.0</td>\n",
       "      <td>31615.0</td>\n",
       "      <td>1</td>\n",
       "      <td>301.095238</td>\n",
       "      <td>12.945205</td>\n",
       "      <td>10.922330</td>\n",
       "      <td>43.169639</td>\n",
       "      <td>29066.166667</td>\n",
       "    </tr>\n",
       "    <tr>\n",
       "      <th>1</th>\n",
       "      <td>269.0</td>\n",
       "      <td>45055.0</td>\n",
       "      <td>1</td>\n",
       "      <td>167.490706</td>\n",
       "      <td>0.282271</td>\n",
       "      <td>0.272890</td>\n",
       "      <td>51.443713</td>\n",
       "      <td>21069.407895</td>\n",
       "    </tr>\n",
       "    <tr>\n",
       "      <th>2</th>\n",
       "      <td>238.0</td>\n",
       "      <td>1080.0</td>\n",
       "      <td>1</td>\n",
       "      <td>4.537815</td>\n",
       "      <td>13.626697</td>\n",
       "      <td>10.710714</td>\n",
       "      <td>13.208736</td>\n",
       "      <td>5914.789916</td>\n",
       "    </tr>\n",
       "    <tr>\n",
       "      <th>3</th>\n",
       "      <td>41416.0</td>\n",
       "      <td>48165.0</td>\n",
       "      <td>1</td>\n",
       "      <td>1.162956</td>\n",
       "      <td>0.135907</td>\n",
       "      <td>0.101714</td>\n",
       "      <td>9.481920</td>\n",
       "      <td>9269.500000</td>\n",
       "    </tr>\n",
       "    <tr>\n",
       "      <th>4</th>\n",
       "      <td>157.0</td>\n",
       "      <td>15535.0</td>\n",
       "      <td>1</td>\n",
       "      <td>98.949045</td>\n",
       "      <td>0.770615</td>\n",
       "      <td>0.502216</td>\n",
       "      <td>11.259249</td>\n",
       "      <td>6102.857143</td>\n",
       "    </tr>\n",
       "  </tbody>\n",
       "</table>\n",
       "</div>"
      ],
      "text/plain": [
       "     quant      val  insp  unit_price  median_up      Q1_up        std  \\\n",
       "0    105.0  31615.0     1  301.095238  12.945205  10.922330  43.169639   \n",
       "1    269.0  45055.0     1  167.490706   0.282271   0.272890  51.443713   \n",
       "2    238.0   1080.0     1    4.537815  13.626697  10.710714  13.208736   \n",
       "3  41416.0  48165.0     1    1.162956   0.135907   0.101714   9.481920   \n",
       "4    157.0  15535.0     1   98.949045   0.770615   0.502216  11.259249   \n",
       "\n",
       "   revenue_per_trans  \n",
       "0       29066.166667  \n",
       "1       21069.407895  \n",
       "2        5914.789916  \n",
       "3        9269.500000  \n",
       "4        6102.857143  "
      ]
     },
     "execution_count": 60,
     "metadata": {},
     "output_type": "execute_result"
    }
   ],
   "source": [
    "test1_df.head()"
   ]
  },
  {
   "cell_type": "code",
   "execution_count": 61,
   "metadata": {
    "collapsed": true
   },
   "outputs": [],
   "source": [
    "# defining X_test matrix and y_test\n",
    "X_test1 = test1_df.drop(['insp'], axis=1)\n",
    "y_test1 = test1_df.insp.values"
   ]
  },
  {
   "cell_type": "code",
   "execution_count": 62,
   "metadata": {
    "collapsed": true
   },
   "outputs": [],
   "source": [
    "# creating a training set that composes of 30% rows of labelled_edit2 & 3\n",
    "train1_df = pd.concat([labelled_edit2, labelled_edit3], axis = 0, ignore_index = True)\n",
    "train1_30_df = train1_df.sample(n = int(train1_df.shape[0]*0.3), random_state=1)"
   ]
  },
  {
   "cell_type": "code",
   "execution_count": 63,
   "metadata": {},
   "outputs": [
    {
     "data": {
      "text/plain": [
       "Index([u'quant', u'val', u'insp', u'unit_price', u'median_up', u'Q1_up',\n",
       "       u'std', u'revenue_per_trans'],\n",
       "      dtype='object')"
      ]
     },
     "execution_count": 63,
     "metadata": {},
     "output_type": "execute_result"
    }
   ],
   "source": [
    "train1_30_df.columns"
   ]
  },
  {
   "cell_type": "code",
   "execution_count": 64,
   "metadata": {
    "collapsed": true
   },
   "outputs": [],
   "source": [
    "X_train1_30 = train1_30_df.drop(['insp'], axis = 1)\n",
    "y_train1_30 = train1_30_df.insp.values\n",
    "\n",
    "# scale X matrix with RobustScaler\n",
    "rb = RobustScaler()\n",
    "Xrb_train1_30 = rb.fit_transform(X_train1_30)\n",
    "\n",
    "Xrb_test1 = rb.transform(X_test1)\n",
    "\n",
    "# SMOTE the training set\n",
    "sm = SMOTE(random_state = 1, ratio = 'minority')\n",
    "Xrbs_train1_30, ys_train1_30 = sm.fit_sample(Xrb_train1_30, y_train1_30)"
   ]
  },
  {
   "cell_type": "code",
   "execution_count": 65,
   "metadata": {},
   "outputs": [
    {
     "data": {
      "text/plain": [
       "RandomForestClassifier(bootstrap=True, class_weight=None, criterion='gini',\n",
       "            max_depth=5, max_features='auto', max_leaf_nodes=None,\n",
       "            min_impurity_decrease=0.0, min_impurity_split=None,\n",
       "            min_samples_leaf=1, min_samples_split=2,\n",
       "            min_weight_fraction_leaf=0.0, n_estimators=1000, n_jobs=1,\n",
       "            oob_score=False, random_state=1, verbose=0, warm_start=False)"
      ]
     },
     "execution_count": 65,
     "metadata": {},
     "output_type": "execute_result"
    }
   ],
   "source": [
    "# using RandomForestClassifer as an estimator\n",
    "from sklearn.ensemble import RandomForestClassifier\n",
    "\n",
    "rclf = RandomForestClassifier(n_estimators=1000, max_depth=5, random_state=1)\n",
    "\n",
    "# train 30% of the training set\n",
    "rclf.fit(Xrbs_train1_30, ys_train1_30)"
   ]
  },
  {
   "cell_type": "code",
   "execution_count": 66,
   "metadata": {
    "collapsed": true
   },
   "outputs": [],
   "source": [
    "def sup_perf(model, X_test, y_test):\n",
    "    \"\"\" \n",
    "    Evaluating performance of supervised models\n",
    "    \n",
    "    Parameters\n",
    "    -----------\n",
    "    y_test: needs to be labelled [0,1] where minority class is labelled as 1\n",
    "    \n",
    "    Returns\n",
    "    -----------\n",
    "    Model score, precision score (minority class), recall score (minority class),\n",
    "    f1 score (minority class) and auc score (unweighted average)\n",
    "    \"\"\"\n",
    "    model_yhat = model.predict(X_test)\n",
    "    model_score = model.score(X_test, y_test)\n",
    "    model_f1 = f1_score(y_test, model_yhat, average = 'binary')\n",
    "    model_precision = precision_score(y_test, model_yhat, average = 'binary')\n",
    "    model_recall = recall_score(y_test, model_yhat, average = 'binary')\n",
    "    model_auc = roc_auc_score(y_test, model_yhat, average = 'macro')\n",
    "    \n",
    "    return (model_score, model_precision, model_recall, model_f1, model_auc)"
   ]
  },
  {
   "cell_type": "code",
   "execution_count": 67,
   "metadata": {
    "collapsed": true
   },
   "outputs": [],
   "source": [
    "# calculating the performance of the model\n",
    "score1_30, precision1_30, recall1_30, f11_30, auc1_30 = sup_perf(rclf, Xrb_test1, y_test1)"
   ]
  },
  {
   "cell_type": "code",
   "execution_count": 68,
   "metadata": {},
   "outputs": [
    {
     "data": {
      "text/plain": [
       "RandomForestClassifier(bootstrap=True, class_weight=None, criterion='gini',\n",
       "            max_depth=5, max_features='auto', max_leaf_nodes=None,\n",
       "            min_impurity_decrease=0.0, min_impurity_split=None,\n",
       "            min_samples_leaf=1, min_samples_split=2,\n",
       "            min_weight_fraction_leaf=0.0, n_estimators=1000, n_jobs=1,\n",
       "            oob_score=False, random_state=1, verbose=0, warm_start=False)"
      ]
     },
     "execution_count": 68,
     "metadata": {},
     "output_type": "execute_result"
    }
   ],
   "source": [
    "X_train1_100 = train1_df.drop(['insp'], axis =1)\n",
    "y_train1_100 = train1_df.insp.values\n",
    "\n",
    "# scale X matrix with RobustScaler\n",
    "Xrb_train1_100 = rb.fit_transform(X_train1_100)\n",
    "\n",
    "Xrb_test1 = rb.transform(X_test1)\n",
    "\n",
    "# SMOTE the training set\n",
    "Xrbs_train1_100, ys_train1_100 = sm.fit_sample(Xrb_train1_100, y_train1_100)\n",
    "\n",
    "# train 100% of the training set\n",
    "rclf.fit(Xrbs_train1_100, ys_train1_100)"
   ]
  },
  {
   "cell_type": "code",
   "execution_count": 69,
   "metadata": {
    "collapsed": true
   },
   "outputs": [],
   "source": [
    "# calculating the performance of the model\n",
    "score1_100, precision1_100, recall1_100, f11_100, auc1_100 = sup_perf(rclf, Xrb_test1, y_test1)"
   ]
  },
  {
   "cell_type": "markdown",
   "metadata": {},
   "source": [
    "**Creating the second fold**\n",
    "- test set: labelled_edit2\n",
    "- training set: labelled_edit1 & 3"
   ]
  },
  {
   "cell_type": "code",
   "execution_count": 70,
   "metadata": {
    "collapsed": true
   },
   "outputs": [],
   "source": [
    "# creating a more rigour test set, 80% fraud, 20% non-fraud\n",
    "test2_df = test_rigour(labelled_edit2, ok_ratio = 0.2, preprocess=False)"
   ]
  },
  {
   "cell_type": "code",
   "execution_count": 71,
   "metadata": {},
   "outputs": [
    {
     "data": {
      "text/plain": [
       "1    417\n",
       "0     83\n",
       "Name: insp, dtype: int64"
      ]
     },
     "execution_count": 71,
     "metadata": {},
     "output_type": "execute_result"
    }
   ],
   "source": [
    "test2_df.insp.value_counts()"
   ]
  },
  {
   "cell_type": "code",
   "execution_count": 72,
   "metadata": {
    "collapsed": true
   },
   "outputs": [],
   "source": [
    "# defining X_test matrix and y_test\n",
    "X_test2 = test2_df.drop(['insp'], axis=1)\n",
    "y_test2 = test2_df.insp.values"
   ]
  },
  {
   "cell_type": "code",
   "execution_count": 73,
   "metadata": {
    "collapsed": true
   },
   "outputs": [],
   "source": [
    "# creating a training set that composes of 30% rows of labelled_edit1 & 3\n",
    "train2_df = pd.concat([labelled_edit1, labelled_edit3], axis = 0, ignore_index = True)\n",
    "train2_30_df = train2_df.sample(n = int(train2_df.shape[0]*0.3), random_state=1)"
   ]
  },
  {
   "cell_type": "code",
   "execution_count": 74,
   "metadata": {
    "collapsed": true
   },
   "outputs": [],
   "source": [
    "X_train2_30 = train2_30_df.drop(['insp'], axis = 1)\n",
    "y_train2_30 = train2_30_df.insp.values\n",
    "\n",
    "# scale X matrix with RobustScaler\n",
    "Xrb_train2_30 = rb.fit_transform(X_train2_30)\n",
    "\n",
    "Xrb_test2 = rb.transform(X_test2)\n",
    "\n",
    "# SMOTE the training set\n",
    "Xrbs_train2_30, ys_train2_30 = sm.fit_sample(Xrb_train2_30, y_train2_30)"
   ]
  },
  {
   "cell_type": "code",
   "execution_count": 75,
   "metadata": {},
   "outputs": [
    {
     "data": {
      "text/plain": [
       "RandomForestClassifier(bootstrap=True, class_weight=None, criterion='gini',\n",
       "            max_depth=5, max_features='auto', max_leaf_nodes=None,\n",
       "            min_impurity_decrease=0.0, min_impurity_split=None,\n",
       "            min_samples_leaf=1, min_samples_split=2,\n",
       "            min_weight_fraction_leaf=0.0, n_estimators=1000, n_jobs=1,\n",
       "            oob_score=False, random_state=1, verbose=0, warm_start=False)"
      ]
     },
     "execution_count": 75,
     "metadata": {},
     "output_type": "execute_result"
    }
   ],
   "source": [
    "rclf = RandomForestClassifier(n_estimators=1000, max_depth=5, random_state=1)\n",
    "\n",
    "# train 30% of the training set\n",
    "rclf.fit(Xrbs_train2_30, ys_train2_30)"
   ]
  },
  {
   "cell_type": "code",
   "execution_count": 76,
   "metadata": {
    "collapsed": true
   },
   "outputs": [],
   "source": [
    "# calculating the performance of the model\n",
    "score2_30, precision2_30, recall2_30, f12_30, auc2_30 = sup_perf(rclf, Xrb_test2, y_test2)"
   ]
  },
  {
   "cell_type": "code",
   "execution_count": 77,
   "metadata": {},
   "outputs": [
    {
     "data": {
      "text/plain": [
       "RandomForestClassifier(bootstrap=True, class_weight=None, criterion='gini',\n",
       "            max_depth=5, max_features='auto', max_leaf_nodes=None,\n",
       "            min_impurity_decrease=0.0, min_impurity_split=None,\n",
       "            min_samples_leaf=1, min_samples_split=2,\n",
       "            min_weight_fraction_leaf=0.0, n_estimators=1000, n_jobs=1,\n",
       "            oob_score=False, random_state=1, verbose=0, warm_start=False)"
      ]
     },
     "execution_count": 77,
     "metadata": {},
     "output_type": "execute_result"
    }
   ],
   "source": [
    "X_train2_100 = train2_df.drop(['insp'], axis =1)\n",
    "y_train2_100 = train2_df.insp.values\n",
    "\n",
    "# scale X matrix with RobustScaler\n",
    "Xrb_train2_100 = rb.fit_transform(X_train2_100)\n",
    "\n",
    "Xrb_test2 = rb.transform(X_test2)\n",
    "\n",
    "# SMOTE the training set\n",
    "Xrbs_train2_100, ys_train2_100 = sm.fit_sample(Xrb_train2_100, y_train2_100)\n",
    "\n",
    "# train 100% of the training set\n",
    "rclf.fit(Xrbs_train2_100, ys_train2_100)"
   ]
  },
  {
   "cell_type": "code",
   "execution_count": 78,
   "metadata": {
    "collapsed": true
   },
   "outputs": [],
   "source": [
    "# calculating the performance of the model\n",
    "score2_100, precision2_100, recall2_100, f12_100, auc2_100 = sup_perf(rclf, Xrb_test2, y_test2)"
   ]
  },
  {
   "cell_type": "markdown",
   "metadata": {},
   "source": [
    "**Creating the third fold**\n",
    "- test set: labelled_edit3\n",
    "- training set: labelled_edit1 & 2"
   ]
  },
  {
   "cell_type": "code",
   "execution_count": 79,
   "metadata": {
    "collapsed": true
   },
   "outputs": [],
   "source": [
    "# creating a more rigour test set, 80% fraud, 20% non-fraud\n",
    "test3_df = test_rigour(labelled_edit3, ok_ratio = 0.2, preprocess=False)"
   ]
  },
  {
   "cell_type": "code",
   "execution_count": 80,
   "metadata": {},
   "outputs": [
    {
     "data": {
      "text/plain": [
       "1    442\n",
       "0     88\n",
       "Name: insp, dtype: int64"
      ]
     },
     "execution_count": 80,
     "metadata": {},
     "output_type": "execute_result"
    }
   ],
   "source": [
    "test3_df.insp.value_counts()"
   ]
  },
  {
   "cell_type": "code",
   "execution_count": 81,
   "metadata": {
    "collapsed": true
   },
   "outputs": [],
   "source": [
    "# defining X_test matrix and y_test\n",
    "X_test3 = test3_df.drop(['insp'], axis=1)\n",
    "y_test3 = test3_df.insp.values"
   ]
  },
  {
   "cell_type": "code",
   "execution_count": 82,
   "metadata": {
    "collapsed": true
   },
   "outputs": [],
   "source": [
    "# creating a training set that composes of only 30% of labelled_edit1 & 2\n",
    "train3_df = pd.concat([labelled_edit1, labelled_edit2], axis = 0, ignore_index = True)\n",
    "train3_30_df = train3_df.sample(n = int(train3_df.shape[0]*0.3), random_state=1)"
   ]
  },
  {
   "cell_type": "code",
   "execution_count": 83,
   "metadata": {
    "collapsed": true
   },
   "outputs": [],
   "source": [
    "X_train3_30 = train3_30_df.drop(['insp'], axis = 1)\n",
    "y_train3_30 = train3_30_df.insp.values\n",
    "\n",
    "# scale X matrix with RobustScaler\n",
    "Xrb_train3_30 = rb.fit_transform(X_train3_30)\n",
    "\n",
    "Xrb_test3 = rb.transform(X_test3)\n",
    "\n",
    "# SMOTE the training set\n",
    "Xrbs_train3_30, ys_train3_30 = sm.fit_sample(Xrb_train3_30, y_train3_30)"
   ]
  },
  {
   "cell_type": "code",
   "execution_count": 84,
   "metadata": {
    "scrolled": true
   },
   "outputs": [
    {
     "data": {
      "text/plain": [
       "RandomForestClassifier(bootstrap=True, class_weight=None, criterion='gini',\n",
       "            max_depth=5, max_features='auto', max_leaf_nodes=None,\n",
       "            min_impurity_decrease=0.0, min_impurity_split=None,\n",
       "            min_samples_leaf=1, min_samples_split=2,\n",
       "            min_weight_fraction_leaf=0.0, n_estimators=1000, n_jobs=1,\n",
       "            oob_score=False, random_state=1, verbose=0, warm_start=False)"
      ]
     },
     "execution_count": 84,
     "metadata": {},
     "output_type": "execute_result"
    }
   ],
   "source": [
    "rclf = RandomForestClassifier(n_estimators=1000, max_depth=5, random_state=1)\n",
    "\n",
    "# train 30% of the training set\n",
    "rclf.fit(Xrb_train3_30, y_train3_30)"
   ]
  },
  {
   "cell_type": "code",
   "execution_count": 85,
   "metadata": {
    "collapsed": true
   },
   "outputs": [],
   "source": [
    "# calculating the performance of the model\n",
    "score3_30, precision3_30, recall3_30, f13_30, auc3_30 = sup_perf(rclf, Xrb_test3, y_test3)"
   ]
  },
  {
   "cell_type": "code",
   "execution_count": 86,
   "metadata": {},
   "outputs": [
    {
     "data": {
      "text/plain": [
       "RandomForestClassifier(bootstrap=True, class_weight=None, criterion='gini',\n",
       "            max_depth=5, max_features='auto', max_leaf_nodes=None,\n",
       "            min_impurity_decrease=0.0, min_impurity_split=None,\n",
       "            min_samples_leaf=1, min_samples_split=2,\n",
       "            min_weight_fraction_leaf=0.0, n_estimators=1000, n_jobs=1,\n",
       "            oob_score=False, random_state=1, verbose=0, warm_start=False)"
      ]
     },
     "execution_count": 86,
     "metadata": {},
     "output_type": "execute_result"
    }
   ],
   "source": [
    "X_train3_100 = train3_df.drop(['insp'], axis =1)\n",
    "y_train3_100 = train3_df.insp.values\n",
    "\n",
    "# scale X matrix with RobustScaler\n",
    "Xrb_train3_100 = rb.fit_transform(X_train3_100)\n",
    "\n",
    "Xrb_test3 = rb.transform(X_test3)\n",
    "\n",
    "# SMOTE the training set\n",
    "Xrbs_train3_100, ys_train3_100 = sm.fit_sample(Xrb_train3_100, y_train3_100)\n",
    "\n",
    "# train 100% of the training set\n",
    "rclf.fit(Xrbs_train3_100, ys_train3_100)"
   ]
  },
  {
   "cell_type": "code",
   "execution_count": 87,
   "metadata": {
    "collapsed": true
   },
   "outputs": [],
   "source": [
    "# calculating the performance of the model\n",
    "score3_100, precision3_100, recall3_100, f13_100, auc3_100 = sup_perf(rclf, Xrb_test3, y_test3)"
   ]
  },
  {
   "cell_type": "code",
   "execution_count": 88,
   "metadata": {
    "collapsed": true
   },
   "outputs": [],
   "source": [
    "f1_30 = np.mean([f11_30, f12_30, f13_30])\n",
    "f1_100 = np.mean([f11_100, f12_100, f13_100])\n",
    "\n",
    "precision_30 = np.mean([precision1_30, precision2_30, precision3_30])\n",
    "precision_100 = np.mean([precision1_100, precision2_100, precision3_100])\n",
    "\n",
    "recall_30 = np.mean([recall1_30, recall2_30, recall3_30])\n",
    "recall_100 = np.mean([recall1_100, recall2_100, recall3_100])\n",
    "\n",
    "score_30 = np.mean([score1_30, score2_30, score3_30])\n",
    "score_100 = np.mean([score1_100, score2_100, score3_100])"
   ]
  },
  {
   "cell_type": "code",
   "execution_count": 89,
   "metadata": {},
   "outputs": [
    {
     "data": {
      "text/html": [
       "<div>\n",
       "<style>\n",
       "    .dataframe thead tr:only-child th {\n",
       "        text-align: right;\n",
       "    }\n",
       "\n",
       "    .dataframe thead th {\n",
       "        text-align: left;\n",
       "    }\n",
       "\n",
       "    .dataframe tbody tr th {\n",
       "        vertical-align: top;\n",
       "    }\n",
       "</style>\n",
       "<table border=\"1\" class=\"dataframe\">\n",
       "  <thead>\n",
       "    <tr style=\"text-align: right;\">\n",
       "      <th></th>\n",
       "      <th>30% train set</th>\n",
       "      <th>100% train set</th>\n",
       "      <th>difference</th>\n",
       "    </tr>\n",
       "  </thead>\n",
       "  <tbody>\n",
       "    <tr>\n",
       "      <th>model score</th>\n",
       "      <td>0.725856</td>\n",
       "      <td>0.838760</td>\n",
       "      <td>0.112905</td>\n",
       "    </tr>\n",
       "    <tr>\n",
       "      <th>precision score</th>\n",
       "      <td>0.989979</td>\n",
       "      <td>0.990336</td>\n",
       "      <td>0.000356</td>\n",
       "    </tr>\n",
       "    <tr>\n",
       "      <th>recall score</th>\n",
       "      <td>0.679383</td>\n",
       "      <td>0.814615</td>\n",
       "      <td>0.135232</td>\n",
       "    </tr>\n",
       "    <tr>\n",
       "      <th>f1 score</th>\n",
       "      <td>0.790871</td>\n",
       "      <td>0.893695</td>\n",
       "      <td>0.102824</td>\n",
       "    </tr>\n",
       "  </tbody>\n",
       "</table>\n",
       "</div>"
      ],
      "text/plain": [
       "                 30% train set  100% train set  difference\n",
       "model score           0.725856        0.838760    0.112905\n",
       "precision score       0.989979        0.990336    0.000356\n",
       "recall score          0.679383        0.814615    0.135232\n",
       "f1 score              0.790871        0.893695    0.102824"
      ]
     },
     "execution_count": 89,
     "metadata": {},
     "output_type": "execute_result"
    }
   ],
   "source": [
    "summary = pd.DataFrame({'30% train set':[score_30, precision_30, recall_30, f1_30],\n",
    "                       '100% train set':[score_100, precision_100, recall_100, f1_100]},\n",
    "                      index = ['model score','precision score','recall score','f1 score'])\n",
    "summary['difference'] = summary['100% train set'] - summary['30% train set']\n",
    "summary = summary[['30% train set','100% train set','difference']]\n",
    "\n",
    "summary"
   ]
  },
  {
   "cell_type": "markdown",
   "metadata": {},
   "source": [
    "**Conclusion**\n",
    "\n",
    "From the dataframe above, we can see that the model gets better as the training size gets bigger. Intuitively, we can see that a semi-supervised model would outperform both unsupervised and supervised models as it will make use of the unlabelled data to obtain a bigger training set."
   ]
  },
  {
   "cell_type": "markdown",
   "metadata": {},
   "source": [
    "## Part 2\n",
    "*We will be generating models as follows:*\n",
    "\n",
    "1. Supervised models(logisting regression, SVM, random forest)\n",
    "2. Outlier detection model (isolation forest)\n",
    "3. Semi-supervised model (self-training method)"
   ]
  },
  {
   "cell_type": "markdown",
   "metadata": {},
   "source": [
    "## 2.1 Supervised models"
   ]
  },
  {
   "cell_type": "markdown",
   "metadata": {},
   "source": [
    "### 2.1.1 Logistic Regression"
   ]
  },
  {
   "cell_type": "code",
   "execution_count": 90,
   "metadata": {
    "collapsed": true
   },
   "outputs": [],
   "source": [
    "from sklearn.linear_model import LogisticRegression, LogisticRegressionCV"
   ]
  },
  {
   "cell_type": "code",
   "execution_count": 91,
   "metadata": {
    "collapsed": true
   },
   "outputs": [],
   "source": [
    "X = labelled.drop(['insp'], axis = 1)\n",
    "y = labelled.insp.values"
   ]
  },
  {
   "cell_type": "code",
   "execution_count": 92,
   "metadata": {
    "collapsed": true
   },
   "outputs": [],
   "source": [
    "X_train, X_test, y_train, y_test = train_test_split(X, y, test_size = 0.33, random_state = 3, stratify=y)"
   ]
  },
  {
   "cell_type": "code",
   "execution_count": 93,
   "metadata": {
    "collapsed": true
   },
   "outputs": [],
   "source": [
    "Xrb_train = rb.fit_transform(X_train)\n",
    "\n",
    "Xrb_test = rb.transform(X_test)\n",
    "\n",
    "Xrbs_train, ys_train = sm.fit_sample(Xrb_train, y_train)"
   ]
  },
  {
   "cell_type": "code",
   "execution_count": 94,
   "metadata": {
    "collapsed": true,
    "scrolled": true
   },
   "outputs": [],
   "source": [
    "# creating test set 2, where testing is more rigour\n",
    "# I will be undersampling the non-fraud rows to formulate a test set where 80% of it is fraud and 20% of it is non-fraud\n",
    "test_sampled_df = test_rigour(Xrb_test, ok_ratio=0.2, preprocess=True)\n",
    "Xrbr_test = test_sampled_df.drop('insp', axis = 1)\n",
    "yr_test = test_sampled_df.insp.values"
   ]
  },
  {
   "cell_type": "code",
   "execution_count": 95,
   "metadata": {
    "collapsed": true
   },
   "outputs": [],
   "source": [
    "# I have created a test set 3 where 50% of it is fraud and the remaning 50% is non-fraud\n",
    "# reason being, the size of test set 2 is small. As such, it may not have a good representation of non-frauds\n",
    "test_sampled_df2 = test_rigour(Xrb_test, ok_ratio=1, preprocess=True)\n",
    "Xrbsr_test = test_sampled_df2.drop('insp', axis = 1)\n",
    "ysr_test = test_sampled_df2.insp.values"
   ]
  },
  {
   "cell_type": "code",
   "execution_count": 96,
   "metadata": {
    "collapsed": true
   },
   "outputs": [],
   "source": [
    "gs_params = {\n",
    "    'penalty':['l1','l2'],\n",
    "    'solver':['liblinear'],\n",
    "    'C':np.logspace(-5,0,100),\n",
    "    'random_state':[1]\n",
    "}\n",
    "\n",
    "logreg_gs = GridSearchCV(LogisticRegression(), gs_params, cv=5, verbose=1, n_jobs=-1)"
   ]
  },
  {
   "cell_type": "code",
   "execution_count": 172,
   "metadata": {
    "scrolled": true
   },
   "outputs": [
    {
     "name": "stdout",
     "output_type": "stream",
     "text": [
      "Fitting 5 folds for each of 200 candidates, totalling 1000 fits\n"
     ]
    },
    {
     "name": "stderr",
     "output_type": "stream",
     "text": [
      "[Parallel(n_jobs=-1)]: Done 180 tasks      | elapsed:    1.9s\n",
      "[Parallel(n_jobs=-1)]: Done 972 tasks      | elapsed:   23.1s\n",
      "[Parallel(n_jobs=-1)]: Done 993 out of 1000 | elapsed:   23.8s remaining:    0.2s\n",
      "[Parallel(n_jobs=-1)]: Done 1000 out of 1000 | elapsed:   24.0s finished\n"
     ]
    },
    {
     "data": {
      "text/plain": [
       "GridSearchCV(cv=5, error_score='raise',\n",
       "       estimator=LogisticRegression(C=1.0, class_weight=None, dual=False, fit_intercept=True,\n",
       "          intercept_scaling=1, max_iter=100, multi_class='ovr', n_jobs=1,\n",
       "          penalty='l2', random_state=None, solver='liblinear', tol=0.0001,\n",
       "          verbose=0, warm_start=False),\n",
       "       fit_params=None, iid=True, n_jobs=-1,\n",
       "       param_grid={'penalty': ['l1', 'l2'], 'C': array([  1.00000e-05,   1.12332e-05, ...,   8.90215e-01,   1.00000e+00]), 'random_state': [1], 'solver': ['liblinear']},\n",
       "       pre_dispatch='2*n_jobs', refit=True, return_train_score=True,\n",
       "       scoring=None, verbose=1)"
      ]
     },
     "execution_count": 172,
     "metadata": {},
     "output_type": "execute_result"
    }
   ],
   "source": [
    "logreg_gs.fit(Xrbs_train, ys_train)"
   ]
  },
  {
   "cell_type": "code",
   "execution_count": 173,
   "metadata": {},
   "outputs": [
    {
     "data": {
      "text/plain": [
       "LogisticRegression(C=0.0095454845666183372, class_weight=None, dual=False,\n",
       "          fit_intercept=True, intercept_scaling=1, max_iter=100,\n",
       "          multi_class='ovr', n_jobs=1, penalty='l2', random_state=1,\n",
       "          solver='liblinear', tol=0.0001, verbose=0, warm_start=False)"
      ]
     },
     "execution_count": 173,
     "metadata": {},
     "output_type": "execute_result"
    }
   ],
   "source": [
    "logreg_gs.best_estimator_"
   ]
  },
  {
   "cell_type": "code",
   "execution_count": 174,
   "metadata": {
    "collapsed": true
   },
   "outputs": [],
   "source": [
    "logreg_best = logreg_gs.best_estimator_"
   ]
  },
  {
   "cell_type": "code",
   "execution_count": 390,
   "metadata": {
    "scrolled": false
   },
   "outputs": [
    {
     "data": {
      "text/plain": [
       "['logreg-gs.pkl']"
      ]
     },
     "execution_count": 390,
     "metadata": {},
     "output_type": "execute_result"
    }
   ],
   "source": [
    "joblib.dump(logreg_best, './pickle/logreg-gs.pkl')"
   ]
  },
  {
   "cell_type": "code",
   "execution_count": 5,
   "metadata": {},
   "outputs": [],
   "source": [
    "logreg_best = joblib.load(open('./pickle/logreg-gs.pkl', 'rb'))"
   ]
  },
  {
   "cell_type": "code",
   "execution_count": 98,
   "metadata": {
    "collapsed": true,
    "scrolled": true
   },
   "outputs": [],
   "source": [
    "logreg_best_score, logreg_best_precision, logreg_best_recall, logreg_best_f1, logreg_best_auc = \\\n",
    "sup_perf(logreg_best, Xrb_test, y_test)"
   ]
  },
  {
   "cell_type": "code",
   "execution_count": 99,
   "metadata": {
    "collapsed": true
   },
   "outputs": [],
   "source": [
    "logreg_best_score_r, logreg_best_precision_r, logreg_best_recall_r, logreg_best_f1_r, logreg_best_auc_r = \\\n",
    "sup_perf(logreg_best, Xrbr_test, yr_test)"
   ]
  },
  {
   "cell_type": "code",
   "execution_count": 100,
   "metadata": {
    "collapsed": true
   },
   "outputs": [],
   "source": [
    "logreg_best_score_sr, logreg_best_precision_sr, logreg_best_recall_sr, logreg_best_f1_sr, logreg_best_auc_sr = \\\n",
    "sup_perf(logreg_best, Xrbsr_test, ysr_test)"
   ]
  },
  {
   "cell_type": "markdown",
   "metadata": {},
   "source": [
    "### 2.1.2 SVM"
   ]
  },
  {
   "cell_type": "code",
   "execution_count": 101,
   "metadata": {
    "collapsed": true
   },
   "outputs": [],
   "source": [
    "from sklearn.svm import SVC"
   ]
  },
  {
   "cell_type": "code",
   "execution_count": 102,
   "metadata": {
    "collapsed": true
   },
   "outputs": [],
   "source": [
    "svm_norm= SVC(probability=False, random_state = 2)"
   ]
  },
  {
   "cell_type": "code",
   "execution_count": 103,
   "metadata": {},
   "outputs": [
    {
     "data": {
      "text/plain": [
       "SVC(C=1.0, cache_size=200, class_weight=None, coef0=0.0,\n",
       "  decision_function_shape='ovr', degree=3, gamma='auto', kernel='rbf',\n",
       "  max_iter=-1, probability=False, random_state=2, shrinking=True,\n",
       "  tol=0.001, verbose=False)"
      ]
     },
     "execution_count": 103,
     "metadata": {},
     "output_type": "execute_result"
    }
   ],
   "source": [
    "svm_norm.fit(Xrbs_train, ys_train)"
   ]
  },
  {
   "cell_type": "code",
   "execution_count": 104,
   "metadata": {
    "collapsed": true
   },
   "outputs": [],
   "source": [
    "svm_norm_score, svm_norm_precision, svm_norm_recall, svm_norm_f1, svm_norm_auc = \\\n",
    "sup_perf(svm_norm, Xrb_test, y_test)"
   ]
  },
  {
   "cell_type": "code",
   "execution_count": 105,
   "metadata": {
    "collapsed": true
   },
   "outputs": [],
   "source": [
    "svm_norm_score_sr, svm_norm_precision_sr, svm_norm_recall_sr, svm_norm_f1_sr, svm_norm_auc_sr = \\\n",
    "sup_perf(svm_norm, Xrbsr_test, ysr_test)"
   ]
  },
  {
   "cell_type": "code",
   "execution_count": 106,
   "metadata": {
    "collapsed": true
   },
   "outputs": [],
   "source": [
    "svm_norm_score_r, svm_norm_precision_r, svm_norm_recall_r, svm_norm_f1_r, svm_norm_auc_r = \\\n",
    "sup_perf(svm_norm, Xrbr_test, yr_test)"
   ]
  },
  {
   "cell_type": "code",
   "execution_count": 107,
   "metadata": {},
   "outputs": [
    {
     "data": {
      "text/plain": [
       "SVC(C=1.0, cache_size=200, class_weight=None, coef0=0.0,\n",
       "  decision_function_shape='ovr', degree=3, gamma='auto', kernel='linear',\n",
       "  max_iter=-1, probability=False, random_state=2, shrinking=True,\n",
       "  tol=0.001, verbose=False)"
      ]
     },
     "execution_count": 107,
     "metadata": {},
     "output_type": "execute_result"
    }
   ],
   "source": [
    "svm= SVC(kernel = 'linear', probability=False, random_state = 2)\n",
    "svm.fit(Xrbs_train, ys_train)"
   ]
  },
  {
   "cell_type": "code",
   "execution_count": 108,
   "metadata": {
    "collapsed": true
   },
   "outputs": [],
   "source": [
    "svm_score, svm_precision, svm_recall, svm_f1, svm_auc = sup_perf(svm, Xrb_test, y_test)"
   ]
  },
  {
   "cell_type": "code",
   "execution_count": 109,
   "metadata": {
    "collapsed": true
   },
   "outputs": [],
   "source": [
    "svm_score_sr, svm_precision_sr, svm_recall_sr, svm_f1_sr, svm_auc_sr = sup_perf(svm, Xrbsr_test, ysr_test)"
   ]
  },
  {
   "cell_type": "code",
   "execution_count": 110,
   "metadata": {
    "collapsed": true
   },
   "outputs": [],
   "source": [
    "svm_score_r, svm_precision_r, svm_recall_r, svm_f1_r, svm_auc_r = sup_perf(svm, Xrbr_test, yr_test)"
   ]
  },
  {
   "cell_type": "code",
   "execution_count": 111,
   "metadata": {},
   "outputs": [
    {
     "data": {
      "text/html": [
       "<div>\n",
       "<style>\n",
       "    .dataframe thead tr:only-child th {\n",
       "        text-align: right;\n",
       "    }\n",
       "\n",
       "    .dataframe thead th {\n",
       "        text-align: left;\n",
       "    }\n",
       "\n",
       "    .dataframe tbody tr th {\n",
       "        vertical-align: top;\n",
       "    }\n",
       "</style>\n",
       "<table border=\"1\" class=\"dataframe\">\n",
       "  <thead>\n",
       "    <tr style=\"text-align: right;\">\n",
       "      <th></th>\n",
       "      <th>svm_linear</th>\n",
       "      <th>svm_rbf</th>\n",
       "    </tr>\n",
       "  </thead>\n",
       "  <tbody>\n",
       "    <tr>\n",
       "      <th>accuracy score</th>\n",
       "      <td>0.718304</td>\n",
       "      <td>0.923892</td>\n",
       "    </tr>\n",
       "    <tr>\n",
       "      <th>precision</th>\n",
       "      <td>0.158377</td>\n",
       "      <td>0.517293</td>\n",
       "    </tr>\n",
       "    <tr>\n",
       "      <th>recall</th>\n",
       "      <td>0.578947</td>\n",
       "      <td>0.822967</td>\n",
       "    </tr>\n",
       "    <tr>\n",
       "      <th>f1</th>\n",
       "      <td>0.248715</td>\n",
       "      <td>0.635272</td>\n",
       "    </tr>\n",
       "    <tr>\n",
       "      <th>auc</th>\n",
       "      <td>0.654729</td>\n",
       "      <td>0.877850</td>\n",
       "    </tr>\n",
       "  </tbody>\n",
       "</table>\n",
       "</div>"
      ],
      "text/plain": [
       "                svm_linear   svm_rbf\n",
       "accuracy score    0.718304  0.923892\n",
       "precision         0.158377  0.517293\n",
       "recall            0.578947  0.822967\n",
       "f1                0.248715  0.635272\n",
       "auc               0.654729  0.877850"
      ]
     },
     "execution_count": 111,
     "metadata": {},
     "output_type": "execute_result"
    }
   ],
   "source": [
    "svm_compare = pd.DataFrame({\n",
    "    'svm_rbf':[svm_norm_score, svm_norm_precision, svm_norm_recall, svm_norm_f1, svm_norm_auc],\n",
    "    'svm_linear':[svm_score, svm_precision, svm_recall, svm_f1, svm_auc]},\n",
    "    index = ['accuracy score','precision','recall','f1','auc'])\n",
    "svm_compare"
   ]
  },
  {
   "cell_type": "markdown",
   "metadata": {},
   "source": [
    "We can see that the rbf kernel gives a better result, we shall continue to conduct a gridsearchcv using rbf kernel to optimise the hyperparameters."
   ]
  },
  {
   "cell_type": "code",
   "execution_count": 112,
   "metadata": {
    "collapsed": true
   },
   "outputs": [],
   "source": [
    "gs_params ={\n",
    "    'kernel': ['rbf'],\n",
    "    'C': np.logspace(0,5,20),\n",
    "    'gamma': np.logspace(-1,1,20),\n",
    "    'random_state':[1]\n",
    "}\n",
    "\n",
    "svm_gs = GridSearchCV(SVC(), gs_params, n_jobs = -1, verbose = 1, cv = 5)                  "
   ]
  },
  {
   "cell_type": "code",
   "execution_count": 152,
   "metadata": {
    "scrolled": true
   },
   "outputs": [
    {
     "name": "stdout",
     "output_type": "stream",
     "text": [
      "Fitting 5 folds for each of 400 candidates, totalling 2000 fits\n"
     ]
    },
    {
     "name": "stderr",
     "output_type": "stream",
     "text": [
      "[Parallel(n_jobs=-1)]: Done  42 tasks      | elapsed:  1.5min\n",
      "[Parallel(n_jobs=-1)]: Done 192 tasks      | elapsed:  9.4min\n",
      "[Parallel(n_jobs=-1)]: Done 442 tasks      | elapsed: 22.0min\n",
      "[Parallel(n_jobs=-1)]: Done 792 tasks      | elapsed: 42.2min\n",
      "[Parallel(n_jobs=-1)]: Done 1242 tasks      | elapsed: 83.4min\n",
      "[Parallel(n_jobs=-1)]: Done 1792 tasks      | elapsed: 311.0min\n",
      "[Parallel(n_jobs=-1)]: Done 2000 out of 2000 | elapsed: 724.4min finished\n"
     ]
    },
    {
     "data": {
      "text/plain": [
       "GridSearchCV(cv=5, error_score='raise',\n",
       "       estimator=SVC(C=1.0, cache_size=200, class_weight=None, coef0=0.0,\n",
       "  decision_function_shape='ovr', degree=3, gamma='auto', kernel='rbf',\n",
       "  max_iter=-1, probability=False, random_state=None, shrinking=True,\n",
       "  tol=0.001, verbose=False),\n",
       "       fit_params=None, iid=True, n_jobs=-1,\n",
       "       param_grid={'kernel': ['rbf'], 'C': array([  1.00000e+00,   1.83298e+00,   3.35982e+00,   6.15848e+00,\n",
       "         1.12884e+01,   2.06914e+01,   3.79269e+01,   6.95193e+01,\n",
       "         1.27427e+02,   2.33572e+02,   4.28133e+02,   7.84760e+02,\n",
       "         1.43845e+03,   2.63665e+03,   4.83293e+03,   8.85867e+...      1.83298,   2.33572,   2.97635,   3.79269,   4.83293,   6.15848,\n",
       "         7.8476 ,  10.     ])},\n",
       "       pre_dispatch='2*n_jobs', refit=True, return_train_score=True,\n",
       "       scoring=None, verbose=1)"
      ]
     },
     "execution_count": 152,
     "metadata": {},
     "output_type": "execute_result"
    }
   ],
   "source": [
    "svm_gs.fit(Xrbs_train, ys_train)"
   ]
  },
  {
   "cell_type": "code",
   "execution_count": 154,
   "metadata": {
    "collapsed": true
   },
   "outputs": [],
   "source": [
    "svm_best = svm_gs.best_estimator_"
   ]
  },
  {
   "cell_type": "code",
   "execution_count": 153,
   "metadata": {},
   "outputs": [
    {
     "data": {
      "text/plain": [
       "SVC(C=127.42749857031335, cache_size=200, class_weight=None, coef0=0.0,\n",
       "  decision_function_shape='ovr', degree=3, gamma=1.8329807108324356,\n",
       "  kernel='rbf', max_iter=-1, probability=False, random_state=1,\n",
       "  shrinking=True, tol=0.001, verbose=False)"
      ]
     },
     "execution_count": 153,
     "metadata": {},
     "output_type": "execute_result"
    }
   ],
   "source": [
    "svm_gs.best_estimator_"
   ]
  },
  {
   "cell_type": "code",
   "execution_count": 155,
   "metadata": {},
   "outputs": [
    {
     "data": {
      "text/plain": [
       "['svm-gs.pkl']"
      ]
     },
     "execution_count": 155,
     "metadata": {},
     "output_type": "execute_result"
    }
   ],
   "source": [
    "joblib.dump(svm_best, './pickle/svm-gs.pkl')"
   ]
  },
  {
   "cell_type": "code",
   "execution_count": 7,
   "metadata": {},
   "outputs": [],
   "source": [
    "svm_best = joblib.load(open('./pickle/svm-gs.pkl', 'rb'))"
   ]
  },
  {
   "cell_type": "code",
   "execution_count": 114,
   "metadata": {
    "collapsed": true
   },
   "outputs": [],
   "source": [
    "svm_best_score, svm_best_precision, svm_best_recall, svm_best_f1, svm_best_auc = \\\n",
    "sup_perf(svm_best, Xrb_test, y_test)"
   ]
  },
  {
   "cell_type": "code",
   "execution_count": 115,
   "metadata": {
    "collapsed": true
   },
   "outputs": [],
   "source": [
    "svm_best_score_r, svm_best_precision_r, svm_best_recall_r, svm_best_f1_r, svm_best_auc_r = \\\n",
    "sup_perf(svm_best, Xrbr_test, yr_test)"
   ]
  },
  {
   "cell_type": "code",
   "execution_count": 116,
   "metadata": {
    "collapsed": true
   },
   "outputs": [],
   "source": [
    "svm_best_score_sr, svm_best_precision_sr, svm_best_recall_sr, svm_best_f1_sr, svm_best_auc_sr = \\\n",
    "sup_perf(svm_best, Xrbsr_test, ysr_test)"
   ]
  },
  {
   "cell_type": "markdown",
   "metadata": {},
   "source": [
    "### 2.1.3 Random Forest"
   ]
  },
  {
   "cell_type": "code",
   "execution_count": 117,
   "metadata": {
    "collapsed": true
   },
   "outputs": [],
   "source": [
    "rclf_norm = RandomForestClassifier(random_state = 1, n_estimators=1000, max_depth = 5)"
   ]
  },
  {
   "cell_type": "code",
   "execution_count": 118,
   "metadata": {},
   "outputs": [
    {
     "data": {
      "text/plain": [
       "RandomForestClassifier(bootstrap=True, class_weight=None, criterion='gini',\n",
       "            max_depth=5, max_features='auto', max_leaf_nodes=None,\n",
       "            min_impurity_decrease=0.0, min_impurity_split=None,\n",
       "            min_samples_leaf=1, min_samples_split=2,\n",
       "            min_weight_fraction_leaf=0.0, n_estimators=1000, n_jobs=1,\n",
       "            oob_score=False, random_state=1, verbose=0, warm_start=False)"
      ]
     },
     "execution_count": 118,
     "metadata": {},
     "output_type": "execute_result"
    }
   ],
   "source": [
    "rclf_norm.fit(Xrbs_train, ys_train)"
   ]
  },
  {
   "cell_type": "code",
   "execution_count": 119,
   "metadata": {
    "collapsed": true
   },
   "outputs": [],
   "source": [
    "rclf_norm_score, rclf_norm_precision, rclf_norm_recall, rclf_norm_f1, rclf_norm_auc = \\\n",
    "sup_perf(rclf_norm, Xrb_test, y_test)"
   ]
  },
  {
   "cell_type": "code",
   "execution_count": 120,
   "metadata": {
    "collapsed": true
   },
   "outputs": [],
   "source": [
    "rclf_norm_score_r, rclf_norm_precision_r, rclf_norm_recall_r, rclf_norm_f1_r, rclf_norm_auc_r = \\\n",
    "sup_perf(rclf_norm, Xrbr_test, yr_test)"
   ]
  },
  {
   "cell_type": "code",
   "execution_count": 121,
   "metadata": {
    "collapsed": true
   },
   "outputs": [],
   "source": [
    "rclf_norm_score_sr, rclf_norm_precision_sr, rclf_norm_recall_sr, rclf_norm_f1_sr, rclf_norm_auc_sr = \\\n",
    "sup_perf(rclf_norm, Xrbsr_test, ysr_test)"
   ]
  },
  {
   "cell_type": "code",
   "execution_count": 122,
   "metadata": {
    "collapsed": true
   },
   "outputs": [],
   "source": [
    "gs_params ={\n",
    "    'criterion': ['gini','entropy'],\n",
    "    'max_depth': [None,1,5,10,15],\n",
    "    'max_features': ['auto',3,5,7],\n",
    "    'n_estimators':[1000],\n",
    "    'random_state':[1]\n",
    "}\n",
    "\n",
    "rclf_gs = GridSearchCV(RandomForestClassifier(), gs_params, n_jobs = -1, verbose = 1, cv = 5)                  "
   ]
  },
  {
   "cell_type": "code",
   "execution_count": 116,
   "metadata": {
    "scrolled": true
   },
   "outputs": [
    {
     "name": "stdout",
     "output_type": "stream",
     "text": [
      "Fitting 5 folds for each of 40 candidates, totalling 200 fits\n"
     ]
    },
    {
     "name": "stderr",
     "output_type": "stream",
     "text": [
      "[Parallel(n_jobs=-1)]: Done  42 tasks      | elapsed:  6.3min\n",
      "[Parallel(n_jobs=-1)]: Done 192 tasks      | elapsed: 36.4min\n",
      "[Parallel(n_jobs=-1)]: Done 200 out of 200 | elapsed: 39.3min finished\n"
     ]
    },
    {
     "data": {
      "text/plain": [
       "GridSearchCV(cv=5, error_score='raise',\n",
       "       estimator=RandomForestClassifier(bootstrap=True, class_weight=None, criterion='gini',\n",
       "            max_depth=None, max_features='auto', max_leaf_nodes=None,\n",
       "            min_impurity_decrease=0.0, min_impurity_split=None,\n",
       "            min_samples_leaf=1, min_samples_split=2,\n",
       "            min_weight_fraction_leaf=0.0, n_estimators=10, n_jobs=1,\n",
       "            oob_score=False, random_state=None, verbose=0,\n",
       "            warm_start=False),\n",
       "       fit_params=None, iid=True, n_jobs=-1,\n",
       "       param_grid={'max_features': ['auto', 3, 5, 7], 'n_estimators': [1000], 'random_state': [1], 'criterion': ['gini', 'entropy'], 'max_depth': [None, 1, 5, 10, 15]},\n",
       "       pre_dispatch='2*n_jobs', refit=True, return_train_score=True,\n",
       "       scoring=None, verbose=1)"
      ]
     },
     "execution_count": 116,
     "metadata": {},
     "output_type": "execute_result"
    }
   ],
   "source": [
    "rclf_gs.fit(Xrbs_train, ys_train)"
   ]
  },
  {
   "cell_type": "code",
   "execution_count": 117,
   "metadata": {
    "collapsed": true
   },
   "outputs": [],
   "source": [
    "rclf_best = rclf_gs.best_estimator_"
   ]
  },
  {
   "cell_type": "code",
   "execution_count": 118,
   "metadata": {},
   "outputs": [
    {
     "data": {
      "text/plain": [
       "RandomForestClassifier(bootstrap=True, class_weight=None, criterion='entropy',\n",
       "            max_depth=None, max_features='auto', max_leaf_nodes=None,\n",
       "            min_impurity_decrease=0.0, min_impurity_split=None,\n",
       "            min_samples_leaf=1, min_samples_split=2,\n",
       "            min_weight_fraction_leaf=0.0, n_estimators=1000, n_jobs=1,\n",
       "            oob_score=False, random_state=1, verbose=0, warm_start=False)"
      ]
     },
     "execution_count": 118,
     "metadata": {},
     "output_type": "execute_result"
    }
   ],
   "source": [
    "rclf_gs.best_estimator_"
   ]
  },
  {
   "cell_type": "code",
   "execution_count": 119,
   "metadata": {},
   "outputs": [
    {
     "data": {
      "text/plain": [
       "['rclf-gs.pkl']"
      ]
     },
     "execution_count": 119,
     "metadata": {},
     "output_type": "execute_result"
    }
   ],
   "source": [
    "joblib.dump(rclf_best, './pickle/rclf-gs.pkl')"
   ]
  },
  {
   "cell_type": "code",
   "execution_count": 123,
   "metadata": {
    "collapsed": true
   },
   "outputs": [],
   "source": [
    "rclf_best = joblib.load(open('./pickle/rclf-gs.pkl', 'rb'))"
   ]
  },
  {
   "cell_type": "code",
   "execution_count": 124,
   "metadata": {
    "collapsed": true
   },
   "outputs": [],
   "source": [
    "rclf_best_score, rclf_best_precision, rclf_best_recall, rclf_best_f1, rclf_best_auc = \\\n",
    "sup_perf(rclf_best, Xrb_test, y_test)"
   ]
  },
  {
   "cell_type": "code",
   "execution_count": 125,
   "metadata": {
    "collapsed": true
   },
   "outputs": [],
   "source": [
    "rclf_best_score_r, rclf_best_precision_r, rclf_best_recall_r, rclf_best_f1_r, rclf_best_auc_r = \\\n",
    "sup_perf(rclf_best, Xrbr_test, yr_test)"
   ]
  },
  {
   "cell_type": "code",
   "execution_count": 126,
   "metadata": {
    "collapsed": true
   },
   "outputs": [],
   "source": [
    "rclf_best_score_sr, rclf_best_precision_sr, rclf_best_recall_sr, rclf_best_f1_sr, rclf_best_auc_sr = \\\n",
    "sup_perf(rclf_best, Xrbsr_test, ysr_test)"
   ]
  },
  {
   "cell_type": "code",
   "execution_count": 127,
   "metadata": {},
   "outputs": [
    {
     "name": "stdout",
     "output_type": "stream",
     "text": [
      "size of test set 1: 5190\n"
     ]
    },
    {
     "data": {
      "text/html": [
       "<div>\n",
       "<style>\n",
       "    .dataframe thead tr:only-child th {\n",
       "        text-align: right;\n",
       "    }\n",
       "\n",
       "    .dataframe thead th {\n",
       "        text-align: left;\n",
       "    }\n",
       "\n",
       "    .dataframe tbody tr th {\n",
       "        vertical-align: top;\n",
       "    }\n",
       "</style>\n",
       "<table border=\"1\" class=\"dataframe\">\n",
       "  <thead>\n",
       "    <tr style=\"text-align: right;\">\n",
       "      <th></th>\n",
       "      <th>logistic regression (gs)</th>\n",
       "      <th>svm (normal)</th>\n",
       "      <th>svm (gs)</th>\n",
       "      <th>random forest clf (normal)</th>\n",
       "      <th>random forest clf (gs)</th>\n",
       "    </tr>\n",
       "  </thead>\n",
       "  <tbody>\n",
       "    <tr>\n",
       "      <th>accuracy score</th>\n",
       "      <td>0.734104</td>\n",
       "      <td>0.923892</td>\n",
       "      <td>0.936224</td>\n",
       "      <td>0.940462</td>\n",
       "      <td>0.973025</td>\n",
       "    </tr>\n",
       "    <tr>\n",
       "      <th>precision score (fraud)</th>\n",
       "      <td>0.167358</td>\n",
       "      <td>0.517293</td>\n",
       "      <td>0.575130</td>\n",
       "      <td>0.595113</td>\n",
       "      <td>0.808889</td>\n",
       "    </tr>\n",
       "    <tr>\n",
       "      <th>recall score (fraud)</th>\n",
       "      <td>0.578947</td>\n",
       "      <td>0.822967</td>\n",
       "      <td>0.796651</td>\n",
       "      <td>0.815789</td>\n",
       "      <td>0.870813</td>\n",
       "    </tr>\n",
       "    <tr>\n",
       "      <th>f1 score (fraud)</th>\n",
       "      <td>0.259657</td>\n",
       "      <td>0.635272</td>\n",
       "      <td>0.668004</td>\n",
       "      <td>0.688194</td>\n",
       "      <td>0.838710</td>\n",
       "    </tr>\n",
       "    <tr>\n",
       "      <th>auc score (unweighted mean)</th>\n",
       "      <td>0.663321</td>\n",
       "      <td>0.877850</td>\n",
       "      <td>0.872550</td>\n",
       "      <td>0.883586</td>\n",
       "      <td>0.926396</td>\n",
       "    </tr>\n",
       "  </tbody>\n",
       "</table>\n",
       "</div>"
      ],
      "text/plain": [
       "                             logistic regression (gs)  svm (normal)  svm (gs)  \\\n",
       "accuracy score                               0.734104      0.923892  0.936224   \n",
       "precision score (fraud)                      0.167358      0.517293  0.575130   \n",
       "recall score (fraud)                         0.578947      0.822967  0.796651   \n",
       "f1 score (fraud)                             0.259657      0.635272  0.668004   \n",
       "auc score (unweighted mean)                  0.663321      0.877850  0.872550   \n",
       "\n",
       "                             random forest clf (normal)  \\\n",
       "accuracy score                                 0.940462   \n",
       "precision score (fraud)                        0.595113   \n",
       "recall score (fraud)                           0.815789   \n",
       "f1 score (fraud)                               0.688194   \n",
       "auc score (unweighted mean)                    0.883586   \n",
       "\n",
       "                             random forest clf (gs)  \n",
       "accuracy score                             0.973025  \n",
       "precision score (fraud)                    0.808889  \n",
       "recall score (fraud)                       0.870813  \n",
       "f1 score (fraud)                           0.838710  \n",
       "auc score (unweighted mean)                0.926396  "
      ]
     },
     "execution_count": 127,
     "metadata": {},
     "output_type": "execute_result"
    }
   ],
   "source": [
    "# comparing models based on test set 1 where the proportion of fraud to non-fraud is similar to train set\n",
    "comparison_test_norm = pd.DataFrame({'logistic regression (gs)':[logreg_best_score,logreg_best_precision, logreg_best_recall, logreg_best_f1, logreg_best_auc],\\\n",
    "                                     'random forest clf (normal)':[rclf_norm_score, rclf_norm_precision, rclf_norm_recall, rclf_norm_f1, rclf_norm_auc],\\\n",
    "                                     'random forest clf (gs)':[rclf_best_score, rclf_best_precision, rclf_best_recall, rclf_best_f1, rclf_best_auc],\\\n",
    "                                     'svm (normal)':[svm_norm_score, svm_norm_precision, svm_norm_recall, svm_norm_f1, svm_norm_auc],\\\n",
    "                                     'svm (gs)':[svm_best_score, svm_best_precision, svm_best_recall, svm_best_f1, svm_best_auc]},\\\n",
    "                                    index = ['accuracy score','precision score (fraud)','recall score (fraud)','f1 score (fraud)','auc score (unweighted mean)'])\n",
    "comparison_test_norm = comparison_test_norm[['logistic regression (gs)','svm (normal)','svm (gs)','random forest clf (normal)','random forest clf (gs)']]\n",
    "print 'size of test set 1: {}'.format(Xrb_test.shape[0])\n",
    "comparison_test_norm"
   ]
  },
  {
   "cell_type": "code",
   "execution_count": 128,
   "metadata": {},
   "outputs": [
    {
     "name": "stdout",
     "output_type": "stream",
     "text": [
      "size of test set 2: 836\n"
     ]
    },
    {
     "data": {
      "text/html": [
       "<div>\n",
       "<style>\n",
       "    .dataframe thead tr:only-child th {\n",
       "        text-align: right;\n",
       "    }\n",
       "\n",
       "    .dataframe thead th {\n",
       "        text-align: left;\n",
       "    }\n",
       "\n",
       "    .dataframe tbody tr th {\n",
       "        vertical-align: top;\n",
       "    }\n",
       "</style>\n",
       "<table border=\"1\" class=\"dataframe\">\n",
       "  <thead>\n",
       "    <tr style=\"text-align: right;\">\n",
       "      <th></th>\n",
       "      <th>logistic regression (gs)</th>\n",
       "      <th>svm (normal)</th>\n",
       "      <th>svm (gs)</th>\n",
       "      <th>random forest clf (normal)</th>\n",
       "      <th>random forest clf (gs)</th>\n",
       "    </tr>\n",
       "  </thead>\n",
       "  <tbody>\n",
       "    <tr>\n",
       "      <th>accuracy score</th>\n",
       "      <td>0.674641</td>\n",
       "      <td>0.873206</td>\n",
       "      <td>0.875598</td>\n",
       "      <td>0.888756</td>\n",
       "      <td>0.925837</td>\n",
       "    </tr>\n",
       "    <tr>\n",
       "      <th>precision score (fraud)</th>\n",
       "      <td>0.715976</td>\n",
       "      <td>0.914894</td>\n",
       "      <td>0.946023</td>\n",
       "      <td>0.955182</td>\n",
       "      <td>0.978495</td>\n",
       "    </tr>\n",
       "    <tr>\n",
       "      <th>recall score (fraud)</th>\n",
       "      <td>0.578947</td>\n",
       "      <td>0.822967</td>\n",
       "      <td>0.796651</td>\n",
       "      <td>0.815789</td>\n",
       "      <td>0.870813</td>\n",
       "    </tr>\n",
       "    <tr>\n",
       "      <th>f1 score (fraud)</th>\n",
       "      <td>0.640212</td>\n",
       "      <td>0.866499</td>\n",
       "      <td>0.864935</td>\n",
       "      <td>0.880000</td>\n",
       "      <td>0.921519</td>\n",
       "    </tr>\n",
       "    <tr>\n",
       "      <th>auc score (unweighted mean)</th>\n",
       "      <td>0.674641</td>\n",
       "      <td>0.873206</td>\n",
       "      <td>0.875598</td>\n",
       "      <td>0.888756</td>\n",
       "      <td>0.925837</td>\n",
       "    </tr>\n",
       "  </tbody>\n",
       "</table>\n",
       "</div>"
      ],
      "text/plain": [
       "                             logistic regression (gs)  svm (normal)  svm (gs)  \\\n",
       "accuracy score                               0.674641      0.873206  0.875598   \n",
       "precision score (fraud)                      0.715976      0.914894  0.946023   \n",
       "recall score (fraud)                         0.578947      0.822967  0.796651   \n",
       "f1 score (fraud)                             0.640212      0.866499  0.864935   \n",
       "auc score (unweighted mean)                  0.674641      0.873206  0.875598   \n",
       "\n",
       "                             random forest clf (normal)  \\\n",
       "accuracy score                                 0.888756   \n",
       "precision score (fraud)                        0.955182   \n",
       "recall score (fraud)                           0.815789   \n",
       "f1 score (fraud)                               0.880000   \n",
       "auc score (unweighted mean)                    0.888756   \n",
       "\n",
       "                             random forest clf (gs)  \n",
       "accuracy score                             0.925837  \n",
       "precision score (fraud)                    0.978495  \n",
       "recall score (fraud)                       0.870813  \n",
       "f1 score (fraud)                           0.921519  \n",
       "auc score (unweighted mean)                0.925837  "
      ]
     },
     "execution_count": 128,
     "metadata": {},
     "output_type": "execute_result"
    }
   ],
   "source": [
    "# comparing models based on test set 2 where proportion of fraud to non-fraud is 50% to 50%\n",
    "comparison_test_semir = pd.DataFrame({'logistic regression (gs)':[logreg_best_score_sr, logreg_best_precision_sr, logreg_best_recall_sr, logreg_best_f1_sr, logreg_best_auc_sr],\\\n",
    "                                      'random forest clf (normal)':[rclf_norm_score_sr, rclf_norm_precision_sr, rclf_norm_recall_sr, rclf_norm_f1_sr, rclf_norm_auc_sr],\\\n",
    "                                      'random forest clf (gs)':[rclf_best_score_sr, rclf_best_precision_sr, rclf_best_recall_sr, rclf_best_f1_sr, rclf_best_auc_sr],\\\n",
    "                                      'svm (normal)':[svm_norm_score_sr, svm_norm_precision_sr, svm_norm_recall_sr, svm_norm_f1_sr, svm_norm_auc_sr],\\\n",
    "                                      'svm (gs)':[svm_best_score_sr, svm_best_precision_sr, svm_best_recall_sr, svm_best_f1_sr, svm_best_auc_sr]},\\\n",
    "                                     index = ['accuracy score','precision score (fraud)','recall score (fraud)','f1 score (fraud)','auc score (unweighted mean)'])\n",
    "comparison_test_semir = comparison_test_semir[['logistic regression (gs)','svm (normal)','svm (gs)','random forest clf (normal)','random forest clf (gs)']]\n",
    "print 'size of test set 2: {}'.format(Xrbsr_test.shape[0])\n",
    "comparison_test_semir"
   ]
  },
  {
   "cell_type": "code",
   "execution_count": 129,
   "metadata": {},
   "outputs": [
    {
     "name": "stdout",
     "output_type": "stream",
     "text": [
      "size of test set 3: 501\n"
     ]
    },
    {
     "data": {
      "text/html": [
       "<div>\n",
       "<style>\n",
       "    .dataframe thead tr:only-child th {\n",
       "        text-align: right;\n",
       "    }\n",
       "\n",
       "    .dataframe thead th {\n",
       "        text-align: left;\n",
       "    }\n",
       "\n",
       "    .dataframe tbody tr th {\n",
       "        vertical-align: top;\n",
       "    }\n",
       "</style>\n",
       "<table border=\"1\" class=\"dataframe\">\n",
       "  <thead>\n",
       "    <tr style=\"text-align: right;\">\n",
       "      <th></th>\n",
       "      <th>logistic regression (gs)</th>\n",
       "      <th>svm (normal)</th>\n",
       "      <th>svm (gs)</th>\n",
       "      <th>random forest clf (normal)</th>\n",
       "      <th>random forest clf (gs)</th>\n",
       "    </tr>\n",
       "  </thead>\n",
       "  <tbody>\n",
       "    <tr>\n",
       "      <th>accuracy score</th>\n",
       "      <td>0.610778</td>\n",
       "      <td>0.838323</td>\n",
       "      <td>0.820359</td>\n",
       "      <td>0.840319</td>\n",
       "      <td>0.886228</td>\n",
       "    </tr>\n",
       "    <tr>\n",
       "      <th>precision score (fraud)</th>\n",
       "      <td>0.927203</td>\n",
       "      <td>0.980057</td>\n",
       "      <td>0.985207</td>\n",
       "      <td>0.991279</td>\n",
       "      <td>0.991826</td>\n",
       "    </tr>\n",
       "    <tr>\n",
       "      <th>recall score (fraud)</th>\n",
       "      <td>0.578947</td>\n",
       "      <td>0.822967</td>\n",
       "      <td>0.796651</td>\n",
       "      <td>0.815789</td>\n",
       "      <td>0.870813</td>\n",
       "    </tr>\n",
       "    <tr>\n",
       "      <th>f1 score (fraud)</th>\n",
       "      <td>0.712813</td>\n",
       "      <td>0.894668</td>\n",
       "      <td>0.880952</td>\n",
       "      <td>0.895013</td>\n",
       "      <td>0.927389</td>\n",
       "    </tr>\n",
       "    <tr>\n",
       "      <th>auc score (unweighted mean)</th>\n",
       "      <td>0.675016</td>\n",
       "      <td>0.869315</td>\n",
       "      <td>0.868205</td>\n",
       "      <td>0.889822</td>\n",
       "      <td>0.917334</td>\n",
       "    </tr>\n",
       "  </tbody>\n",
       "</table>\n",
       "</div>"
      ],
      "text/plain": [
       "                             logistic regression (gs)  svm (normal)  svm (gs)  \\\n",
       "accuracy score                               0.610778      0.838323  0.820359   \n",
       "precision score (fraud)                      0.927203      0.980057  0.985207   \n",
       "recall score (fraud)                         0.578947      0.822967  0.796651   \n",
       "f1 score (fraud)                             0.712813      0.894668  0.880952   \n",
       "auc score (unweighted mean)                  0.675016      0.869315  0.868205   \n",
       "\n",
       "                             random forest clf (normal)  \\\n",
       "accuracy score                                 0.840319   \n",
       "precision score (fraud)                        0.991279   \n",
       "recall score (fraud)                           0.815789   \n",
       "f1 score (fraud)                               0.895013   \n",
       "auc score (unweighted mean)                    0.889822   \n",
       "\n",
       "                             random forest clf (gs)  \n",
       "accuracy score                             0.886228  \n",
       "precision score (fraud)                    0.991826  \n",
       "recall score (fraud)                       0.870813  \n",
       "f1 score (fraud)                           0.927389  \n",
       "auc score (unweighted mean)                0.917334  "
      ]
     },
     "execution_count": 129,
     "metadata": {},
     "output_type": "execute_result"
    }
   ],
   "source": [
    "# comparing models based on test set 3 where proportion of fraud to non-fraud is 80% to 20%\n",
    "comparison_test_rigour = pd.DataFrame({'logistic regression (gs)':[logreg_best_score_r, logreg_best_precision_r, logreg_best_recall_r, logreg_best_f1_r, logreg_best_auc_r],\\\n",
    "                                       'random forest clf (normal)':[rclf_norm_score_r, rclf_norm_precision_r, rclf_norm_recall_r, rclf_norm_f1_r, rclf_norm_auc_r],\\\n",
    "                                       'random forest clf (gs)':[rclf_best_score_r, rclf_best_precision_r, rclf_best_recall_r, rclf_best_f1_r, rclf_best_auc_r],\\\n",
    "                                       'svm (normal)':[svm_norm_score_r, svm_norm_precision_r, svm_norm_recall_r, svm_norm_f1_r, svm_norm_auc_r],\\\n",
    "                                       'svm (gs)':[svm_best_score_r, svm_best_precision_r, svm_best_recall_r, svm_best_f1_r, svm_best_auc_r]},\\\n",
    "                                      index = ['accuracy score','precision score (fraud)','recall score (fraud)','f1 score (fraud)','auc score (unweighted mean)'])\n",
    "comparison_test_rigour = comparison_test_rigour[['logistic regression (gs)','svm (normal)','svm (gs)','random forest clf (normal)','random forest clf (gs)']]\n",
    "print 'size of test set 3: {}'.format(Xrbr_test.shape[0])\n",
    "comparison_test_rigour"
   ]
  },
  {
   "cell_type": "markdown",
   "metadata": {},
   "source": [
    "**Conclusion**\n",
    "\n",
    "We can see that for the SVM and random forest models, they beat the baseline accuracy (0.919). Furthermore, we can see that for all three test sets, random forest with optimised hyperparameter gives the best score for all metrics. We can also tell that the optimised random forest model is not overfitting because it consistenly produces good metric scores for all three test sets where proportion of fraud to non-fraud varies.\n",
    "\n",
    "------\n",
    "**Points to note**\n",
    "\n",
    "The precision score of test set 3 is very extremely high due to the size (small) of the test set"
   ]
  },
  {
   "cell_type": "code",
   "execution_count": 130,
   "metadata": {},
   "outputs": [
    {
     "data": {
      "text/html": [
       "<div>\n",
       "<style>\n",
       "    .dataframe thead tr:only-child th {\n",
       "        text-align: right;\n",
       "    }\n",
       "\n",
       "    .dataframe thead th {\n",
       "        text-align: left;\n",
       "    }\n",
       "\n",
       "    .dataframe tbody tr th {\n",
       "        vertical-align: top;\n",
       "    }\n",
       "</style>\n",
       "<table border=\"1\" class=\"dataframe\">\n",
       "  <thead>\n",
       "    <tr style=\"text-align: right;\">\n",
       "      <th></th>\n",
       "      <th>features</th>\n",
       "      <th>importance</th>\n",
       "    </tr>\n",
       "  </thead>\n",
       "  <tbody>\n",
       "    <tr>\n",
       "      <th>2</th>\n",
       "      <td>unit_price</td>\n",
       "      <td>0.353046</td>\n",
       "    </tr>\n",
       "    <tr>\n",
       "      <th>0</th>\n",
       "      <td>quant</td>\n",
       "      <td>0.145166</td>\n",
       "    </tr>\n",
       "    <tr>\n",
       "      <th>1</th>\n",
       "      <td>val</td>\n",
       "      <td>0.137480</td>\n",
       "    </tr>\n",
       "    <tr>\n",
       "      <th>4</th>\n",
       "      <td>Q1_up</td>\n",
       "      <td>0.121780</td>\n",
       "    </tr>\n",
       "    <tr>\n",
       "      <th>3</th>\n",
       "      <td>median_up</td>\n",
       "      <td>0.116218</td>\n",
       "    </tr>\n",
       "    <tr>\n",
       "      <th>5</th>\n",
       "      <td>std</td>\n",
       "      <td>0.073284</td>\n",
       "    </tr>\n",
       "    <tr>\n",
       "      <th>6</th>\n",
       "      <td>revenue_per_trans</td>\n",
       "      <td>0.053025</td>\n",
       "    </tr>\n",
       "  </tbody>\n",
       "</table>\n",
       "</div>"
      ],
      "text/plain": [
       "            features  importance\n",
       "2         unit_price    0.353046\n",
       "0              quant    0.145166\n",
       "1                val    0.137480\n",
       "4              Q1_up    0.121780\n",
       "3          median_up    0.116218\n",
       "5                std    0.073284\n",
       "6  revenue_per_trans    0.053025"
      ]
     },
     "execution_count": 130,
     "metadata": {},
     "output_type": "execute_result"
    }
   ],
   "source": [
    "# observing feature importance of optimised random forest model\n",
    "feature_impt = pd.DataFrame({'importance': rclf_best.feature_importances_, 'features':X.columns})\n",
    "feature_impt.sort_values('importance', ascending = False)"
   ]
  },
  {
   "cell_type": "code",
   "execution_count": 131,
   "metadata": {},
   "outputs": [
    {
     "name": "stdout",
     "output_type": "stream",
     "text": [
      "             precision    recall  f1-score   support\n",
      "\n",
      "  non-fraud       0.99      0.98      0.99      4772\n",
      "      fraud       0.81      0.87      0.84       418\n",
      "\n",
      "avg / total       0.97      0.97      0.97      5190\n",
      "\n"
     ]
    }
   ],
   "source": [
    "# classification report based on test set 1\n",
    "rclf_best_yhat = rclf_best.predict(Xrb_test)\n",
    "print classification_report(y_test, rclf_best_yhat, labels = [0,1], target_names=['non-fraud','fraud'])"
   ]
  },
  {
   "cell_type": "code",
   "execution_count": 132,
   "metadata": {
    "scrolled": true
   },
   "outputs": [
    {
     "data": {
      "text/html": [
       "<div>\n",
       "<style>\n",
       "    .dataframe thead tr:only-child th {\n",
       "        text-align: right;\n",
       "    }\n",
       "\n",
       "    .dataframe thead th {\n",
       "        text-align: left;\n",
       "    }\n",
       "\n",
       "    .dataframe tbody tr th {\n",
       "        vertical-align: top;\n",
       "    }\n",
       "</style>\n",
       "<table border=\"1\" class=\"dataframe\">\n",
       "  <thead>\n",
       "    <tr style=\"text-align: right;\">\n",
       "      <th></th>\n",
       "      <th>is_ok</th>\n",
       "      <th>is_fraud</th>\n",
       "    </tr>\n",
       "  </thead>\n",
       "  <tbody>\n",
       "    <tr>\n",
       "      <th>pred_ok</th>\n",
       "      <td>4686</td>\n",
       "      <td>86</td>\n",
       "    </tr>\n",
       "    <tr>\n",
       "      <th>pred_fraud</th>\n",
       "      <td>54</td>\n",
       "      <td>364</td>\n",
       "    </tr>\n",
       "  </tbody>\n",
       "</table>\n",
       "</div>"
      ],
      "text/plain": [
       "            is_ok  is_fraud\n",
       "pred_ok      4686        86\n",
       "pred_fraud     54       364"
      ]
     },
     "execution_count": 132,
     "metadata": {},
     "output_type": "execute_result"
    }
   ],
   "source": [
    "# confusion matrix based on test set 1\n",
    "conmat = pd.DataFrame(confusion_matrix(y_test, rclf_best_yhat, labels = [0,1]),\n",
    "                      index = ['pred_ok','pred_fraud'],\n",
    "                      columns = ['is_ok','is_fraud'])\n",
    "conmat"
   ]
  },
  {
   "cell_type": "markdown",
   "metadata": {},
   "source": [
    "## 2.2 Outlier Detection Model\n",
    "*Unsupervised model*\n",
    "### 2.2.1 Isolation Forest\n",
    "\n",
    "For more details please refer to this <a href =\"http://scikit-learn.org/stable/modules/generated/sklearn.ensemble.IsolationForest.html\">link </a>"
   ]
  },
  {
   "cell_type": "code",
   "execution_count": 133,
   "metadata": {
    "collapsed": true
   },
   "outputs": [],
   "source": [
    "from sklearn.ensemble import IsolationForest"
   ]
  },
  {
   "cell_type": "code",
   "execution_count": 134,
   "metadata": {
    "collapsed": true
   },
   "outputs": [],
   "source": [
    "X = labelled.drop(['insp'], axis = 1)\n",
    "y = labelled.insp.values"
   ]
  },
  {
   "cell_type": "code",
   "execution_count": 135,
   "metadata": {
    "collapsed": true
   },
   "outputs": [],
   "source": [
    "X_train, X_test, y_train, y_test = train_test_split(X, y, test_size = 0.33, random_state = 3, stratify=y)"
   ]
  },
  {
   "cell_type": "code",
   "execution_count": 136,
   "metadata": {
    "collapsed": true
   },
   "outputs": [],
   "source": [
    "#labelling fraud as -1 and non-fraud as 1 because the output of isolation forest is -1 (outliers) and 1\n",
    "y_train = [-1 if i == 1 else 1 for i in y_train]\n",
    "y_test = [-1 if i == 1 else 1 for i in y_test]"
   ]
  },
  {
   "cell_type": "code",
   "execution_count": 137,
   "metadata": {
    "collapsed": true
   },
   "outputs": [],
   "source": [
    "gs_params ={\n",
    "    'max_samples': ['auto',500,1000],\n",
    "    'contamination': [float(y_train.count(-1))/len(y_train)],\n",
    "    'max_features': [1,4,7],\n",
    "    'n_estimators':[1000],\n",
    "    'random_state':[1]\n",
    "}\n",
    "\n",
    "isof_gs = GridSearchCV(IsolationForest(), gs_params, n_jobs = -1, verbose = 1, cv = 5, scoring = 'recall_macro')                  "
   ]
  },
  {
   "cell_type": "code",
   "execution_count": 533,
   "metadata": {
    "scrolled": true
   },
   "outputs": [
    {
     "name": "stdout",
     "output_type": "stream",
     "text": [
      "Fitting 5 folds for each of 9 candidates, totalling 45 fits\n"
     ]
    },
    {
     "name": "stderr",
     "output_type": "stream",
     "text": [
      "[Parallel(n_jobs=-1)]: Done  45 out of  45 | elapsed:  2.2min finished\n"
     ]
    },
    {
     "data": {
      "text/plain": [
       "GridSearchCV(cv=5, error_score='raise',\n",
       "       estimator=IsolationForest(bootstrap=False, contamination=0.1, max_features=1.0,\n",
       "        max_samples='auto', n_estimators=100, n_jobs=1, random_state=None,\n",
       "        verbose=0),\n",
       "       fit_params=None, iid=True, n_jobs=-1,\n",
       "       param_grid={'max_features': [1, 4, 7], 'max_samples': ['auto', 500, 1000], 'random_state': [1], 'n_estimators': [1000], 'contamination': [0.08067577828397873]},\n",
       "       pre_dispatch='2*n_jobs', refit=True, return_train_score=True,\n",
       "       scoring='recall_macro', verbose=1)"
      ]
     },
     "execution_count": 533,
     "metadata": {},
     "output_type": "execute_result"
    }
   ],
   "source": [
    "isof_gs.fit(X_train, y_train)"
   ]
  },
  {
   "cell_type": "code",
   "execution_count": 534,
   "metadata": {
    "scrolled": true
   },
   "outputs": [
    {
     "data": {
      "text/plain": [
       "IsolationForest(bootstrap=False, contamination=0.080675778284, max_features=7,\n",
       "        max_samples=1000, n_estimators=1000, n_jobs=1, random_state=1,\n",
       "        verbose=0)"
      ]
     },
     "execution_count": 534,
     "metadata": {},
     "output_type": "execute_result"
    }
   ],
   "source": [
    "isof_gs.best_estimator_"
   ]
  },
  {
   "cell_type": "code",
   "execution_count": 535,
   "metadata": {
    "collapsed": true
   },
   "outputs": [],
   "source": [
    "isof_best = isof_gs.best_estimator_"
   ]
  },
  {
   "cell_type": "code",
   "execution_count": 536,
   "metadata": {},
   "outputs": [
    {
     "data": {
      "text/plain": [
       "['isof-gs.pkl']"
      ]
     },
     "execution_count": 536,
     "metadata": {},
     "output_type": "execute_result"
    }
   ],
   "source": [
    "joblib.dump(isof_best, './pickle/isof-gs.pkl')"
   ]
  },
  {
   "cell_type": "code",
   "execution_count": 138,
   "metadata": {
    "collapsed": true
   },
   "outputs": [],
   "source": [
    "isof_best = joblib.load(open('./pickle/isof-gs.pkl', 'rb'))"
   ]
  },
  {
   "cell_type": "code",
   "execution_count": 139,
   "metadata": {
    "collapsed": true
   },
   "outputs": [],
   "source": [
    "def unsup_perf (model, X_test, y_test):\n",
    "    \"\"\" \n",
    "    Evaluating unsupervised model performance\n",
    "    \n",
    "    Parameters\n",
    "    -----------\n",
    "    y_test: needs to be labelled [-1,1] where minority class is labelled as -1\n",
    "    \n",
    "    Returns\n",
    "    -----------\n",
    "    Confustion matrix, model score, precision score (minority class), recall score (minority class),\n",
    "    f1 score (minority class) and auc score (unweighted average)\n",
    "    \"\"\"\n",
    "    model_yhat = model.predict(X_test)\n",
    "    conmat = pd.DataFrame(confusion_matrix(y_test, model_yhat, labels = [1,-1]),\\\n",
    "                          index = ['pred non-fraud','pred fraud'],\\\n",
    "                          columns = ['is non-fraud','is fraud'])\n",
    "    model_score = float(conmat.iloc[0,0]+conmat.iloc[1,1])/conmat.values.sum()\n",
    "    model_precision = precision_score(y_test, model_yhat, pos_label = -1, average = 'binary')\n",
    "    model_recall = recall_score(y_test, model_yhat, pos_label = -1, average = 'binary')\n",
    "    model_f1 = f1_score(y_test, model_yhat, pos_label = -1, average = 'binary')\n",
    "    model_auc = roc_auc_score(y_test, model_yhat, average = 'macro')\n",
    "    \n",
    "    return (conmat, model_score, model_precision, model_recall, model_f1, model_auc)"
   ]
  },
  {
   "cell_type": "code",
   "execution_count": 140,
   "metadata": {
    "collapsed": true
   },
   "outputs": [],
   "source": [
    "isof_best_conmat, isof_best_score, isof_best_precision, isof_best_recall, isof_best_f1, isof_best_auc =\\\n",
    "unsup_perf(isof_best, X_test, y_test)"
   ]
  },
  {
   "cell_type": "code",
   "execution_count": 141,
   "metadata": {
    "scrolled": true
   },
   "outputs": [
    {
     "data": {
      "text/html": [
       "<div>\n",
       "<style>\n",
       "    .dataframe thead tr:only-child th {\n",
       "        text-align: right;\n",
       "    }\n",
       "\n",
       "    .dataframe thead th {\n",
       "        text-align: left;\n",
       "    }\n",
       "\n",
       "    .dataframe tbody tr th {\n",
       "        vertical-align: top;\n",
       "    }\n",
       "</style>\n",
       "<table border=\"1\" class=\"dataframe\">\n",
       "  <thead>\n",
       "    <tr style=\"text-align: right;\">\n",
       "      <th></th>\n",
       "      <th>isolation forest (gs)</th>\n",
       "    </tr>\n",
       "  </thead>\n",
       "  <tbody>\n",
       "    <tr>\n",
       "      <th>accuracy score</th>\n",
       "      <td>0.876108</td>\n",
       "    </tr>\n",
       "    <tr>\n",
       "      <th>precision score (fraud)</th>\n",
       "      <td>0.218045</td>\n",
       "    </tr>\n",
       "    <tr>\n",
       "      <th>recall score (fraud)</th>\n",
       "      <td>0.208134</td>\n",
       "    </tr>\n",
       "    <tr>\n",
       "      <th>f1 score (fraud)</th>\n",
       "      <td>0.212974</td>\n",
       "    </tr>\n",
       "    <tr>\n",
       "      <th>auc score (unweighted mean)</th>\n",
       "      <td>0.571376</td>\n",
       "    </tr>\n",
       "  </tbody>\n",
       "</table>\n",
       "</div>"
      ],
      "text/plain": [
       "                             isolation forest (gs)\n",
       "accuracy score                            0.876108\n",
       "precision score (fraud)                   0.218045\n",
       "recall score (fraud)                      0.208134\n",
       "f1 score (fraud)                          0.212974\n",
       "auc score (unweighted mean)               0.571376"
      ]
     },
     "execution_count": 141,
     "metadata": {},
     "output_type": "execute_result"
    }
   ],
   "source": [
    "isof_comp = pd.DataFrame({'isolation forest (gs)':[isof_best_score, isof_best_precision, isof_best_recall, isof_best_f1, isof_best_auc]},\\\n",
    "                         index = ['accuracy score','precision score (fraud)','recall score (fraud)','f1 score (fraud)','auc score (unweighted mean)'])\n",
    "isof_comp"
   ]
  },
  {
   "cell_type": "markdown",
   "metadata": {},
   "source": [
    "Let's take a look at why isolation forest is performing so badly."
   ]
  },
  {
   "cell_type": "code",
   "execution_count": 142,
   "metadata": {
    "collapsed": true
   },
   "outputs": [],
   "source": [
    "X_test_isof = X_test.copy()\n",
    "X_test_isof['decision_function'] = isof_best.decision_function(X_test)\n",
    "X_test_isof['y_true'] = y_test\n",
    "X_test_isof['y_pred'] = isof_best.predict(X_test)"
   ]
  },
  {
   "cell_type": "code",
   "execution_count": 143,
   "metadata": {
    "scrolled": true
   },
   "outputs": [
    {
     "data": {
      "text/html": [
       "<div>\n",
       "<style>\n",
       "    .dataframe thead tr:only-child th {\n",
       "        text-align: right;\n",
       "    }\n",
       "\n",
       "    .dataframe thead th {\n",
       "        text-align: left;\n",
       "    }\n",
       "\n",
       "    .dataframe tbody tr th {\n",
       "        vertical-align: top;\n",
       "    }\n",
       "</style>\n",
       "<table border=\"1\" class=\"dataframe\">\n",
       "  <thead>\n",
       "    <tr style=\"text-align: right;\">\n",
       "      <th></th>\n",
       "      <th>quant</th>\n",
       "      <th>val</th>\n",
       "      <th>unit_price</th>\n",
       "      <th>median_up</th>\n",
       "      <th>Q1_up</th>\n",
       "      <th>std</th>\n",
       "      <th>revenue_per_trans</th>\n",
       "      <th>decision_function</th>\n",
       "      <th>y_true</th>\n",
       "      <th>y_pred</th>\n",
       "    </tr>\n",
       "  </thead>\n",
       "  <tbody>\n",
       "    <tr>\n",
       "      <th>3808</th>\n",
       "      <td>377.0</td>\n",
       "      <td>2585.0</td>\n",
       "      <td>6.856764</td>\n",
       "      <td>6.431475</td>\n",
       "      <td>4.912144</td>\n",
       "      <td>3.516650</td>\n",
       "      <td>21980.832394</td>\n",
       "      <td>0.166360</td>\n",
       "      <td>1</td>\n",
       "      <td>1</td>\n",
       "    </tr>\n",
       "    <tr>\n",
       "      <th>11946</th>\n",
       "      <td>356.0</td>\n",
       "      <td>14180.0</td>\n",
       "      <td>39.831461</td>\n",
       "      <td>17.136752</td>\n",
       "      <td>12.696078</td>\n",
       "      <td>26.700778</td>\n",
       "      <td>5325.818043</td>\n",
       "      <td>0.176109</td>\n",
       "      <td>1</td>\n",
       "      <td>1</td>\n",
       "    </tr>\n",
       "    <tr>\n",
       "      <th>229464</th>\n",
       "      <td>407.0</td>\n",
       "      <td>15175.0</td>\n",
       "      <td>37.285012</td>\n",
       "      <td>16.714099</td>\n",
       "      <td>12.075481</td>\n",
       "      <td>7.777731</td>\n",
       "      <td>5325.818043</td>\n",
       "      <td>0.175865</td>\n",
       "      <td>1</td>\n",
       "      <td>1</td>\n",
       "    </tr>\n",
       "    <tr>\n",
       "      <th>111240</th>\n",
       "      <td>618.0</td>\n",
       "      <td>9950.0</td>\n",
       "      <td>16.100324</td>\n",
       "      <td>10.900000</td>\n",
       "      <td>9.901793</td>\n",
       "      <td>13.855328</td>\n",
       "      <td>6586.353591</td>\n",
       "      <td>0.181476</td>\n",
       "      <td>1</td>\n",
       "      <td>1</td>\n",
       "    </tr>\n",
       "    <tr>\n",
       "      <th>396117</th>\n",
       "      <td>65782.0</td>\n",
       "      <td>1285345.0</td>\n",
       "      <td>19.539464</td>\n",
       "      <td>29.805556</td>\n",
       "      <td>16.075231</td>\n",
       "      <td>32.464850</td>\n",
       "      <td>292203.529412</td>\n",
       "      <td>-0.106298</td>\n",
       "      <td>1</td>\n",
       "      <td>-1</td>\n",
       "    </tr>\n",
       "  </tbody>\n",
       "</table>\n",
       "</div>"
      ],
      "text/plain": [
       "          quant        val  unit_price  median_up      Q1_up        std  \\\n",
       "3808      377.0     2585.0    6.856764   6.431475   4.912144   3.516650   \n",
       "11946     356.0    14180.0   39.831461  17.136752  12.696078  26.700778   \n",
       "229464    407.0    15175.0   37.285012  16.714099  12.075481   7.777731   \n",
       "111240    618.0     9950.0   16.100324  10.900000   9.901793  13.855328   \n",
       "396117  65782.0  1285345.0   19.539464  29.805556  16.075231  32.464850   \n",
       "\n",
       "        revenue_per_trans  decision_function  y_true  y_pred  \n",
       "3808         21980.832394           0.166360       1       1  \n",
       "11946         5325.818043           0.176109       1       1  \n",
       "229464        5325.818043           0.175865       1       1  \n",
       "111240        6586.353591           0.181476       1       1  \n",
       "396117      292203.529412          -0.106298       1      -1  "
      ]
     },
     "execution_count": 143,
     "metadata": {},
     "output_type": "execute_result"
    }
   ],
   "source": [
    "X_test_isof.head()"
   ]
  },
  {
   "cell_type": "markdown",
   "metadata": {},
   "source": [
    "We can observe that the model is predicting the 5th transaction as a fraud (even though it is not), because of the extremely high values of quant and val. As such, it is detected as anomaly. \n",
    "\n",
    "To better refine the model, we shall engineer a new feature, unit price - median unit price. The reason being, we should be more suspicious of a transaction if the unit price of the transaction is too different from the median unit price of the product\n",
    "\n",
    "This new feature will be the only feature in X matrix. "
   ]
  },
  {
   "cell_type": "code",
   "execution_count": 144,
   "metadata": {
    "scrolled": false
   },
   "outputs": [
    {
     "name": "stderr",
     "output_type": "stream",
     "text": [
      "/Users/timong/anaconda/lib/python2.7/site-packages/ipykernel_launcher.py:3: FutureWarning: reshape is deprecated and will raise in a subsequent release. Please use .values.reshape(...) instead\n",
      "  This is separate from the ipykernel package so we can avoid doing imports until\n",
      "/Users/timong/anaconda/lib/python2.7/site-packages/ipykernel_launcher.py:6: FutureWarning: reshape is deprecated and will raise in a subsequent release. Please use .values.reshape(...) instead\n",
      "  \n"
     ]
    }
   ],
   "source": [
    "# creating the new X matrix\n",
    "X_train_upm = X_train.unit_price - X_train.median_up\n",
    "X_train_upm = X_train_upm.reshape(-1,1)\n",
    "\n",
    "X_test_upm = X_test.unit_price - X_test.median_up\n",
    "X_test_upm = X_test_upm.reshape(-1,1)"
   ]
  },
  {
   "cell_type": "code",
   "execution_count": 145,
   "metadata": {
    "collapsed": true
   },
   "outputs": [],
   "source": [
    "gs_params ={\n",
    "    'max_samples': ['auto',500,1000],\n",
    "    'contamination': [float(y_train.count(-1))/len(y_train)],\n",
    "    'n_estimators':[1000],\n",
    "    'random_state':[1]\n",
    "}\n",
    "\n",
    "isof_gs = GridSearchCV(IsolationForest(), gs_params, n_jobs = -1, verbose = 1, cv = 5, scoring = 'recall_macro')                  "
   ]
  },
  {
   "cell_type": "code",
   "execution_count": 146,
   "metadata": {
    "scrolled": true
   },
   "outputs": [
    {
     "name": "stdout",
     "output_type": "stream",
     "text": [
      "Fitting 5 folds for each of 3 candidates, totalling 15 fits\n"
     ]
    },
    {
     "name": "stderr",
     "output_type": "stream",
     "text": [
      "[Parallel(n_jobs=-1)]: Done  15 out of  15 | elapsed:   40.1s finished\n"
     ]
    },
    {
     "data": {
      "text/plain": [
       "GridSearchCV(cv=5, error_score='raise',\n",
       "       estimator=IsolationForest(bootstrap=False, contamination=0.1, max_features=1.0,\n",
       "        max_samples='auto', n_estimators=100, n_jobs=1, random_state=None,\n",
       "        verbose=0),\n",
       "       fit_params=None, iid=True, n_jobs=-1,\n",
       "       param_grid={'n_estimators': [1000], 'max_samples': ['auto', 500, 1000], 'random_state': [1], 'contamination': [0.08067577828397873]},\n",
       "       pre_dispatch='2*n_jobs', refit=True, return_train_score=True,\n",
       "       scoring='recall_macro', verbose=1)"
      ]
     },
     "execution_count": 146,
     "metadata": {},
     "output_type": "execute_result"
    }
   ],
   "source": [
    "isof_gs.fit(X_train_upm, y_train)"
   ]
  },
  {
   "cell_type": "code",
   "execution_count": 147,
   "metadata": {},
   "outputs": [
    {
     "data": {
      "text/plain": [
       "IsolationForest(bootstrap=False, contamination=0.080675778284,\n",
       "        max_features=1.0, max_samples='auto', n_estimators=1000, n_jobs=1,\n",
       "        random_state=1, verbose=0)"
      ]
     },
     "execution_count": 147,
     "metadata": {},
     "output_type": "execute_result"
    }
   ],
   "source": [
    "isof_gs.best_estimator_"
   ]
  },
  {
   "cell_type": "code",
   "execution_count": 148,
   "metadata": {
    "collapsed": true
   },
   "outputs": [],
   "source": [
    "isof_upm_best = isof_gs.best_estimator_"
   ]
  },
  {
   "cell_type": "code",
   "execution_count": 149,
   "metadata": {
    "collapsed": true
   },
   "outputs": [],
   "source": [
    "isof_upm_best_conmat, isof_upm_best_score, isof_upm_best_precision, isof_upm_best_recall, isof_upm_best_f1, isof_upm_best_auc =\\\n",
    "unsup_perf(isof_upm_best, X_test_upm, y_test)"
   ]
  },
  {
   "cell_type": "code",
   "execution_count": 150,
   "metadata": {
    "scrolled": true
   },
   "outputs": [
    {
     "data": {
      "text/html": [
       "<div>\n",
       "<style>\n",
       "    .dataframe thead tr:only-child th {\n",
       "        text-align: right;\n",
       "    }\n",
       "\n",
       "    .dataframe thead th {\n",
       "        text-align: left;\n",
       "    }\n",
       "\n",
       "    .dataframe tbody tr th {\n",
       "        vertical-align: top;\n",
       "    }\n",
       "</style>\n",
       "<table border=\"1\" class=\"dataframe\">\n",
       "  <thead>\n",
       "    <tr style=\"text-align: right;\">\n",
       "      <th></th>\n",
       "      <th>isolation forest (gs)</th>\n",
       "      <th>isolation forest (up-m gs)</th>\n",
       "    </tr>\n",
       "  </thead>\n",
       "  <tbody>\n",
       "    <tr>\n",
       "      <th>accuracy score</th>\n",
       "      <td>0.876108</td>\n",
       "      <td>0.892486</td>\n",
       "    </tr>\n",
       "    <tr>\n",
       "      <th>precision score (fraud)</th>\n",
       "      <td>0.218045</td>\n",
       "      <td>0.335681</td>\n",
       "    </tr>\n",
       "    <tr>\n",
       "      <th>recall score (fraud)</th>\n",
       "      <td>0.208134</td>\n",
       "      <td>0.342105</td>\n",
       "    </tr>\n",
       "    <tr>\n",
       "      <th>f1 score (fraud)</th>\n",
       "      <td>0.212974</td>\n",
       "      <td>0.338863</td>\n",
       "    </tr>\n",
       "    <tr>\n",
       "      <th>auc score (unweighted mean)</th>\n",
       "      <td>0.571376</td>\n",
       "      <td>0.641400</td>\n",
       "    </tr>\n",
       "  </tbody>\n",
       "</table>\n",
       "</div>"
      ],
      "text/plain": [
       "                             isolation forest (gs)  isolation forest (up-m gs)\n",
       "accuracy score                            0.876108                    0.892486\n",
       "precision score (fraud)                   0.218045                    0.335681\n",
       "recall score (fraud)                      0.208134                    0.342105\n",
       "f1 score (fraud)                          0.212974                    0.338863\n",
       "auc score (unweighted mean)               0.571376                    0.641400"
      ]
     },
     "execution_count": 150,
     "metadata": {},
     "output_type": "execute_result"
    }
   ],
   "source": [
    "isof_comp['isolation forest (up-m gs)'] = [isof_upm_best_score, isof_upm_best_precision, isof_upm_best_recall, isof_upm_best_f1, isof_upm_best_auc]\n",
    "isof_comp = isof_comp[['isolation forest (gs)','isolation forest (up-m gs)']]\n",
    "isof_comp"
   ]
  },
  {
   "cell_type": "markdown",
   "metadata": {},
   "source": [
    "We can see that the isolation forest model improves when I am just using the new feature (difference of unit price and median unit price) as the new X matrix. However, its accuracy score does not perform better than baseline accuracy (0.919) and its precision and recall score for the minority class is not ideal.\n",
    "\n",
    "The limitation of my isolation forest model is because of the hyper-parameter, **contamination**. \n",
    "\n",
    "Contamination is defined to be the proportion of outliers in the data set. \n",
    "\n",
    "Currently, I have set it to be the actual proportion of outliers in the training set, i.e. approximately 0.08. If I were to increase the contamination score, my recall score will improve while my other metrics will suffer. However, since this is a case of fraud detection, we would want to prioritise recall score above other metrics. The reason being, the cost of a false negative, i.e. identifying a fraudulent case as non-fraud, is much high than a false positive. \n",
    "\n",
    "If given a cost matrix, it would be possible to optimise for the contamination score that gives the lowest cost. However, in this case, we do not know what is the cost of a false positive or a false negative.\n",
    "\n",
    "We can see the changes in the metrics in the table below when contamination is optimise for recall_marco \n",
    "\n",
    "\n",
    "------------------\n",
    "**Points to note**\n",
    "\n",
    "- *false positive: a result that indicates a fraud exists when it does not*\n",
    "- *false negative: a result that indicates a fraud does not exists when it does*\n",
    "- *macro: is the unweighted average in each label*"
   ]
  },
  {
   "cell_type": "code",
   "execution_count": 151,
   "metadata": {
    "collapsed": true
   },
   "outputs": [],
   "source": [
    "gs_params ={\n",
    "    'max_samples': ['auto',500,1000],\n",
    "    'contamination': np.linspace(0,1,10),\n",
    "    'n_estimators':[1000],\n",
    "    'random_state':[1]\n",
    "}\n",
    "\n",
    "isof_gs = GridSearchCV(IsolationForest(), gs_params, n_jobs = -1, verbose = 1, cv = 5, scoring = 'recall_macro')                  "
   ]
  },
  {
   "cell_type": "code",
   "execution_count": 552,
   "metadata": {},
   "outputs": [
    {
     "name": "stdout",
     "output_type": "stream",
     "text": [
      "Fitting 5 folds for each of 30 candidates, totalling 150 fits\n"
     ]
    },
    {
     "name": "stderr",
     "output_type": "stream",
     "text": [
      "[Parallel(n_jobs=-1)]: Done  42 tasks      | elapsed:  1.8min\n",
      "[Parallel(n_jobs=-1)]: Done 150 out of 150 | elapsed:  5.9min finished\n"
     ]
    },
    {
     "data": {
      "text/plain": [
       "GridSearchCV(cv=5, error_score='raise',\n",
       "       estimator=IsolationForest(bootstrap=False, contamination=0.1, max_features=1.0,\n",
       "        max_samples='auto', n_estimators=100, n_jobs=1, random_state=None,\n",
       "        verbose=0),\n",
       "       fit_params=None, iid=True, n_jobs=-1,\n",
       "       param_grid={'n_estimators': [1000], 'max_samples': ['auto', 500, 1000], 'random_state': [1], 'contamination': array([ 0.     ,  0.11111,  0.22222,  0.33333,  0.44444,  0.55556,\n",
       "        0.66667,  0.77778,  0.88889,  1.     ])},\n",
       "       pre_dispatch='2*n_jobs', refit=True, return_train_score=True,\n",
       "       scoring='recall_macro', verbose=1)"
      ]
     },
     "execution_count": 552,
     "metadata": {},
     "output_type": "execute_result"
    }
   ],
   "source": [
    "isof_gs.fit(X_train_upm, y_train)"
   ]
  },
  {
   "cell_type": "code",
   "execution_count": 553,
   "metadata": {},
   "outputs": [
    {
     "data": {
      "text/plain": [
       "IsolationForest(bootstrap=False, contamination=0.33333333333333331,\n",
       "        max_features=1.0, max_samples='auto', n_estimators=1000, n_jobs=1,\n",
       "        random_state=1, verbose=0)"
      ]
     },
     "execution_count": 553,
     "metadata": {},
     "output_type": "execute_result"
    }
   ],
   "source": [
    "isof_gs.best_estimator_"
   ]
  },
  {
   "cell_type": "code",
   "execution_count": 554,
   "metadata": {
    "collapsed": true
   },
   "outputs": [],
   "source": [
    "isof_upm2_best = isof_gs.best_estimator_"
   ]
  },
  {
   "cell_type": "code",
   "execution_count": 1027,
   "metadata": {},
   "outputs": [
    {
     "data": {
      "text/plain": [
       "['isof-upm2-gs.pkl']"
      ]
     },
     "execution_count": 1027,
     "metadata": {},
     "output_type": "execute_result"
    }
   ],
   "source": [
    "joblib.dump(isof_upm2_best, './pickle/isof-upm2-gs.pkl')"
   ]
  },
  {
   "cell_type": "code",
   "execution_count": 152,
   "metadata": {
    "collapsed": true
   },
   "outputs": [],
   "source": [
    "isof_upm2_best = joblib.load(open('./pickle/isof-upm2-gs.pkl','rb'))"
   ]
  },
  {
   "cell_type": "code",
   "execution_count": 153,
   "metadata": {
    "collapsed": true
   },
   "outputs": [],
   "source": [
    "isof_upm2_best_conmat, isof_upm2_best_score, isof_upm2_best_precision, isof_upm2_best_recall, isof_upm2_best_f1, isof_upm2_best_auc =\\\n",
    "unsup_perf(isof_upm2_best, X_test_upm, y_test)"
   ]
  },
  {
   "cell_type": "code",
   "execution_count": 154,
   "metadata": {},
   "outputs": [
    {
     "data": {
      "text/html": [
       "<div>\n",
       "<style>\n",
       "    .dataframe thead tr:only-child th {\n",
       "        text-align: right;\n",
       "    }\n",
       "\n",
       "    .dataframe thead th {\n",
       "        text-align: left;\n",
       "    }\n",
       "\n",
       "    .dataframe tbody tr th {\n",
       "        vertical-align: top;\n",
       "    }\n",
       "</style>\n",
       "<table border=\"1\" class=\"dataframe\">\n",
       "  <thead>\n",
       "    <tr style=\"text-align: right;\">\n",
       "      <th></th>\n",
       "      <th>isolation forest (gs)</th>\n",
       "      <th>isolation forest (up-m gs)</th>\n",
       "      <th>isolation forest (up-m2 gs)</th>\n",
       "      <th>random forest (gs)</th>\n",
       "    </tr>\n",
       "  </thead>\n",
       "  <tbody>\n",
       "    <tr>\n",
       "      <th>accuracy score</th>\n",
       "      <td>0.876108</td>\n",
       "      <td>0.892486</td>\n",
       "      <td>0.689403</td>\n",
       "      <td>0.973025</td>\n",
       "    </tr>\n",
       "    <tr>\n",
       "      <th>precision score (fraud)</th>\n",
       "      <td>0.218045</td>\n",
       "      <td>0.335681</td>\n",
       "      <td>0.165359</td>\n",
       "      <td>0.808889</td>\n",
       "    </tr>\n",
       "    <tr>\n",
       "      <th>recall score (fraud)</th>\n",
       "      <td>0.208134</td>\n",
       "      <td>0.342105</td>\n",
       "      <td>0.705742</td>\n",
       "      <td>0.870813</td>\n",
       "    </tr>\n",
       "    <tr>\n",
       "      <th>f1 score (fraud)</th>\n",
       "      <td>0.212974</td>\n",
       "      <td>0.338863</td>\n",
       "      <td>0.267938</td>\n",
       "      <td>0.838710</td>\n",
       "    </tr>\n",
       "    <tr>\n",
       "      <th>auc score (unweighted mean)</th>\n",
       "      <td>0.571376</td>\n",
       "      <td>0.641400</td>\n",
       "      <td>0.696857</td>\n",
       "      <td>0.926396</td>\n",
       "    </tr>\n",
       "  </tbody>\n",
       "</table>\n",
       "</div>"
      ],
      "text/plain": [
       "                             isolation forest (gs)  \\\n",
       "accuracy score                            0.876108   \n",
       "precision score (fraud)                   0.218045   \n",
       "recall score (fraud)                      0.208134   \n",
       "f1 score (fraud)                          0.212974   \n",
       "auc score (unweighted mean)               0.571376   \n",
       "\n",
       "                             isolation forest (up-m gs)  \\\n",
       "accuracy score                                 0.892486   \n",
       "precision score (fraud)                        0.335681   \n",
       "recall score (fraud)                           0.342105   \n",
       "f1 score (fraud)                               0.338863   \n",
       "auc score (unweighted mean)                    0.641400   \n",
       "\n",
       "                             isolation forest (up-m2 gs)  random forest (gs)  \n",
       "accuracy score                                  0.689403            0.973025  \n",
       "precision score (fraud)                         0.165359            0.808889  \n",
       "recall score (fraud)                            0.705742            0.870813  \n",
       "f1 score (fraud)                                0.267938            0.838710  \n",
       "auc score (unweighted mean)                     0.696857            0.926396  "
      ]
     },
     "execution_count": 154,
     "metadata": {},
     "output_type": "execute_result"
    }
   ],
   "source": [
    "isof_comp['isolation forest (up-m2 gs)'] = [isof_upm2_best_score, isof_upm2_best_precision, isof_upm2_best_recall, isof_upm2_best_f1, isof_upm2_best_auc]\n",
    "isof_comp['random forest (gs)'] = [rclf_best_score, rclf_best_precision, rclf_best_recall, rclf_best_f1, rclf_best_auc]\n",
    "isof_comp = isof_comp[['isolation forest (gs)','isolation forest (up-m gs)', 'isolation forest (up-m2 gs)','random forest (gs)']]\n",
    "isof_comp"
   ]
  },
  {
   "cell_type": "code",
   "execution_count": 155,
   "metadata": {},
   "outputs": [
    {
     "data": {
      "text/html": [
       "<div>\n",
       "<style>\n",
       "    .dataframe thead tr:only-child th {\n",
       "        text-align: right;\n",
       "    }\n",
       "\n",
       "    .dataframe thead th {\n",
       "        text-align: left;\n",
       "    }\n",
       "\n",
       "    .dataframe tbody tr th {\n",
       "        vertical-align: top;\n",
       "    }\n",
       "</style>\n",
       "<table border=\"1\" class=\"dataframe\">\n",
       "  <thead>\n",
       "    <tr style=\"text-align: right;\">\n",
       "      <th></th>\n",
       "      <th>is non-fraud</th>\n",
       "      <th>is fraud</th>\n",
       "    </tr>\n",
       "  </thead>\n",
       "  <tbody>\n",
       "    <tr>\n",
       "      <th>pred non-fraud</th>\n",
       "      <td>3283</td>\n",
       "      <td>1489</td>\n",
       "    </tr>\n",
       "    <tr>\n",
       "      <th>pred fraud</th>\n",
       "      <td>123</td>\n",
       "      <td>295</td>\n",
       "    </tr>\n",
       "  </tbody>\n",
       "</table>\n",
       "</div>"
      ],
      "text/plain": [
       "                is non-fraud  is fraud\n",
       "pred non-fraud          3283      1489\n",
       "pred fraud               123       295"
      ]
     },
     "execution_count": 155,
     "metadata": {},
     "output_type": "execute_result"
    }
   ],
   "source": [
    "isof_upm2_best_conmat"
   ]
  },
  {
   "cell_type": "code",
   "execution_count": 156,
   "metadata": {
    "scrolled": true
   },
   "outputs": [
    {
     "name": "stdout",
     "output_type": "stream",
     "text": [
      "             precision    recall  f1-score   support\n",
      "\n",
      "  non-fraud       0.96      0.69      0.80      4772\n",
      "      fraud       0.17      0.71      0.27       418\n",
      "\n",
      "avg / total       0.90      0.69      0.76      5190\n",
      "\n"
     ]
    }
   ],
   "source": [
    "isof_upm2_yhat = isof_upm2_best.predict(X_test_upm)\n",
    "print classification_report(y_test, isof_upm2_yhat, labels = [1,-1], target_names=['non-fraud','fraud'])"
   ]
  },
  {
   "cell_type": "markdown",
   "metadata": {},
   "source": [
    "**Conclusion**\n",
    "\n",
    "After optimising the hyper-parameter, contamination, we can see that the recall score is much better. However, the other metrics suffers. Nevertheless, this still translate to a lower cost for the company as they the cost to check on a false positive is much cheaper than the cost of incurring a false negative.\n",
    "\n",
    "Overall, the optimised random forest model still outperforms the isolation forest model."
   ]
  },
  {
   "cell_type": "markdown",
   "metadata": {},
   "source": [
    "## Part 2.3\n",
    "*Semi-supervised classification models*\n",
    "\n",
    "In Part 1, we have concluded that the model can be improved if there is more data in the training set. As such, we will use the unlabelled data to generate more data points for the training set. To do this, we can make use of semi-supervised models. We will be using a heuristic approach to generate the semi-supervised model."
   ]
  },
  {
   "cell_type": "markdown",
   "metadata": {},
   "source": [
    "### 2.3.1 Self-training\n",
    "\n",
    "For a self-training model, we would first need a base model generated from the labelled data. Thereafter, we shall apply this base model to the unlabelled data. If the predicted class probability of each unlabelled transaction is above a certain threshold, we shall deem that the prediction is accurate, classify these transcations and throw them into the training set. As such, we can have a bigger training set to train a new model.\n",
    "\n",
    "Since the optimised random forest model gave us the best result above, we shall use it to be the base model."
   ]
  },
  {
   "cell_type": "code",
   "execution_count": 157,
   "metadata": {
    "collapsed": true
   },
   "outputs": [],
   "source": [
    "# scaling the unlabelled data using the fit of the initial training set\n",
    "Xrb_unknown = rb.transform(unlabelled.drop('insp', axis = 1))"
   ]
  },
  {
   "cell_type": "code",
   "execution_count": 158,
   "metadata": {},
   "outputs": [
    {
     "data": {
      "text/html": [
       "<div>\n",
       "<style>\n",
       "    .dataframe thead tr:only-child th {\n",
       "        text-align: right;\n",
       "    }\n",
       "\n",
       "    .dataframe thead th {\n",
       "        text-align: left;\n",
       "    }\n",
       "\n",
       "    .dataframe tbody tr th {\n",
       "        vertical-align: top;\n",
       "    }\n",
       "</style>\n",
       "<table border=\"1\" class=\"dataframe\">\n",
       "  <thead>\n",
       "    <tr style=\"text-align: right;\">\n",
       "      <th></th>\n",
       "      <th>pred_ok</th>\n",
       "      <th>pred_fraud</th>\n",
       "    </tr>\n",
       "  </thead>\n",
       "  <tbody>\n",
       "    <tr>\n",
       "      <th>1</th>\n",
       "      <td>0.718</td>\n",
       "      <td>0.282</td>\n",
       "    </tr>\n",
       "    <tr>\n",
       "      <th>2</th>\n",
       "      <td>0.799</td>\n",
       "      <td>0.201</td>\n",
       "    </tr>\n",
       "    <tr>\n",
       "      <th>3</th>\n",
       "      <td>0.932</td>\n",
       "      <td>0.068</td>\n",
       "    </tr>\n",
       "    <tr>\n",
       "      <th>4</th>\n",
       "      <td>0.956</td>\n",
       "      <td>0.044</td>\n",
       "    </tr>\n",
       "    <tr>\n",
       "      <th>5</th>\n",
       "      <td>0.937</td>\n",
       "      <td>0.063</td>\n",
       "    </tr>\n",
       "  </tbody>\n",
       "</table>\n",
       "</div>"
      ],
      "text/plain": [
       "   pred_ok  pred_fraud\n",
       "1    0.718       0.282\n",
       "2    0.799       0.201\n",
       "3    0.932       0.068\n",
       "4    0.956       0.044\n",
       "5    0.937       0.063"
      ]
     },
     "execution_count": 158,
     "metadata": {},
     "output_type": "execute_result"
    }
   ],
   "source": [
    "# generating the probability score of the unlabelled data\n",
    "pred_unknown = pd.DataFrame(rclf_best.predict_proba(Xrb_unknown), columns = ['pred_ok','pred_fraud'], index = unlabelled.index.values)\n",
    "pred_unknown.head()"
   ]
  },
  {
   "cell_type": "code",
   "execution_count": 159,
   "metadata": {
    "collapsed": true
   },
   "outputs": [],
   "source": [
    "y_test = [1 if i == -1 else 0 for i in y_test]"
   ]
  },
  {
   "cell_type": "code",
   "execution_count": 160,
   "metadata": {},
   "outputs": [
    {
     "data": {
      "text/html": [
       "<div>\n",
       "<style>\n",
       "    .dataframe thead tr:only-child th {\n",
       "        text-align: right;\n",
       "    }\n",
       "\n",
       "    .dataframe thead th {\n",
       "        text-align: left;\n",
       "    }\n",
       "\n",
       "    .dataframe tbody tr th {\n",
       "        vertical-align: top;\n",
       "    }\n",
       "</style>\n",
       "<table border=\"1\" class=\"dataframe\">\n",
       "  <thead>\n",
       "    <tr style=\"text-align: right;\">\n",
       "      <th></th>\n",
       "      <th>pred_ok</th>\n",
       "      <th>pred_fraud</th>\n",
       "      <th>true_y</th>\n",
       "    </tr>\n",
       "  </thead>\n",
       "  <tbody>\n",
       "    <tr>\n",
       "      <th>0</th>\n",
       "      <td>0.762</td>\n",
       "      <td>0.238</td>\n",
       "      <td>0</td>\n",
       "    </tr>\n",
       "    <tr>\n",
       "      <th>1</th>\n",
       "      <td>0.998</td>\n",
       "      <td>0.002</td>\n",
       "      <td>0</td>\n",
       "    </tr>\n",
       "    <tr>\n",
       "      <th>2</th>\n",
       "      <td>0.997</td>\n",
       "      <td>0.003</td>\n",
       "      <td>0</td>\n",
       "    </tr>\n",
       "    <tr>\n",
       "      <th>3</th>\n",
       "      <td>0.985</td>\n",
       "      <td>0.015</td>\n",
       "      <td>0</td>\n",
       "    </tr>\n",
       "    <tr>\n",
       "      <th>4</th>\n",
       "      <td>0.998</td>\n",
       "      <td>0.002</td>\n",
       "      <td>0</td>\n",
       "    </tr>\n",
       "  </tbody>\n",
       "</table>\n",
       "</div>"
      ],
      "text/plain": [
       "   pred_ok  pred_fraud  true_y\n",
       "0    0.762       0.238       0\n",
       "1    0.998       0.002       0\n",
       "2    0.997       0.003       0\n",
       "3    0.985       0.015       0\n",
       "4    0.998       0.002       0"
      ]
     },
     "execution_count": 160,
     "metadata": {},
     "output_type": "execute_result"
    }
   ],
   "source": [
    "# generating the probability score the labelled data and concatenate it with the true target values\n",
    "pred_known = pd.DataFrame(rclf_best.predict_proba(Xrb_test), columns = ['pred_ok','pred_fraud'])\n",
    "pred_known['true_y'] = y_test\n",
    "pred_known.head()"
   ]
  },
  {
   "cell_type": "code",
   "execution_count": 161,
   "metadata": {
    "scrolled": true
   },
   "outputs": [
    {
     "name": "stdout",
     "output_type": "stream",
     "text": [
      "probability score of the 75th percentile of fraud cases: 0.995\n",
      "probability score of the 75th percentile of non-fraud cases: 0.999\n"
     ]
    }
   ],
   "source": [
    "# calculating the probability score of the 75th percentile of the fraud cases in labelled data\n",
    "prob_fraud = np.percentile(pred_known[pred_known.true_y == 1]['pred_fraud'],75)\n",
    "print 'probability score of the 75th percentile of fraud cases: {}'.format(prob_fraud)\n",
    "\n",
    "# calculating the probability score the 75th percentile of the non-fraud cases in labelled data\n",
    "prob_ok = np.percentile(pred_known[pred_known.true_y == 0]['pred_ok'],75)\n",
    "print 'probability score of the 75th percentile of non-fraud cases: {}'.format(prob_ok)"
   ]
  },
  {
   "cell_type": "code",
   "execution_count": 162,
   "metadata": {
    "collapsed": true
   },
   "outputs": [],
   "source": [
    "# obtaining the index values of transactions that is above the probability score of the the 75th percentile in labelled data\n",
    "parse_fraud_label = pred_unknown[pred_unknown.pred_fraud>=0.995].index.values\n",
    "parse_ok_label = pred_unknown[pred_unknown.pred_ok>=0.999].index.values"
   ]
  },
  {
   "cell_type": "code",
   "execution_count": 163,
   "metadata": {
    "collapsed": true,
    "scrolled": false
   },
   "outputs": [],
   "source": [
    "# concatenating the new labelled data with the original labelled data\n",
    "unlabelled_edit = unlabelled.copy()"
   ]
  },
  {
   "cell_type": "code",
   "execution_count": 164,
   "metadata": {
    "collapsed": true,
    "scrolled": true
   },
   "outputs": [],
   "source": [
    "unlabelled_edit.loc[parse_fraud_label,'insp'] = 1\n",
    "unlabelled_edit.loc[parse_ok_label,'insp'] = 0"
   ]
  },
  {
   "cell_type": "code",
   "execution_count": 165,
   "metadata": {
    "collapsed": true
   },
   "outputs": [],
   "source": [
    "new_label = unlabelled_edit[unlabelled_edit.insp != -1]"
   ]
  },
  {
   "cell_type": "code",
   "execution_count": 166,
   "metadata": {
    "collapsed": true
   },
   "outputs": [],
   "source": [
    "labelled_add = labelled.copy()\n",
    "labelled_add = pd.concat([labelled_add, new_label], axis = 0)"
   ]
  },
  {
   "cell_type": "code",
   "execution_count": 167,
   "metadata": {
    "collapsed": true,
    "scrolled": true
   },
   "outputs": [],
   "source": [
    "# segregating the X matrix and y target in the concatenated dataframe\n",
    "X_add = labelled_add.drop('insp', axis = 1)\n",
    "y_add = labelled_add.insp.values\n",
    "\n",
    "X_train_add, X_test_add, y_train_add, y_test_add = train_test_split(X_add, y_add, test_size = 0.33, random_state = 3)\n",
    "\n",
    "Xrb_train_add = rb.fit_transform(X_train_add)\n",
    "Xrb_test = rb.transform(X_test)\n",
    "\n",
    "Xrbs_train_add, ys_train_add = sm.fit_sample(Xrb_train_add, y_train_add)"
   ]
  },
  {
   "cell_type": "code",
   "execution_count": 168,
   "metadata": {
    "collapsed": true
   },
   "outputs": [],
   "source": [
    "# generating a new model based on the updated training set\n",
    "gs_params ={\n",
    "    'criterion': ['gini','entropy'],\n",
    "    'max_depth': [None,1,5,10,15],\n",
    "    'max_features': ['auto',3,5,7],\n",
    "    'n_estimators':[1000],\n",
    "    'random_state':[1]\n",
    "}\n",
    "\n",
    "rclf_gs = GridSearchCV(RandomForestClassifier(), gs_params, n_jobs = -1, verbose = 1, cv = 5)                  "
   ]
  },
  {
   "cell_type": "code",
   "execution_count": 169,
   "metadata": {},
   "outputs": [
    {
     "name": "stdout",
     "output_type": "stream",
     "text": [
      "Fitting 5 folds for each of 40 candidates, totalling 200 fits\n"
     ]
    },
    {
     "name": "stderr",
     "output_type": "stream",
     "text": [
      "[Parallel(n_jobs=-1)]: Done  42 tasks      | elapsed:  9.1min\n",
      "[Parallel(n_jobs=-1)]: Done 192 tasks      | elapsed: 50.9min\n",
      "[Parallel(n_jobs=-1)]: Done 200 out of 200 | elapsed: 55.5min finished\n"
     ]
    },
    {
     "data": {
      "text/plain": [
       "GridSearchCV(cv=5, error_score='raise',\n",
       "       estimator=RandomForestClassifier(bootstrap=True, class_weight=None, criterion='gini',\n",
       "            max_depth=None, max_features='auto', max_leaf_nodes=None,\n",
       "            min_impurity_decrease=0.0, min_impurity_split=None,\n",
       "            min_samples_leaf=1, min_samples_split=2,\n",
       "            min_weight_fraction_leaf=0.0, n_estimators=10, n_jobs=1,\n",
       "            oob_score=False, random_state=None, verbose=0,\n",
       "            warm_start=False),\n",
       "       fit_params=None, iid=True, n_jobs=-1,\n",
       "       param_grid={'max_features': ['auto', 3, 5, 7], 'n_estimators': [1000], 'random_state': [1], 'criterion': ['gini', 'entropy'], 'max_depth': [None, 1, 5, 10, 15]},\n",
       "       pre_dispatch='2*n_jobs', refit=True, return_train_score=True,\n",
       "       scoring=None, verbose=1)"
      ]
     },
     "execution_count": 169,
     "metadata": {},
     "output_type": "execute_result"
    }
   ],
   "source": [
    "rclf_gs.fit(Xrbs_train_add, ys_train_add)"
   ]
  },
  {
   "cell_type": "code",
   "execution_count": 170,
   "metadata": {},
   "outputs": [
    {
     "data": {
      "text/plain": [
       "RandomForestClassifier(bootstrap=True, class_weight=None, criterion='entropy',\n",
       "            max_depth=None, max_features='auto', max_leaf_nodes=None,\n",
       "            min_impurity_decrease=0.0, min_impurity_split=None,\n",
       "            min_samples_leaf=1, min_samples_split=2,\n",
       "            min_weight_fraction_leaf=0.0, n_estimators=1000, n_jobs=1,\n",
       "            oob_score=False, random_state=1, verbose=0, warm_start=False)"
      ]
     },
     "execution_count": 170,
     "metadata": {},
     "output_type": "execute_result"
    }
   ],
   "source": [
    "rclf_gs.best_estimator_"
   ]
  },
  {
   "cell_type": "code",
   "execution_count": 171,
   "metadata": {
    "collapsed": true
   },
   "outputs": [],
   "source": [
    "rclf_best2 = rclf_gs.best_estimator_"
   ]
  },
  {
   "cell_type": "code",
   "execution_count": 124,
   "metadata": {},
   "outputs": [
    {
     "data": {
      "text/plain": [
       "['rclf-selftrain-gs.pkl']"
      ]
     },
     "execution_count": 124,
     "metadata": {},
     "output_type": "execute_result"
    }
   ],
   "source": [
    "joblib.dump(rclf_best2, './pickle/rclf-selftrain-gs.pkl')"
   ]
  },
  {
   "cell_type": "code",
   "execution_count": 172,
   "metadata": {
    "collapsed": true
   },
   "outputs": [],
   "source": [
    "rclf_best2 = joblib.load(open('./pickle/rclf-selftrain-gs.pkl', 'rb'))"
   ]
  },
  {
   "cell_type": "code",
   "execution_count": 173,
   "metadata": {
    "collapsed": true
   },
   "outputs": [],
   "source": [
    "# calculating the metric scores of the semi-supervised model based on the base test set, test set 1\n",
    "rclf_best2_score, rclf_best2_precision, rclf_best2_recall, rclf_best2_f1, rclf_best2_auc = \\\n",
    "sup_perf(rclf_best2, Xrb_test, y_test)"
   ]
  },
  {
   "cell_type": "code",
   "execution_count": 174,
   "metadata": {},
   "outputs": [
    {
     "data": {
      "text/html": [
       "<div>\n",
       "<style>\n",
       "    .dataframe thead tr:only-child th {\n",
       "        text-align: right;\n",
       "    }\n",
       "\n",
       "    .dataframe thead th {\n",
       "        text-align: left;\n",
       "    }\n",
       "\n",
       "    .dataframe tbody tr th {\n",
       "        vertical-align: top;\n",
       "    }\n",
       "</style>\n",
       "<table border=\"1\" class=\"dataframe\">\n",
       "  <thead>\n",
       "    <tr style=\"text-align: right;\">\n",
       "      <th></th>\n",
       "      <th>rclf (supervised)</th>\n",
       "      <th>rclf (semi-supervised)</th>\n",
       "    </tr>\n",
       "  </thead>\n",
       "  <tbody>\n",
       "    <tr>\n",
       "      <th>accuracy score</th>\n",
       "      <td>0.973025</td>\n",
       "      <td>0.990559</td>\n",
       "    </tr>\n",
       "    <tr>\n",
       "      <th>precision score (fraud)</th>\n",
       "      <td>0.808889</td>\n",
       "      <td>0.930070</td>\n",
       "    </tr>\n",
       "    <tr>\n",
       "      <th>recall score (fraud)</th>\n",
       "      <td>0.870813</td>\n",
       "      <td>0.954545</td>\n",
       "    </tr>\n",
       "    <tr>\n",
       "      <th>f1 score (fraud)</th>\n",
       "      <td>0.838710</td>\n",
       "      <td>0.942149</td>\n",
       "    </tr>\n",
       "    <tr>\n",
       "      <th>auc score (unweighted mean)</th>\n",
       "      <td>0.926396</td>\n",
       "      <td>0.974129</td>\n",
       "    </tr>\n",
       "  </tbody>\n",
       "</table>\n",
       "</div>"
      ],
      "text/plain": [
       "                             rclf (supervised)  rclf (semi-supervised)\n",
       "accuracy score                        0.973025                0.990559\n",
       "precision score (fraud)               0.808889                0.930070\n",
       "recall score (fraud)                  0.870813                0.954545\n",
       "f1 score (fraud)                      0.838710                0.942149\n",
       "auc score (unweighted mean)           0.926396                0.974129"
      ]
     },
     "execution_count": 174,
     "metadata": {},
     "output_type": "execute_result"
    }
   ],
   "source": [
    "# comparing the optimised random forest models from the supervised method and semi-supervised method\n",
    "comparison_test_norm = pd.DataFrame({'rclf (supervised)':[rclf_best_score, rclf_best_precision, rclf_best_recall, rclf_best_f1, rclf_best_auc],\\\n",
    "                                     'rclf (semi-supervised)':[rclf_best2_score, rclf_best2_precision, rclf_best2_recall, rclf_best2_f1, rclf_best2_auc]},\\\n",
    "                                    index = ['accuracy score','precision score (fraud)','recall score (fraud)','f1 score (fraud)','auc score (unweighted mean)'])\n",
    "comparison_test_norm = comparison_test_norm[['rclf (supervised)','rclf (semi-supervised)']]\n",
    "comparison_test_norm"
   ]
  },
  {
   "cell_type": "code",
   "execution_count": 175,
   "metadata": {
    "collapsed": true
   },
   "outputs": [],
   "source": [
    "rclf_best2_yhat = rclf_best2.predict(Xrb_test)"
   ]
  },
  {
   "cell_type": "code",
   "execution_count": 178,
   "metadata": {},
   "outputs": [
    {
     "data": {
      "text/html": [
       "<div>\n",
       "<style>\n",
       "    .dataframe thead tr:only-child th {\n",
       "        text-align: right;\n",
       "    }\n",
       "\n",
       "    .dataframe thead th {\n",
       "        text-align: left;\n",
       "    }\n",
       "\n",
       "    .dataframe tbody tr th {\n",
       "        vertical-align: top;\n",
       "    }\n",
       "</style>\n",
       "<table border=\"1\" class=\"dataframe\">\n",
       "  <thead>\n",
       "    <tr style=\"text-align: right;\">\n",
       "      <th></th>\n",
       "      <th>features</th>\n",
       "      <th>importance</th>\n",
       "    </tr>\n",
       "  </thead>\n",
       "  <tbody>\n",
       "    <tr>\n",
       "      <th>2</th>\n",
       "      <td>unit_price</td>\n",
       "      <td>0.351982</td>\n",
       "    </tr>\n",
       "    <tr>\n",
       "      <th>0</th>\n",
       "      <td>quant</td>\n",
       "      <td>0.151673</td>\n",
       "    </tr>\n",
       "    <tr>\n",
       "      <th>1</th>\n",
       "      <td>val</td>\n",
       "      <td>0.145534</td>\n",
       "    </tr>\n",
       "    <tr>\n",
       "      <th>4</th>\n",
       "      <td>Q1_up</td>\n",
       "      <td>0.125535</td>\n",
       "    </tr>\n",
       "    <tr>\n",
       "      <th>3</th>\n",
       "      <td>median_up</td>\n",
       "      <td>0.109003</td>\n",
       "    </tr>\n",
       "    <tr>\n",
       "      <th>5</th>\n",
       "      <td>std</td>\n",
       "      <td>0.069576</td>\n",
       "    </tr>\n",
       "    <tr>\n",
       "      <th>6</th>\n",
       "      <td>revenue_per_trans</td>\n",
       "      <td>0.046697</td>\n",
       "    </tr>\n",
       "  </tbody>\n",
       "</table>\n",
       "</div>"
      ],
      "text/plain": [
       "            features  importance\n",
       "2         unit_price    0.351982\n",
       "0              quant    0.151673\n",
       "1                val    0.145534\n",
       "4              Q1_up    0.125535\n",
       "3          median_up    0.109003\n",
       "5                std    0.069576\n",
       "6  revenue_per_trans    0.046697"
      ]
     },
     "execution_count": 178,
     "metadata": {},
     "output_type": "execute_result"
    }
   ],
   "source": [
    "# observing feature importance of optimised random forest model\n",
    "feature_impt = pd.DataFrame({'importance': rclf_best2.feature_importances_, 'features':X.columns})\n",
    "feature_impt.sort_values('importance', ascending = False)"
   ]
  },
  {
   "cell_type": "code",
   "execution_count": 179,
   "metadata": {},
   "outputs": [
    {
     "name": "stdout",
     "output_type": "stream",
     "text": [
      "             precision    recall  f1-score   support\n",
      "\n",
      "  non-fraud       1.00      0.99      0.99      4772\n",
      "      fraud       0.93      0.95      0.94       418\n",
      "\n",
      "avg / total       0.99      0.99      0.99      5190\n",
      "\n"
     ]
    }
   ],
   "source": [
    "print classification_report(y_test, rclf_best2_yhat, labels = [0,1], target_names=['non-fraud','fraud'])"
   ]
  },
  {
   "cell_type": "code",
   "execution_count": 180,
   "metadata": {
    "scrolled": true
   },
   "outputs": [
    {
     "data": {
      "text/html": [
       "<div>\n",
       "<style>\n",
       "    .dataframe thead tr:only-child th {\n",
       "        text-align: right;\n",
       "    }\n",
       "\n",
       "    .dataframe thead th {\n",
       "        text-align: left;\n",
       "    }\n",
       "\n",
       "    .dataframe tbody tr th {\n",
       "        vertical-align: top;\n",
       "    }\n",
       "</style>\n",
       "<table border=\"1\" class=\"dataframe\">\n",
       "  <thead>\n",
       "    <tr style=\"text-align: right;\">\n",
       "      <th></th>\n",
       "      <th>is_ok</th>\n",
       "      <th>is_fraud</th>\n",
       "    </tr>\n",
       "  </thead>\n",
       "  <tbody>\n",
       "    <tr>\n",
       "      <th>pred_ok</th>\n",
       "      <td>4742</td>\n",
       "      <td>30</td>\n",
       "    </tr>\n",
       "    <tr>\n",
       "      <th>pred_fraud</th>\n",
       "      <td>19</td>\n",
       "      <td>399</td>\n",
       "    </tr>\n",
       "  </tbody>\n",
       "</table>\n",
       "</div>"
      ],
      "text/plain": [
       "            is_ok  is_fraud\n",
       "pred_ok      4742        30\n",
       "pred_fraud     19       399"
      ]
     },
     "execution_count": 180,
     "metadata": {},
     "output_type": "execute_result"
    }
   ],
   "source": [
    "conmat2 = pd.DataFrame(confusion_matrix(y_test, rclf_best2_yhat, labels = [0,1]),\n",
    "                      index = ['pred_ok','pred_fraud'],\n",
    "                      columns = ['is_ok','is_fraud'])\n",
    "conmat2"
   ]
  },
  {
   "cell_type": "markdown",
   "metadata": {},
   "source": [
    "**Conclusion**\n",
    "\n",
    "From the above tables, we can see that the semi-supervised random forest model gives us a better score in every metric than the supervised model. "
   ]
  },
  {
   "cell_type": "markdown",
   "metadata": {},
   "source": [
    "## Fraud Ranking System\n",
    "\n",
    "After identifying the best model to use, we shall now use it to rank the remaining unlabelled data from the highest probability that the transaction is a fraudulent transaction to the lowest probability."
   ]
  },
  {
   "cell_type": "code",
   "execution_count": 181,
   "metadata": {
    "collapsed": true
   },
   "outputs": [],
   "source": [
    "# filtering out the data that was used for the semi-supervised model\n",
    "unlabelled_lo = unlabelled_edit.drop(new_label.index.values, axis = 0)"
   ]
  },
  {
   "cell_type": "code",
   "execution_count": 182,
   "metadata": {},
   "outputs": [
    {
     "name": "stdout",
     "output_type": "stream",
     "text": [
      "number of unlabelled data: 378284\n"
     ]
    },
    {
     "data": {
      "text/html": [
       "<div>\n",
       "<style>\n",
       "    .dataframe thead tr:only-child th {\n",
       "        text-align: right;\n",
       "    }\n",
       "\n",
       "    .dataframe thead th {\n",
       "        text-align: left;\n",
       "    }\n",
       "\n",
       "    .dataframe tbody tr th {\n",
       "        vertical-align: top;\n",
       "    }\n",
       "</style>\n",
       "<table border=\"1\" class=\"dataframe\">\n",
       "  <thead>\n",
       "    <tr style=\"text-align: right;\">\n",
       "      <th></th>\n",
       "      <th>quant</th>\n",
       "      <th>val</th>\n",
       "      <th>insp</th>\n",
       "      <th>unit_price</th>\n",
       "      <th>median_up</th>\n",
       "      <th>Q1_up</th>\n",
       "      <th>std</th>\n",
       "      <th>revenue_per_trans</th>\n",
       "    </tr>\n",
       "  </thead>\n",
       "  <tbody>\n",
       "    <tr>\n",
       "      <th>1</th>\n",
       "      <td>182.0</td>\n",
       "      <td>1665.0</td>\n",
       "      <td>-1</td>\n",
       "      <td>9.148352</td>\n",
       "      <td>11.428571</td>\n",
       "      <td>7.923804</td>\n",
       "      <td>8.290623</td>\n",
       "      <td>9552.395833</td>\n",
       "    </tr>\n",
       "    <tr>\n",
       "      <th>2</th>\n",
       "      <td>3072.0</td>\n",
       "      <td>8780.0</td>\n",
       "      <td>-1</td>\n",
       "      <td>2.858073</td>\n",
       "      <td>11.428571</td>\n",
       "      <td>7.923804</td>\n",
       "      <td>8.290623</td>\n",
       "      <td>21807.500000</td>\n",
       "    </tr>\n",
       "    <tr>\n",
       "      <th>3</th>\n",
       "      <td>20393.0</td>\n",
       "      <td>76990.0</td>\n",
       "      <td>-1</td>\n",
       "      <td>3.775315</td>\n",
       "      <td>11.428571</td>\n",
       "      <td>7.923804</td>\n",
       "      <td>8.290623</td>\n",
       "      <td>19903.461538</td>\n",
       "    </tr>\n",
       "    <tr>\n",
       "      <th>4</th>\n",
       "      <td>112.0</td>\n",
       "      <td>1100.0</td>\n",
       "      <td>-1</td>\n",
       "      <td>9.821429</td>\n",
       "      <td>11.428571</td>\n",
       "      <td>7.923804</td>\n",
       "      <td>8.290623</td>\n",
       "      <td>1339.477828</td>\n",
       "    </tr>\n",
       "    <tr>\n",
       "      <th>5</th>\n",
       "      <td>6164.0</td>\n",
       "      <td>20260.0</td>\n",
       "      <td>-1</td>\n",
       "      <td>3.286827</td>\n",
       "      <td>11.428571</td>\n",
       "      <td>7.923804</td>\n",
       "      <td>8.290623</td>\n",
       "      <td>19903.461538</td>\n",
       "    </tr>\n",
       "  </tbody>\n",
       "</table>\n",
       "</div>"
      ],
      "text/plain": [
       "     quant      val  insp  unit_price  median_up     Q1_up       std  \\\n",
       "1    182.0   1665.0    -1    9.148352  11.428571  7.923804  8.290623   \n",
       "2   3072.0   8780.0    -1    2.858073  11.428571  7.923804  8.290623   \n",
       "3  20393.0  76990.0    -1    3.775315  11.428571  7.923804  8.290623   \n",
       "4    112.0   1100.0    -1    9.821429  11.428571  7.923804  8.290623   \n",
       "5   6164.0  20260.0    -1    3.286827  11.428571  7.923804  8.290623   \n",
       "\n",
       "   revenue_per_trans  \n",
       "1        9552.395833  \n",
       "2       21807.500000  \n",
       "3       19903.461538  \n",
       "4        1339.477828  \n",
       "5       19903.461538  "
      ]
     },
     "execution_count": 182,
     "metadata": {},
     "output_type": "execute_result"
    }
   ],
   "source": [
    "print 'number of unlabelled data: {}'.format(unlabelled_lo.shape[0])\n",
    "unlabelled_lo.head()"
   ]
  },
  {
   "cell_type": "code",
   "execution_count": 183,
   "metadata": {
    "collapsed": true
   },
   "outputs": [],
   "source": [
    "# creating a fraud ranking system based on probability\n",
    "# sorting by highest probability of the transaction to be a fraud to the lowest\n",
    "pred_unknown2 = pd.DataFrame(rclf_best2.predict_proba(unlabelled_lo.drop('insp', axis = 1)), columns = ['pred_ok','pred_fraud'])\n",
    "pred_unknown2.sort_values('pred_fraud', ascending = False, inplace = True)"
   ]
  },
  {
   "cell_type": "code",
   "execution_count": 184,
   "metadata": {},
   "outputs": [
    {
     "data": {
      "text/html": [
       "<div>\n",
       "<style>\n",
       "    .dataframe thead tr:only-child th {\n",
       "        text-align: right;\n",
       "    }\n",
       "\n",
       "    .dataframe thead th {\n",
       "        text-align: left;\n",
       "    }\n",
       "\n",
       "    .dataframe tbody tr th {\n",
       "        vertical-align: top;\n",
       "    }\n",
       "</style>\n",
       "<table border=\"1\" class=\"dataframe\">\n",
       "  <thead>\n",
       "    <tr style=\"text-align: right;\">\n",
       "      <th></th>\n",
       "      <th>pred_ok</th>\n",
       "      <th>pred_fraud</th>\n",
       "    </tr>\n",
       "  </thead>\n",
       "  <tbody>\n",
       "    <tr>\n",
       "      <th>47</th>\n",
       "      <td>0.142</td>\n",
       "      <td>0.858</td>\n",
       "    </tr>\n",
       "    <tr>\n",
       "      <th>326994</th>\n",
       "      <td>0.143</td>\n",
       "      <td>0.857</td>\n",
       "    </tr>\n",
       "    <tr>\n",
       "      <th>359453</th>\n",
       "      <td>0.146</td>\n",
       "      <td>0.854</td>\n",
       "    </tr>\n",
       "    <tr>\n",
       "      <th>92815</th>\n",
       "      <td>0.148</td>\n",
       "      <td>0.852</td>\n",
       "    </tr>\n",
       "    <tr>\n",
       "      <th>67777</th>\n",
       "      <td>0.148</td>\n",
       "      <td>0.852</td>\n",
       "    </tr>\n",
       "    <tr>\n",
       "      <th>324872</th>\n",
       "      <td>0.150</td>\n",
       "      <td>0.850</td>\n",
       "    </tr>\n",
       "    <tr>\n",
       "      <th>92804</th>\n",
       "      <td>0.151</td>\n",
       "      <td>0.849</td>\n",
       "    </tr>\n",
       "    <tr>\n",
       "      <th>159656</th>\n",
       "      <td>0.151</td>\n",
       "      <td>0.849</td>\n",
       "    </tr>\n",
       "    <tr>\n",
       "      <th>112821</th>\n",
       "      <td>0.152</td>\n",
       "      <td>0.848</td>\n",
       "    </tr>\n",
       "    <tr>\n",
       "      <th>108448</th>\n",
       "      <td>0.152</td>\n",
       "      <td>0.848</td>\n",
       "    </tr>\n",
       "  </tbody>\n",
       "</table>\n",
       "</div>"
      ],
      "text/plain": [
       "        pred_ok  pred_fraud\n",
       "47        0.142       0.858\n",
       "326994    0.143       0.857\n",
       "359453    0.146       0.854\n",
       "92815     0.148       0.852\n",
       "67777     0.148       0.852\n",
       "324872    0.150       0.850\n",
       "92804     0.151       0.849\n",
       "159656    0.151       0.849\n",
       "112821    0.152       0.848\n",
       "108448    0.152       0.848"
      ]
     },
     "execution_count": 184,
     "metadata": {},
     "output_type": "execute_result"
    }
   ],
   "source": [
    "# showcasing the top ten transactions that has the highest probability of being a fraudulent transaction\n",
    "pred_unknown2.head(10)"
   ]
  },
  {
   "cell_type": "code",
   "execution_count": 185,
   "metadata": {},
   "outputs": [
    {
     "data": {
      "image/png": "[encoded data removed]",
      "text/plain": [
       "<matplotlib.figure.Figure at 0x1a18461ad0>"
      ]
     },
     "metadata": {
      "image/png": {
       "height": 260,
       "width": 447
      }
     },
     "output_type": "display_data"
    }
   ],
   "source": [
    "# histogram showcasing the distribution of probable fraudulent cases\n",
    "_ = plt.hist(pred_unknown2.pred_fraud, bins = 10)\n",
    "_ = plt.ylabel('Frequency')\n",
    "_ = plt.xlabel('Probability bins')"
   ]
  },
  {
   "cell_type": "markdown",
   "metadata": {},
   "source": [
    "# Summary\n",
    "\n",
    "From all the models that we have ran, the semi-supervised random forest model produces the best model in predicting fraudulent transactions case. It has an accuracy of 0.991, which beats the baseline accuracy of 0.919. Furthermore, it has excellent precision, recall and f1 score for the fraudulent class (minority class).\n",
    "\n",
    "We can use this model to rank transactions based on fraudulent probability and audit checks can be conducted on those transactions where the probability is very high. This will enable the company to maximise its limited resources in catching fraudulent cases.\n",
    "\n",
    "In terms of complexity, computation time and ease of understanding, I would think that random forest would be one of the better models. Since, it is made out of decision trees, it is easy for the user to visualise the splits and understand how did the model make the classification.\n",
    "\n",
    "**Lessons learnt**\n",
    "- In the case where we are unable to obtain such a good score for precision, recall and f1, it is always useful to obtain a cost matrix that informs us on the cost of a false positive and a false negative. With this knowledge, we can optimise the model to maximise cost savings.\n",
    "\n",
    "\n",
    "- When dealing with a highly imbalanced dataset, it is always good to create a more rigour test set by tweaking the distribution of classes in it. E.g. making the minoriy class the majority in the test set. This will enable you to check whether the model you have trained is overfitting.\n",
    "\n",
    "\n",
    "- It is always good to conduct cross-validation to ascertain that your hypothesis is right. \n",
    "\n",
    "\n",
    "- Instead of jumping straight into the problem, it is always good to take a step back and draw up a workflow on how you are going to handle the problem. This will enable you to have a much better train of thought and your codes would be much neater. E.g. I had to re-write my codes multiple times because I realised that I was repeating some codes. As such, I had created a function to make my python notebook much neater.\n"
   ]
  }
 ],
 "metadata": {
  "kernelspec": {
   "display_name": "Python 2",
   "language": "python",
   "name": "python2"
  },
  "language_info": {
   "codemirror_mode": {
    "name": "ipython",
    "version": 2
   },
   "file_extension": ".py",
   "mimetype": "text/x-python",
   "name": "python",
   "nbconvert_exporter": "python",
   "pygments_lexer": "ipython2",
   "version": "2.7.13"
  }
 },
 "nbformat": 4,
 "nbformat_minor": 2
}
